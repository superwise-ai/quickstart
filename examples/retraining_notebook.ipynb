{
  "cells": [
    {
      "cell_type": "markdown",
      "source": [
        "---\n",
        "## 🚀 Setup\n",
        "\n",
        "Start out by preparing the requirements so you can start getting insights:\n",
        "\n",
        "1. Install with dependencies\n",
        "\n",
        "2. Import libraries and declare parameters\n",
        "\n",
        "3. Get Superwise Token\n",
        "---"
      ],
      "metadata": {
        "id": "2UBcdyuzmDta"
      },
      "id": "2UBcdyuzmDta"
    },
    {
      "cell_type": "markdown",
      "id": "3c700160-2624-4309-8f54-5a295d230bf9",
      "metadata": {
        "tags": [],
        "id": "3c700160-2624-4309-8f54-5a295d230bf9"
      },
      "source": [
        "**🪄 Declare parameters for this Notebook**"
      ]
    },
    {
      "cell_type": "code",
      "execution_count": 48,
      "id": "1835a0b4-6589-43a7-8e94-9ffcaf72b4a5",
      "metadata": {
        "id": "1835a0b4-6589-43a7-8e94-9ffcaf72b4a5"
      },
      "outputs": [],
      "source": [
        "ACCOUNT_NAME = \"demo\"\n",
        "CLIENT_ID = '[Client]'\n",
        "SECRET = '[Secret]'\n",
        "MODEL_NAME = 'Fraud Detection'\n",
        "VERSION_NAME = 'v1.12'\n",
        "FROM_DATE = '2022-03-01 00:00:00'\n",
        "TO_DATE = '2022-03-31 00:00:00'"
      ]
    },
    {
      "cell_type": "markdown",
      "id": "7dec86c9-8307-4c74-9641-392efb8bec8a",
      "metadata": {
        "tags": [],
        "id": "7dec86c9-8307-4c74-9641-392efb8bec8a"
      },
      "source": [
        "**Install And Imports**"
      ]
    },
    {
      "cell_type": "code",
      "execution_count": 2,
      "id": "85602f22-80eb-4c58-ba49-922f89e34f7c",
      "metadata": {
        "id": "85602f22-80eb-4c58-ba49-922f89e34f7c",
        "colab": {
          "base_uri": "https://localhost:8080/"
        },
        "outputId": "f3af620f-6f44-4d46-9c41-b21ab2ed2510"
      },
      "outputs": [
        {
          "output_type": "stream",
          "name": "stdout",
          "text": [
            "Requirement already satisfied: jupyter-plotly-dash in /usr/local/lib/python3.7/dist-packages (0.4.3)\n",
            "Requirement already satisfied: jupyter-dash in /usr/local/lib/python3.7/dist-packages (0.4.2)\n",
            "Requirement already satisfied: dash==2.1.0 in /usr/local/lib/python3.7/dist-packages (2.1.0)\n",
            "Requirement already satisfied: dash-html-components==2.0.0 in /usr/local/lib/python3.7/dist-packages (from dash==2.1.0) (2.0.0)\n",
            "Requirement already satisfied: Flask>=1.0.4 in /usr/local/lib/python3.7/dist-packages (from dash==2.1.0) (1.1.4)\n",
            "Requirement already satisfied: dash-core-components==2.0.0 in /usr/local/lib/python3.7/dist-packages (from dash==2.1.0) (2.0.0)\n",
            "Requirement already satisfied: dash-table==5.0.0 in /usr/local/lib/python3.7/dist-packages (from dash==2.1.0) (5.0.0)\n",
            "Requirement already satisfied: plotly>=5.0.0 in /usr/local/lib/python3.7/dist-packages (from dash==2.1.0) (5.4.0)\n",
            "Requirement already satisfied: flask-compress in /usr/local/lib/python3.7/dist-packages (from dash==2.1.0) (1.12)\n",
            "Requirement already satisfied: click<8.0,>=5.1 in /usr/local/lib/python3.7/dist-packages (from Flask>=1.0.4->dash==2.1.0) (7.1.2)\n",
            "Collecting Jinja2<3.0,>=2.10.1\n",
            "  Using cached Jinja2-2.11.3-py2.py3-none-any.whl (125 kB)\n",
            "Requirement already satisfied: itsdangerous<2.0,>=0.24 in /usr/local/lib/python3.7/dist-packages (from Flask>=1.0.4->dash==2.1.0) (1.1.0)\n",
            "Requirement already satisfied: Werkzeug<2.0,>=0.15 in /usr/local/lib/python3.7/dist-packages (from Flask>=1.0.4->dash==2.1.0) (1.0.1)\n",
            "Requirement already satisfied: MarkupSafe>=0.23 in /usr/local/lib/python3.7/dist-packages (from Jinja2<3.0,>=2.10.1->Flask>=1.0.4->dash==2.1.0) (2.0.1)\n",
            "Requirement already satisfied: tenacity>=6.2.0 in /usr/local/lib/python3.7/dist-packages (from plotly>=5.0.0->dash==2.1.0) (8.0.1)\n",
            "Requirement already satisfied: six in /usr/local/lib/python3.7/dist-packages (from plotly>=5.0.0->dash==2.1.0) (1.15.0)\n",
            "Requirement already satisfied: django-bootstrap4 in /usr/local/lib/python3.7/dist-packages (from jupyter-plotly-dash) (22.1)\n",
            "Requirement already satisfied: django-plotly-dash in /usr/local/lib/python3.7/dist-packages (from jupyter-plotly-dash) (1.6.5)\n",
            "Requirement already satisfied: dpd-static-support in /usr/local/lib/python3.7/dist-packages (from jupyter-plotly-dash) (0.0.5)\n",
            "Requirement already satisfied: dpd-components in /usr/local/lib/python3.7/dist-packages (from jupyter-plotly-dash) (0.1.0)\n",
            "Requirement already satisfied: nbserverproxy in /usr/local/lib/python3.7/dist-packages (from jupyter-plotly-dash) (0.8.8)\n",
            "Requirement already satisfied: jupyter in /usr/local/lib/python3.7/dist-packages (from jupyter-plotly-dash) (1.0.0)\n",
            "Requirement already satisfied: aiohttp in /usr/local/lib/python3.7/dist-packages (from jupyter-plotly-dash) (3.8.1)\n",
            "Requirement already satisfied: ansi2html in /usr/local/lib/python3.7/dist-packages (from jupyter-dash) (1.7.0)\n",
            "Requirement already satisfied: ipykernel in /usr/local/lib/python3.7/dist-packages (from jupyter-dash) (4.10.1)\n",
            "Requirement already satisfied: retrying in /usr/local/lib/python3.7/dist-packages (from jupyter-dash) (1.3.3)\n",
            "Requirement already satisfied: ipython in /usr/local/lib/python3.7/dist-packages (from jupyter-dash) (5.5.0)\n",
            "Requirement already satisfied: requests in /usr/local/lib/python3.7/dist-packages (from jupyter-dash) (2.23.0)\n",
            "Requirement already satisfied: nest-asyncio in /usr/local/lib/python3.7/dist-packages (from jupyter-dash) (1.5.5)\n",
            "Requirement already satisfied: charset-normalizer<3.0,>=2.0 in /usr/local/lib/python3.7/dist-packages (from aiohttp->jupyter-plotly-dash) (2.0.12)\n",
            "Requirement already satisfied: aiosignal>=1.1.2 in /usr/local/lib/python3.7/dist-packages (from aiohttp->jupyter-plotly-dash) (1.2.0)\n",
            "Requirement already satisfied: frozenlist>=1.1.1 in /usr/local/lib/python3.7/dist-packages (from aiohttp->jupyter-plotly-dash) (1.3.0)\n",
            "Requirement already satisfied: async-timeout<5.0,>=4.0.0a3 in /usr/local/lib/python3.7/dist-packages (from aiohttp->jupyter-plotly-dash) (4.0.2)\n",
            "Requirement already satisfied: multidict<7.0,>=4.5 in /usr/local/lib/python3.7/dist-packages (from aiohttp->jupyter-plotly-dash) (6.0.2)\n",
            "Requirement already satisfied: asynctest==0.13.0 in /usr/local/lib/python3.7/dist-packages (from aiohttp->jupyter-plotly-dash) (0.13.0)\n",
            "Requirement already satisfied: yarl<2.0,>=1.0 in /usr/local/lib/python3.7/dist-packages (from aiohttp->jupyter-plotly-dash) (1.7.2)\n",
            "Requirement already satisfied: typing-extensions>=3.7.4 in /usr/local/lib/python3.7/dist-packages (from aiohttp->jupyter-plotly-dash) (4.2.0)\n",
            "Requirement already satisfied: attrs>=17.3.0 in /usr/local/lib/python3.7/dist-packages (from aiohttp->jupyter-plotly-dash) (21.4.0)\n",
            "Requirement already satisfied: idna>=2.0 in /usr/local/lib/python3.7/dist-packages (from yarl<2.0,>=1.0->aiohttp->jupyter-plotly-dash) (2.10)\n",
            "Requirement already satisfied: importlib-metadata in /usr/local/lib/python3.7/dist-packages (from ansi2html->jupyter-dash) (4.11.3)\n",
            "Requirement already satisfied: beautifulsoup4>=4.8.0 in /usr/local/lib/python3.7/dist-packages (from django-bootstrap4->jupyter-plotly-dash) (4.11.1)\n",
            "Requirement already satisfied: Django>=2.2 in /usr/local/lib/python3.7/dist-packages (from django-bootstrap4->jupyter-plotly-dash) (3.2.13)\n",
            "Collecting importlib-metadata\n",
            "  Using cached importlib_metadata-2.1.3-py2.py3-none-any.whl (10 kB)\n",
            "Requirement already satisfied: soupsieve>1.2 in /usr/local/lib/python3.7/dist-packages (from beautifulsoup4>=4.8.0->django-bootstrap4->jupyter-plotly-dash) (2.3.2.post1)\n",
            "Requirement already satisfied: pytz in /usr/local/lib/python3.7/dist-packages (from Django>=2.2->django-bootstrap4->jupyter-plotly-dash) (2022.1)\n",
            "Requirement already satisfied: sqlparse>=0.2.2 in /usr/local/lib/python3.7/dist-packages (from Django>=2.2->django-bootstrap4->jupyter-plotly-dash) (0.4.2)\n",
            "Requirement already satisfied: asgiref<4,>=3.3.2 in /usr/local/lib/python3.7/dist-packages (from Django>=2.2->django-bootstrap4->jupyter-plotly-dash) (3.5.2)\n",
            "Requirement already satisfied: zipp>=0.5 in /usr/local/lib/python3.7/dist-packages (from importlib-metadata->ansi2html->jupyter-dash) (3.8.0)\n",
            "Requirement already satisfied: dash-renderer in /usr/local/lib/python3.7/dist-packages (from django-plotly-dash->jupyter-plotly-dash) (1.9.1)\n",
            "Requirement already satisfied: brotli in /usr/local/lib/python3.7/dist-packages (from flask-compress->dash==2.1.0) (1.0.9)\n",
            "Requirement already satisfied: jupyter-client in /usr/local/lib/python3.7/dist-packages (from ipykernel->jupyter-dash) (7.3.1)\n",
            "Requirement already satisfied: tornado>=4.0 in /usr/local/lib/python3.7/dist-packages (from ipykernel->jupyter-dash) (6.1)\n",
            "Requirement already satisfied: traitlets>=4.1.0 in /usr/local/lib/python3.7/dist-packages (from ipykernel->jupyter-dash) (5.2.0)\n",
            "Requirement already satisfied: decorator in /usr/local/lib/python3.7/dist-packages (from ipython->jupyter-dash) (4.4.2)\n",
            "Requirement already satisfied: simplegeneric>0.8 in /usr/local/lib/python3.7/dist-packages (from ipython->jupyter-dash) (0.8.1)\n",
            "Requirement already satisfied: prompt-toolkit<2.0.0,>=1.0.4 in /usr/local/lib/python3.7/dist-packages (from ipython->jupyter-dash) (1.0.18)\n",
            "Requirement already satisfied: pexpect in /usr/local/lib/python3.7/dist-packages (from ipython->jupyter-dash) (4.8.0)\n",
            "Requirement already satisfied: setuptools>=18.5 in /usr/local/lib/python3.7/dist-packages (from ipython->jupyter-dash) (57.4.0)\n",
            "Requirement already satisfied: pygments in /usr/local/lib/python3.7/dist-packages (from ipython->jupyter-dash) (2.6.1)\n",
            "Requirement already satisfied: pickleshare in /usr/local/lib/python3.7/dist-packages (from ipython->jupyter-dash) (0.7.5)\n",
            "Requirement already satisfied: wcwidth in /usr/local/lib/python3.7/dist-packages (from prompt-toolkit<2.0.0,>=1.0.4->ipython->jupyter-dash) (0.2.5)\n",
            "Requirement already satisfied: jupyter-console in /usr/local/lib/python3.7/dist-packages (from jupyter->jupyter-plotly-dash) (5.2.0)\n",
            "Requirement already satisfied: nbconvert in /usr/local/lib/python3.7/dist-packages (from jupyter->jupyter-plotly-dash) (6.4.5)\n",
            "Requirement already satisfied: qtconsole in /usr/local/lib/python3.7/dist-packages (from jupyter->jupyter-plotly-dash) (5.3.0)\n",
            "Requirement already satisfied: ipywidgets in /usr/local/lib/python3.7/dist-packages (from jupyter->jupyter-plotly-dash) (7.7.0)\n",
            "Requirement already satisfied: notebook in /usr/local/lib/python3.7/dist-packages (from jupyter->jupyter-plotly-dash) (5.3.1)\n",
            "Requirement already satisfied: widgetsnbextension~=3.6.0 in /usr/local/lib/python3.7/dist-packages (from ipywidgets->jupyter->jupyter-plotly-dash) (3.6.0)\n",
            "Requirement already satisfied: nbformat>=4.2.0 in /usr/local/lib/python3.7/dist-packages (from ipywidgets->jupyter->jupyter-plotly-dash) (5.4.0)\n",
            "Requirement already satisfied: ipython-genutils~=0.2.0 in /usr/local/lib/python3.7/dist-packages (from ipywidgets->jupyter->jupyter-plotly-dash) (0.2.0)\n",
            "Requirement already satisfied: jupyterlab-widgets>=1.0.0 in /usr/local/lib/python3.7/dist-packages (from ipywidgets->jupyter->jupyter-plotly-dash) (1.1.0)\n",
            "Requirement already satisfied: jsonschema>=2.6 in /usr/local/lib/python3.7/dist-packages (from nbformat>=4.2.0->ipywidgets->jupyter->jupyter-plotly-dash) (4.3.3)\n",
            "Requirement already satisfied: fastjsonschema in /usr/local/lib/python3.7/dist-packages (from nbformat>=4.2.0->ipywidgets->jupyter->jupyter-plotly-dash) (2.15.3)\n",
            "Requirement already satisfied: jupyter-core in /usr/local/lib/python3.7/dist-packages (from nbformat>=4.2.0->ipywidgets->jupyter->jupyter-plotly-dash) (4.10.0)\n",
            "Requirement already satisfied: pyrsistent!=0.17.0,!=0.17.1,!=0.17.2,>=0.14.0 in /usr/local/lib/python3.7/dist-packages (from jsonschema>=2.6->nbformat>=4.2.0->ipywidgets->jupyter->jupyter-plotly-dash) (0.18.1)\n",
            "Requirement already satisfied: importlib-resources>=1.4.0 in /usr/local/lib/python3.7/dist-packages (from jsonschema>=2.6->nbformat>=4.2.0->ipywidgets->jupyter->jupyter-plotly-dash) (5.7.1)\n",
            "Requirement already satisfied: terminado>=0.8.1 in /usr/local/lib/python3.7/dist-packages (from notebook->jupyter->jupyter-plotly-dash) (0.13.3)\n",
            "Requirement already satisfied: Send2Trash in /usr/local/lib/python3.7/dist-packages (from notebook->jupyter->jupyter-plotly-dash) (1.8.0)\n",
            "Requirement already satisfied: entrypoints in /usr/local/lib/python3.7/dist-packages (from jupyter-client->ipykernel->jupyter-dash) (0.4)\n",
            "Requirement already satisfied: python-dateutil>=2.8.2 in /usr/local/lib/python3.7/dist-packages (from jupyter-client->ipykernel->jupyter-dash) (2.8.2)\n",
            "Requirement already satisfied: pyzmq>=22.3 in /usr/local/lib/python3.7/dist-packages (from jupyter-client->ipykernel->jupyter-dash) (22.3.0)\n",
            "Requirement already satisfied: ptyprocess in /usr/local/lib/python3.7/dist-packages (from terminado>=0.8.1->notebook->jupyter->jupyter-plotly-dash) (0.7.0)\n",
            "Requirement already satisfied: defusedxml in /usr/local/lib/python3.7/dist-packages (from nbconvert->jupyter->jupyter-plotly-dash) (0.7.1)\n",
            "Requirement already satisfied: testpath in /usr/local/lib/python3.7/dist-packages (from nbconvert->jupyter->jupyter-plotly-dash) (0.6.0)\n",
            "Requirement already satisfied: pandocfilters>=1.4.1 in /usr/local/lib/python3.7/dist-packages (from nbconvert->jupyter->jupyter-plotly-dash) (1.5.0)\n",
            "Requirement already satisfied: bleach in /usr/local/lib/python3.7/dist-packages (from nbconvert->jupyter->jupyter-plotly-dash) (5.0.0)\n",
            "Requirement already satisfied: jupyterlab-pygments in /usr/local/lib/python3.7/dist-packages (from nbconvert->jupyter->jupyter-plotly-dash) (0.2.2)\n",
            "Requirement already satisfied: mistune<2,>=0.8.1 in /usr/local/lib/python3.7/dist-packages (from nbconvert->jupyter->jupyter-plotly-dash) (0.8.4)\n",
            "Requirement already satisfied: nbclient<0.6.0,>=0.5.0 in /usr/local/lib/python3.7/dist-packages (from nbconvert->jupyter->jupyter-plotly-dash) (0.5.13)\n",
            "Requirement already satisfied: webencodings in /usr/local/lib/python3.7/dist-packages (from bleach->nbconvert->jupyter->jupyter-plotly-dash) (0.5.1)\n",
            "Requirement already satisfied: qtpy>=2.0.1 in /usr/local/lib/python3.7/dist-packages (from qtconsole->jupyter->jupyter-plotly-dash) (2.1.0)\n",
            "Requirement already satisfied: packaging in /usr/local/lib/python3.7/dist-packages (from qtpy>=2.0.1->qtconsole->jupyter->jupyter-plotly-dash) (21.3)\n",
            "Requirement already satisfied: pyparsing!=3.0.5,>=2.0.2 in /usr/local/lib/python3.7/dist-packages (from packaging->qtpy>=2.0.1->qtconsole->jupyter->jupyter-plotly-dash) (3.0.9)\n",
            "Requirement already satisfied: certifi>=2017.4.17 in /usr/local/lib/python3.7/dist-packages (from requests->jupyter-dash) (2021.10.8)\n",
            "Requirement already satisfied: urllib3!=1.25.0,!=1.25.1,<1.26,>=1.21.1 in /usr/local/lib/python3.7/dist-packages (from requests->jupyter-dash) (1.24.3)\n",
            "Requirement already satisfied: chardet<4,>=3.0.2 in /usr/local/lib/python3.7/dist-packages (from requests->jupyter-dash) (3.0.4)\n",
            "Installing collected packages: importlib-metadata, Jinja2\n",
            "  Attempting uninstall: importlib-metadata\n",
            "    Found existing installation: importlib-metadata 4.11.3\n",
            "    Uninstalling importlib-metadata-4.11.3:\n",
            "      Successfully uninstalled importlib-metadata-4.11.3\n",
            "  Attempting uninstall: Jinja2\n",
            "    Found existing installation: Jinja2 3.1.2\n",
            "    Uninstalling Jinja2-3.1.2:\n",
            "      Successfully uninstalled Jinja2-3.1.2\n",
            "Successfully installed Jinja2-2.11.3 importlib-metadata-2.1.3\n",
            "Requirement already satisfied: tornado in /usr/local/lib/python3.7/dist-packages (6.1)\n"
          ]
        },
        {
          "output_type": "stream",
          "name": "stderr",
          "text": [
            "ERROR: pip's dependency resolver does not currently take into account all the packages that are installed. This behaviour is the source of the following dependency conflicts.\n",
            "google-colab 1.0.0 requires tornado~=5.1.0; python_version >= \"3.0\", but you have tornado 6.1 which is incompatible.\n",
            "flask 1.1.4 requires Jinja2<3.0,>=2.10.1, but you have jinja2 3.1.2 which is incompatible.\n",
            "django-bootstrap4 22.1 requires importlib-metadata<3; python_version < \"3.8\", but you have importlib-metadata 4.11.3 which is incompatible.\n",
            "datascience 0.10.6 requires folium==0.2.1, but you have folium 0.8.3 which is incompatible.\n",
            "ERROR: pip's dependency resolver does not currently take into account all the packages that are installed. This behaviour is the source of the following dependency conflicts.\n",
            "markdown 3.3.7 requires importlib-metadata>=4.4; python_version < \"3.10\", but you have importlib-metadata 2.1.3 which is incompatible.\n",
            "jupyterlab-server 2.14.0 requires importlib-metadata>=3.6; python_version < \"3.10\", but you have importlib-metadata 2.1.3 which is incompatible.\n",
            "jupyterlab-server 2.14.0 requires jinja2>=3.0.3, but you have jinja2 2.11.3 which is incompatible.\n",
            "google-colab 1.0.0 requires tornado~=5.1.0; python_version >= \"3.0\", but you have tornado 6.1 which is incompatible.\n",
            "datascience 0.10.6 requires folium==0.2.1, but you have folium 0.8.3 which is incompatible.\n"
          ]
        }
      ],
      "source": [
        "%%sh\n",
        "pip install -q \"jupyterlab>=3\" \"ipywidgets>=7.6\"\n",
        "pip install jupyter-plotly-dash jupyter-dash dash==2.1.0\n",
        "pip install -q plotly==5.4.0\n",
        "pip install tornado"
      ]
    },
    {
      "cell_type": "code",
      "execution_count": 3,
      "id": "f011d05a-4236-4e8d-8b82-6f247065b414",
      "metadata": {
        "id": "f011d05a-4236-4e8d-8b82-6f247065b414"
      },
      "outputs": [],
      "source": [
        "import pandas as pd\n",
        "import matplotlib.pyplot as plt\n",
        "import json\n",
        "import seaborn as sns\n",
        "import numpy as np\n",
        "from dash import Dash, dash_table\n",
        "import pandas as pd\n",
        "import datetime\n",
        "from scipy.cluster.hierarchy import dendrogram, linkage\n",
        "from scipy.cluster.hierarchy import fcluster\n",
        "from scipy.cluster import hierarchy as hc\n",
        "from matplotlib import colors as mat_colors\n",
        "from matplotlib.gridspec import GridSpec\n",
        "import plotly.graph_objects as go\n",
        "from matplotlib import pyplot as plt\n",
        "\n",
        "\n",
        "pd.options.plotting.backend = \"plotly\"\n",
        "plt.rcParams[\"figure.figsize\"] = [24,10]\n",
        "plt.rcParams[\"figure.autolayout\"] = True\n",
        "import requests"
      ]
    },
    {
      "cell_type": "code",
      "execution_count": 4,
      "id": "e5ec3584-5a58-4580-85ba-65fb1e362236",
      "metadata": {
        "id": "e5ec3584-5a58-4580-85ba-65fb1e362236"
      },
      "outputs": [],
      "source": [
        "URL_PREFIX = f\"https://portal.superwise.ai/{ACCOUNT_NAME}\""
      ]
    },
    {
      "cell_type": "markdown",
      "id": "f7b2d323-815a-42eb-b38f-8e1481daa08b",
      "metadata": {
        "id": "f7b2d323-815a-42eb-b38f-8e1481daa08b"
      },
      "source": [
        "**Get Token**"
      ]
    },
    {
      "cell_type": "code",
      "execution_count": 5,
      "id": "582de447-3fe1-43f4-9a29-dd296dfbfb33",
      "metadata": {
        "id": "582de447-3fe1-43f4-9a29-dd296dfbfb33"
      },
      "outputs": [],
      "source": [
        "url = \"https://auth.superwise.ai/identity/resources/auth/v1/api-token\"\n",
        "\n",
        "headers = {\n",
        "    \"Accept\": \"application/json\",\n",
        "    \"Content-Type\": \"application/json\"\n",
        "}\n",
        "payload = {\n",
        "    \"clientId\": CLIENT_ID,\n",
        "    \"secret\": SECRET\n",
        "}\n",
        "\n",
        "res = requests.post(url, json=payload, headers=headers)\n",
        "res.raise_for_status()\n",
        "token = res.json()['accessToken']\n",
        "HEADERS = {\"Authorization\": f\"Bearer {token}\"}"
      ]
    },
    {
      "cell_type": "markdown",
      "id": "ee3479bb-72e5-4f93-8598-74777a2312f8",
      "metadata": {
        "id": "ee3479bb-72e5-4f93-8598-74777a2312f8"
      },
      "source": [
        "**Extract model_id and version_id**"
      ]
    },
    {
      "cell_type": "code",
      "execution_count": 6,
      "id": "8d61499d-237f-4a76-903c-6a76fc8c40ff",
      "metadata": {
        "id": "8d61499d-237f-4a76-903c-6a76fc8c40ff",
        "colab": {
          "base_uri": "https://localhost:8080/"
        },
        "outputId": "735eb0c2-aee4-4fbc-a0ee-7962348e2e9c"
      },
      "outputs": [
        {
          "output_type": "execute_result",
          "data": {
            "text/plain": [
              "8"
            ]
          },
          "metadata": {},
          "execution_count": 6
        }
      ],
      "source": [
        "request_url  = f'{URL_PREFIX}/admin/v1/models?name={MODEL_NAME}'\n",
        "res = requests.get(request_url, headers=HEADERS)\n",
        "res.raise_for_status()\n",
        "MODEL_ID=res.json()[0]['id']\n",
        "MODEL_ID"
      ]
    },
    {
      "cell_type": "code",
      "execution_count": 7,
      "id": "93e9844f-de99-4a71-bb87-5b1949782d35",
      "metadata": {
        "id": "93e9844f-de99-4a71-bb87-5b1949782d35",
        "colab": {
          "base_uri": "https://localhost:8080/"
        },
        "outputId": "366e7186-2593-4145-e0a7-81e3d5d9058a"
      },
      "outputs": [
        {
          "output_type": "execute_result",
          "data": {
            "text/plain": [
              "7"
            ]
          },
          "metadata": {},
          "execution_count": 7
        }
      ],
      "source": [
        "request_url  = f'{URL_PREFIX}/model/v1/versions?task_id={MODEL_ID}'\n",
        "res = requests.get(request_url, headers=HEADERS)\n",
        "res.raise_for_status()\n",
        "VERSION_ID = res.json()[0]['id']\n",
        "VERSION_ID"
      ]
    },
    {
      "cell_type": "markdown",
      "id": "0aaac36d-46ac-42d5-a098-551322524ac3",
      "metadata": {
        "id": "0aaac36d-46ac-42d5-a098-551322524ac3"
      },
      "source": [
        "# 🏃 Retraining Notebook \n",
        "By analyzing model production behavior, this Notebook helps you to better understand your model data and make decisions on how and when to retrain your models.\n",
        "\n",
        "The Notebook covers the following topics:  \n",
        "\n",
        "**[1️⃣. Data Dna + Clustering 🧬](#dna)**\n",
        "\n",
        "**[2️⃣. Exclude days based on incidents amount 🆘 ](#incident)**\n",
        "\n",
        "**[3️⃣. Most drifted features (relative to baseline) 📈](#drift)**\n",
        "\n",
        "**[4️⃣. Most drifted segments (relative to baseline) 🌎 ](#segment)**\n",
        "\n"
      ]
    },
    {
      "cell_type": "markdown",
      "id": "0ab2ec9d-2d0d-459e-8b4c-1476852b22a4",
      "metadata": {
        "tags": [],
        "id": "0ab2ec9d-2d0d-459e-8b4c-1476852b22a4"
      },
      "source": [
        "<a id='dna'></a>\n",
        "## 1️⃣. 🧬 Data DNA Insights\n",
        "Data DNA helps you understand how the data has changed between dates. It is also useful for suggesting potential dataset clusters based on similar distributions."
      ]
    },
    {
      "cell_type": "code",
      "execution_count": 8,
      "id": "eba125af-7563-4292-ae3b-8feb6c2ef76e",
      "metadata": {
        "id": "eba125af-7563-4292-ae3b-8feb6c2ef76e"
      },
      "outputs": [],
      "source": [
        "def plotMatrix(matrix, ax=None, title='Distance Matrix', cbar=True, show_ticks=True, figsize=(20,12)):\n",
        "    if ax is None:\n",
        "        fig, ax = plt.subplots(figsize=figsize)\n",
        "        \n",
        "    scale_max_val = max(0.1, matrix.max().max())\n",
        "    \n",
        "    if show_ticks:\n",
        "        show_ticks = 'auto'\n",
        "    \n",
        "    mat = sns.heatmap(matrix, square=True, annot=False, xticklabels=show_ticks, yticklabels=show_ticks,\n",
        "                      vmax=scale_max_val, vmin=0, cmap=\"Blues\", ax=ax)\n",
        "    \n",
        "    \n",
        "    if title:\n",
        "        ax.set_title(title)"
      ]
    },
    {
      "cell_type": "code",
      "execution_count": 9,
      "id": "16c11570-719a-44cb-8b7b-5e9218854d17",
      "metadata": {
        "id": "16c11570-719a-44cb-8b7b-5e9218854d17"
      },
      "outputs": [],
      "source": [
        "DNA_URL = f\"{URL_PREFIX}/dna/v1/dna?task_id={MODEL_ID}\"\n",
        "params = {\n",
        "    'version_id': VERSION_ID,\n",
        "    \"from_ts\": FROM_DATE,\n",
        "    \"to_ts\": TO_DATE\n",
        "}\n",
        "res = requests.get(DNA_URL, headers=HEADERS, params=params)\n",
        "res.raise_for_status()\n",
        "matrix = json.loads(res.content)['results']"
      ]
    },
    {
      "cell_type": "code",
      "execution_count": 10,
      "id": "9584ce81-7c86-4378-9e40-995f446f8d9c",
      "metadata": {
        "id": "9584ce81-7c86-4378-9e40-995f446f8d9c"
      },
      "outputs": [],
      "source": [
        "matrix = pd.DataFrame(\n",
        "    matrix['records'], \n",
        "    index=pd.to_datetime(matrix['dates'], unit='s').date, \n",
        "    columns=pd.to_datetime(matrix['dates'], unit='s').date\n",
        ")"
      ]
    },
    {
      "cell_type": "code",
      "execution_count": 11,
      "id": "92fa8ae3-a062-4f16-951f-41a0e2bfaa75",
      "metadata": {
        "id": "92fa8ae3-a062-4f16-951f-41a0e2bfaa75",
        "colab": {
          "base_uri": "https://localhost:8080/",
          "height": 873
        },
        "outputId": "d9b18b1a-20e5-4943-81ad-382c4d0f3b27"
      },
      "outputs": [
        {
          "output_type": "display_data",
          "data": {
            "text/plain": [
              "<Figure size 1440x864 with 2 Axes>"
            ],
            "image/png": "[encoded data removed]"
          },
          "metadata": {
            "needs_background": "light"
          }
        }
      ],
      "source": [
        "plotMatrix(matrix)"
      ]
    },
    {
      "cell_type": "markdown",
      "source": [
        "#### 👥  Create hierarchical groups"
      ],
      "metadata": {
        "id": "wCjHXzxy9lVc"
      },
      "id": "wCjHXzxy9lVc"
    },
    {
      "cell_type": "code",
      "execution_count": 12,
      "id": "638da6d9-81f4-4b9c-b6bb-fbbe2c4f362a",
      "metadata": {
        "id": "638da6d9-81f4-4b9c-b6bb-fbbe2c4f362a",
        "colab": {
          "base_uri": "https://localhost:8080/",
          "height": 404
        },
        "outputId": "7ddad30d-df47-4623-f0c6-34b1e26b5610"
      },
      "outputs": [
        {
          "output_type": "stream",
          "name": "stdout",
          "text": [
            "(465,)\n",
            "Amount of groups - (30, 4)\n"
          ]
        },
        {
          "output_type": "display_data",
          "data": {
            "text/plain": [
              "<Figure size 1440x360 with 1 Axes>"
            ],
            "image/png": "[encoded data removed]"
          },
          "metadata": {
            "needs_background": "light"
          }
        }
      ],
      "source": [
        "corr_condensed = hc.distance.squareform(matrix)\n",
        "print(corr_condensed.shape)\n",
        "z = hc.linkage(corr_condensed, method='complete')\n",
        "print(f\"Amount of groups - {z.shape}\")\n",
        "plt.figure(figsize=(20, 5))\n",
        "plt.rcParams.update({'font.size': 10})\n",
        "dendrogram = hc.dendrogram(z, labels=matrix.columns, color_threshold=0.03)\n",
        "plt.show() "
      ]
    },
    {
      "cell_type": "code",
      "execution_count": 13,
      "id": "7b39caba-fe72-41d7-8172-dcf477e6947e",
      "metadata": {
        "id": "7b39caba-fe72-41d7-8172-dcf477e6947e",
        "colab": {
          "base_uri": "https://localhost:8080/"
        },
        "outputId": "a64711b1-c857-4986-a2f7-ba94e7a140c3"
      },
      "outputs": [
        {
          "output_type": "execute_result",
          "data": {
            "text/plain": [
              "(31,)"
            ]
          },
          "metadata": {},
          "execution_count": 13
        }
      ],
      "source": [
        "clusters = hc.fcluster(z, 1.0, criterion='distance')\n",
        "clusters.shape"
      ]
    },
    {
      "cell_type": "code",
      "execution_count": 14,
      "id": "646ab57c-7aeb-4a58-a23e-20dd251240a2",
      "metadata": {
        "id": "646ab57c-7aeb-4a58-a23e-20dd251240a2"
      },
      "outputs": [],
      "source": [
        "from mpl_toolkits.axes_grid1 import make_axes_locatable\n",
        "def plot_data_dna(matrix, clusters):\n",
        "    colors_map = {i:c for i,c in enumerate(plt.rcParams['axes.prop_cycle'].by_key()['color'])}\n",
        "    cluster_bar = pd.Series(clusters, index=matrix.index).map(colors_map)\n",
        "\n",
        "    fig, (ax1, ax2) = plt.subplots(2, 1, gridspec_kw={'height_ratios':[20, 1]}, figsize=(15,12), sharex=False)\n",
        "\n",
        "    sns.heatmap(matrix, ax= ax1, cmap='Blues')\n",
        "    ax1.tick_params(axis='x', direction='out', pad=40)\n",
        "\n",
        "    p1 = ax1.get_position().bounds\n",
        "    p2 = ax2.get_position().bounds\n",
        "    p2_new = list(p2)\n",
        "    p2_new[0] = p1[0]\n",
        "    p2_new[1] = p1[1] - p2[3] - 0.01\n",
        "    p2_new[2] = p1[2]\n",
        "    ax2.set_position(p2_new)\n",
        "\n",
        "    ax2.bar(x=matrix.index,height=[1]*matrix.shape[0], width=1.0, color=cluster_bar)\n",
        "    ax2.margins(0.00)  \n",
        "    ax2.tick_params(labelbottom=False, bottom=False)\n",
        "\n",
        "    _ = plt.xticks(rotation=90)\n",
        "    \n",
        "    return fig\n"
      ]
    },
    {
      "cell_type": "markdown",
      "source": [
        "#### 👥 Find different groups of dates with similar data"
      ],
      "metadata": {
        "id": "GbZxS3L6-bq8"
      },
      "id": "GbZxS3L6-bq8"
    },
    {
      "cell_type": "code",
      "execution_count": 15,
      "id": "0b6e189d-1c93-4c3f-ba0c-77b723164e09",
      "metadata": {
        "id": "0b6e189d-1c93-4c3f-ba0c-77b723164e09",
        "colab": {
          "base_uri": "https://localhost:8080/",
          "height": 1000
        },
        "outputId": "25f30c6d-4c17-4b7e-dc8e-9b293a697eb8"
      },
      "outputs": [
        {
          "output_type": "execute_result",
          "data": {
            "text/plain": [
              "<Figure size 1080x864 with 3 Axes>"
            ],
            "image/png": "[encoded data removed]"
          },
          "metadata": {},
          "execution_count": 15
        },
        {
          "output_type": "display_data",
          "data": {
            "text/plain": [
              "<Figure size 1080x864 with 3 Axes>"
            ],
            "image/png": "[encoded data removed]"
          },
          "metadata": {
            "needs_background": "light"
          }
        }
      ],
      "source": [
        "plot_data_dna(matrix, clusters)"
      ]
    },
    {
      "cell_type": "markdown",
      "source": [
        "#### 👥 Retraining Groups"
      ],
      "metadata": {
        "id": "DUwqw4bqL1Jb"
      },
      "id": "DUwqw4bqL1Jb"
    },
    {
      "cell_type": "code",
      "source": [
        "groups_df = pd.DataFrame(data={\"Dates\" : list(matrix.columns), \"Group\" : clusters}).groupby('Group').agg(list).reset_index()\n",
        "groups_df"
      ],
      "metadata": {
        "id": "C1GIOV6DKML9",
        "colab": {
          "base_uri": "https://localhost:8080/",
          "height": 143
        },
        "outputId": "d4d08a9e-7412-4c28-8ca0-863680d4c07f"
      },
      "id": "C1GIOV6DKML9",
      "execution_count": 16,
      "outputs": [
        {
          "output_type": "execute_result",
          "data": {
            "text/plain": [
              "   Group                                              Dates\n",
              "0      1  [2022-03-01, 2022-03-07, 2022-03-08, 2022-03-1...\n",
              "1      2  [2022-03-02, 2022-03-03, 2022-03-04, 2022-03-0...\n",
              "2      3                                       [2022-03-11]"
            ],
            "text/html": [
              "\n",
              "  <div id=\"df-c7bf9032-ed43-46dc-87bc-77970bf75380\">\n",
              "    <div class=\"colab-df-container\">\n",
              "      <div>\n",
              "<style scoped>\n",
              "    .dataframe tbody tr th:only-of-type {\n",
              "        vertical-align: middle;\n",
              "    }\n",
              "\n",
              "    .dataframe tbody tr th {\n",
              "        vertical-align: top;\n",
              "    }\n",
              "\n",
              "    .dataframe thead th {\n",
              "        text-align: right;\n",
              "    }\n",
              "</style>\n",
              "<table border=\"1\" class=\"dataframe\">\n",
              "  <thead>\n",
              "    <tr style=\"text-align: right;\">\n",
              "      <th></th>\n",
              "      <th>Group</th>\n",
              "      <th>Dates</th>\n",
              "    </tr>\n",
              "  </thead>\n",
              "  <tbody>\n",
              "    <tr>\n",
              "      <th>0</th>\n",
              "      <td>1</td>\n",
              "      <td>[2022-03-01, 2022-03-07, 2022-03-08, 2022-03-1...</td>\n",
              "    </tr>\n",
              "    <tr>\n",
              "      <th>1</th>\n",
              "      <td>2</td>\n",
              "      <td>[2022-03-02, 2022-03-03, 2022-03-04, 2022-03-0...</td>\n",
              "    </tr>\n",
              "    <tr>\n",
              "      <th>2</th>\n",
              "      <td>3</td>\n",
              "      <td>[2022-03-11]</td>\n",
              "    </tr>\n",
              "  </tbody>\n",
              "</table>\n",
              "</div>\n",
              "      <button class=\"colab-df-convert\" onclick=\"convertToInteractive('df-c7bf9032-ed43-46dc-87bc-77970bf75380')\"\n",
              "              title=\"Convert this dataframe to an interactive table.\"\n",
              "              style=\"display:none;\">\n",
              "        \n",
              "  <svg xmlns=\"http://www.w3.org/2000/svg\" height=\"24px\"viewBox=\"0 0 24 24\"\n",
              "       width=\"24px\">\n",
              "    <path d=\"M0 0h24v24H0V0z\" fill=\"none\"/>\n",
              "    <path d=\"M18.56 5.44l.94 2.06.94-2.06 2.06-.94-2.06-.94-.94-2.06-.94 2.06-2.06.94zm-11 1L8.5 8.5l.94-2.06 2.06-.94-2.06-.94L8.5 2.5l-.94 2.06-2.06.94zm10 10l.94 2.06.94-2.06 2.06-.94-2.06-.94-.94-2.06-.94 2.06-2.06.94z\"/><path d=\"M17.41 7.96l-1.37-1.37c-.4-.4-.92-.59-1.43-.59-.52 0-1.04.2-1.43.59L10.3 9.45l-7.72 7.72c-.78.78-.78 2.05 0 2.83L4 21.41c.39.39.9.59 1.41.59.51 0 1.02-.2 1.41-.59l7.78-7.78 2.81-2.81c.8-.78.8-2.07 0-2.86zM5.41 20L4 18.59l7.72-7.72 1.47 1.35L5.41 20z\"/>\n",
              "  </svg>\n",
              "      </button>\n",
              "      \n",
              "  <style>\n",
              "    .colab-df-container {\n",
              "      display:flex;\n",
              "      flex-wrap:wrap;\n",
              "      gap: 12px;\n",
              "    }\n",
              "\n",
              "    .colab-df-convert {\n",
              "      background-color: #E8F0FE;\n",
              "      border: none;\n",
              "      border-radius: 50%;\n",
              "      cursor: pointer;\n",
              "      display: none;\n",
              "      fill: #1967D2;\n",
              "      height: 32px;\n",
              "      padding: 0 0 0 0;\n",
              "      width: 32px;\n",
              "    }\n",
              "\n",
              "    .colab-df-convert:hover {\n",
              "      background-color: #E2EBFA;\n",
              "      box-shadow: 0px 1px 2px rgba(60, 64, 67, 0.3), 0px 1px 3px 1px rgba(60, 64, 67, 0.15);\n",
              "      fill: #174EA6;\n",
              "    }\n",
              "\n",
              "    [theme=dark] .colab-df-convert {\n",
              "      background-color: #3B4455;\n",
              "      fill: #D2E3FC;\n",
              "    }\n",
              "\n",
              "    [theme=dark] .colab-df-convert:hover {\n",
              "      background-color: #434B5C;\n",
              "      box-shadow: 0px 1px 3px 1px rgba(0, 0, 0, 0.15);\n",
              "      filter: drop-shadow(0px 1px 2px rgba(0, 0, 0, 0.3));\n",
              "      fill: #FFFFFF;\n",
              "    }\n",
              "  </style>\n",
              "\n",
              "      <script>\n",
              "        const buttonEl =\n",
              "          document.querySelector('#df-c7bf9032-ed43-46dc-87bc-77970bf75380 button.colab-df-convert');\n",
              "        buttonEl.style.display =\n",
              "          google.colab.kernel.accessAllowed ? 'block' : 'none';\n",
              "\n",
              "        async function convertToInteractive(key) {\n",
              "          const element = document.querySelector('#df-c7bf9032-ed43-46dc-87bc-77970bf75380');\n",
              "          const dataTable =\n",
              "            await google.colab.kernel.invokeFunction('convertToInteractive',\n",
              "                                                     [key], {});\n",
              "          if (!dataTable) return;\n",
              "\n",
              "          const docLinkHtml = 'Like what you see? Visit the ' +\n",
              "            '<a target=\"_blank\" href=https://colab.research.google.com/notebooks/data_table.ipynb>data table notebook</a>'\n",
              "            + ' to learn more about interactive tables.';\n",
              "          element.innerHTML = '';\n",
              "          dataTable['output_type'] = 'display_data';\n",
              "          await google.colab.output.renderOutput(dataTable, element);\n",
              "          const docLink = document.createElement('div');\n",
              "          docLink.innerHTML = docLinkHtml;\n",
              "          element.appendChild(docLink);\n",
              "        }\n",
              "      </script>\n",
              "    </div>\n",
              "  </div>\n",
              "  "
            ]
          },
          "metadata": {},
          "execution_count": 16
        }
      ]
    },
    {
      "cell_type": "markdown",
      "id": "493ac328-5fe6-4080-b6d0-1511f5fe37b3",
      "metadata": {
        "tags": [],
        "id": "493ac328-5fe6-4080-b6d0-1511f5fe37b3"
      },
      "source": [
        "<a id='incident'></a>\n",
        "## 2️⃣. 🆘 Exclude days based on incidents amount\n",
        "\n",
        "This command helps you understand whether the data on a certain day should be used when retraining the model.\n",
        "\n",
        "Parameter to Set:    \n",
        "\n",
        "`THRESHOLD` - this parameter will color days in red with more incidents than the THRESHOLD. (Default: 5)"
      ]
    },
    {
      "cell_type": "code",
      "source": [
        "THRESHOLD = 1# @param"
      ],
      "metadata": {
        "id": "CG8a2v2zM_wP"
      },
      "id": "CG8a2v2zM_wP",
      "execution_count": 17,
      "outputs": []
    },
    {
      "cell_type": "code",
      "execution_count": 18,
      "id": "4a12af87-e4a6-4e61-a37b-d71d2922ecf7",
      "metadata": {
        "id": "4a12af87-e4a6-4e61-a37b-d71d2922ecf7"
      },
      "outputs": [],
      "source": [
        "url = f\"{URL_PREFIX}/monitor/v1/incidents?task_id={MODEL_ID}\"\n",
        "res = requests.get(url,headers=HEADERS)\n",
        "incidents_df = pd.DataFrame(res.json())\n",
        "incidents_df.set_index('id',inplace=True)\n"
      ]
    },
    {
      "cell_type": "code",
      "source": [
        "incidents_ids = incidents_df.index.to_list()\n",
        "incidents_df = list()\n",
        "\n",
        "for incidents_id in incidents_ids:\n",
        "  url = f\"{URL_PREFIX}/monitor/v1/incidents/{incidents_id}\"  \n",
        "  res = requests.get(url,headers=HEADERS)\n",
        "  res.raise_for_status()\n",
        "  incidents_df.append(res.json())\n",
        "\n",
        "incidents_df = pd.DataFrame(incidents_df)"
      ],
      "metadata": {
        "id": "cg_xPg5_Eh5w"
      },
      "id": "cg_xPg5_Eh5w",
      "execution_count": 19,
      "outputs": []
    },
    {
      "cell_type": "code",
      "execution_count": 20,
      "id": "a233735b-747f-4e40-b9ba-6fd58a2cfeab",
      "metadata": {
        "id": "a233735b-747f-4e40-b9ba-6fd58a2cfeab"
      },
      "outputs": [],
      "source": [
        "incidents_df[\"started_at\"] = pd.to_datetime(incidents_df[\"started_at\"], unit='s') \n",
        "incidents_df.loc[incidents_df['ended_at'].notna(), 'ended_at'] = pd.to_datetime(incidents_df[incidents_df['ended_at'].notna()][\"ended_at\"], unit='s') \n",
        "incidents_df.loc[incidents_df['ended_at'].isna(), 'ended_at'] = datetime.datetime.utcnow().date()"
      ]
    },
    {
      "cell_type": "code",
      "source": [
        "incidents_df = incidents_df[incidents_df['started_at']> FROM_DATE]"
      ],
      "metadata": {
        "id": "SbfseQ6SGRnj"
      },
      "id": "SbfseQ6SGRnj",
      "execution_count": 21,
      "outputs": []
    },
    {
      "cell_type": "code",
      "execution_count": 22,
      "id": "cd66ad7c-aa68-489e-895b-2e9127c6dd84",
      "metadata": {
        "id": "cd66ad7c-aa68-489e-895b-2e9127c6dd84"
      },
      "outputs": [],
      "source": [
        "incidents_df['date'] = incidents_df.apply(lambda row: pd.date_range(row['started_at'], row['ended_at'], freq='D'), axis=1)\n",
        "incidents_df = incidents_df.explode('date').reset_index() \\\n",
        "        .drop(columns=['started_at', 'ended_at']) \\\n",
        "        .rename(columns={'date': 'date_start'}) \\"
      ]
    },
    {
      "cell_type": "code",
      "execution_count": 23,
      "id": "b083f663-272b-44b8-835b-2a3f14497360",
      "metadata": {
        "id": "b083f663-272b-44b8-835b-2a3f14497360"
      },
      "outputs": [],
      "source": [
        "opened_incidents_df = incidents_df['date_start'].dt.date.value_counts().sort_values(ascending=False).to_frame().reset_index().rename(columns={'index' : 'date'})"
      ]
    },
    {
      "cell_type": "markdown",
      "id": "ea3317b4-ae83-45d2-b0b8-ff505075f21d",
      "metadata": {
        "id": "ea3317b4-ae83-45d2-b0b8-ff505075f21d"
      },
      "source": [
        "#### Amount of opened incidents over time"
      ]
    },
    {
      "cell_type": "code",
      "execution_count": 24,
      "id": "a7b25fa7-71e1-4f1e-b9d5-7f31768823d7",
      "metadata": {
        "id": "a7b25fa7-71e1-4f1e-b9d5-7f31768823d7",
        "colab": {
          "base_uri": "https://localhost:8080/",
          "height": 638
        },
        "outputId": "c56906fa-9113-44e3-f300-c3bc50bd38f6"
      },
      "outputs": [
        {
          "output_type": "display_data",
          "data": {
            "text/plain": [
              "<Figure size 1728x720 with 1 Axes>"
            ],
            "image/png": "[encoded data removed]"
          },
          "metadata": {
            "needs_background": "light"
          }
        }
      ],
      "source": [
        "values = np.array(list(opened_incidents_df['date_start'].tolist()))   \n",
        "idx = np.array(list(opened_incidents_df['date'].tolist())) \n",
        "clrs = ['red' if (x > THRESHOLD) else 'green' for x in values ]\n",
        "plt.bar(idx, values, color=clrs)\n",
        "plt.show()"
      ]
    },
    {
      "cell_type": "markdown",
      "id": "db063bc7-3af7-4a12-a24e-8780d3771593",
      "metadata": {
        "id": "db063bc7-3af7-4a12-a24e-8780d3771593"
      },
      "source": [
        "#### Top 10 Dates with the highest amount of incidents"
      ]
    },
    {
      "cell_type": "code",
      "execution_count": 25,
      "id": "99e0286b-4e6c-4da5-9688-07f79347bf4d",
      "metadata": {
        "id": "99e0286b-4e6c-4da5-9688-07f79347bf4d"
      },
      "outputs": [],
      "source": [
        "top_ten_dates_df = incidents_df['date_start'].dt.date.value_counts().sort_values(ascending=False).to_frame().head(10).reset_index().rename(columns={'index' : 'date'})"
      ]
    },
    {
      "cell_type": "code",
      "source": [
        "top_ten_dates_df"
      ],
      "metadata": {
        "id": "yOBYq9O5GvoS",
        "colab": {
          "base_uri": "https://localhost:8080/",
          "height": 363
        },
        "outputId": "53d53c52-56f8-4fd0-ed6e-f2f5f27e6f1b"
      },
      "id": "yOBYq9O5GvoS",
      "execution_count": 26,
      "outputs": [
        {
          "output_type": "execute_result",
          "data": {
            "text/plain": [
              "         date  date_start\n",
              "0  2022-04-13           2\n",
              "1  2022-03-07           1\n",
              "2  2022-03-08           1\n",
              "3  2022-03-09           1\n",
              "4  2022-05-12           1\n",
              "5  2022-03-11           1\n",
              "6  2022-04-12           1\n",
              "7  2022-04-14           1\n",
              "8  2022-04-15           1\n",
              "9  2022-04-16           1"
            ],
            "text/html": [
              "\n",
              "  <div id=\"df-b6200bab-2858-4f19-9d74-c82004eb7910\">\n",
              "    <div class=\"colab-df-container\">\n",
              "      <div>\n",
              "<style scoped>\n",
              "    .dataframe tbody tr th:only-of-type {\n",
              "        vertical-align: middle;\n",
              "    }\n",
              "\n",
              "    .dataframe tbody tr th {\n",
              "        vertical-align: top;\n",
              "    }\n",
              "\n",
              "    .dataframe thead th {\n",
              "        text-align: right;\n",
              "    }\n",
              "</style>\n",
              "<table border=\"1\" class=\"dataframe\">\n",
              "  <thead>\n",
              "    <tr style=\"text-align: right;\">\n",
              "      <th></th>\n",
              "      <th>date</th>\n",
              "      <th>date_start</th>\n",
              "    </tr>\n",
              "  </thead>\n",
              "  <tbody>\n",
              "    <tr>\n",
              "      <th>0</th>\n",
              "      <td>2022-04-13</td>\n",
              "      <td>2</td>\n",
              "    </tr>\n",
              "    <tr>\n",
              "      <th>1</th>\n",
              "      <td>2022-03-07</td>\n",
              "      <td>1</td>\n",
              "    </tr>\n",
              "    <tr>\n",
              "      <th>2</th>\n",
              "      <td>2022-03-08</td>\n",
              "      <td>1</td>\n",
              "    </tr>\n",
              "    <tr>\n",
              "      <th>3</th>\n",
              "      <td>2022-03-09</td>\n",
              "      <td>1</td>\n",
              "    </tr>\n",
              "    <tr>\n",
              "      <th>4</th>\n",
              "      <td>2022-05-12</td>\n",
              "      <td>1</td>\n",
              "    </tr>\n",
              "    <tr>\n",
              "      <th>5</th>\n",
              "      <td>2022-03-11</td>\n",
              "      <td>1</td>\n",
              "    </tr>\n",
              "    <tr>\n",
              "      <th>6</th>\n",
              "      <td>2022-04-12</td>\n",
              "      <td>1</td>\n",
              "    </tr>\n",
              "    <tr>\n",
              "      <th>7</th>\n",
              "      <td>2022-04-14</td>\n",
              "      <td>1</td>\n",
              "    </tr>\n",
              "    <tr>\n",
              "      <th>8</th>\n",
              "      <td>2022-04-15</td>\n",
              "      <td>1</td>\n",
              "    </tr>\n",
              "    <tr>\n",
              "      <th>9</th>\n",
              "      <td>2022-04-16</td>\n",
              "      <td>1</td>\n",
              "    </tr>\n",
              "  </tbody>\n",
              "</table>\n",
              "</div>\n",
              "      <button class=\"colab-df-convert\" onclick=\"convertToInteractive('df-b6200bab-2858-4f19-9d74-c82004eb7910')\"\n",
              "              title=\"Convert this dataframe to an interactive table.\"\n",
              "              style=\"display:none;\">\n",
              "        \n",
              "  <svg xmlns=\"http://www.w3.org/2000/svg\" height=\"24px\"viewBox=\"0 0 24 24\"\n",
              "       width=\"24px\">\n",
              "    <path d=\"M0 0h24v24H0V0z\" fill=\"none\"/>\n",
              "    <path d=\"M18.56 5.44l.94 2.06.94-2.06 2.06-.94-2.06-.94-.94-2.06-.94 2.06-2.06.94zm-11 1L8.5 8.5l.94-2.06 2.06-.94-2.06-.94L8.5 2.5l-.94 2.06-2.06.94zm10 10l.94 2.06.94-2.06 2.06-.94-2.06-.94-.94-2.06-.94 2.06-2.06.94z\"/><path d=\"M17.41 7.96l-1.37-1.37c-.4-.4-.92-.59-1.43-.59-.52 0-1.04.2-1.43.59L10.3 9.45l-7.72 7.72c-.78.78-.78 2.05 0 2.83L4 21.41c.39.39.9.59 1.41.59.51 0 1.02-.2 1.41-.59l7.78-7.78 2.81-2.81c.8-.78.8-2.07 0-2.86zM5.41 20L4 18.59l7.72-7.72 1.47 1.35L5.41 20z\"/>\n",
              "  </svg>\n",
              "      </button>\n",
              "      \n",
              "  <style>\n",
              "    .colab-df-container {\n",
              "      display:flex;\n",
              "      flex-wrap:wrap;\n",
              "      gap: 12px;\n",
              "    }\n",
              "\n",
              "    .colab-df-convert {\n",
              "      background-color: #E8F0FE;\n",
              "      border: none;\n",
              "      border-radius: 50%;\n",
              "      cursor: pointer;\n",
              "      display: none;\n",
              "      fill: #1967D2;\n",
              "      height: 32px;\n",
              "      padding: 0 0 0 0;\n",
              "      width: 32px;\n",
              "    }\n",
              "\n",
              "    .colab-df-convert:hover {\n",
              "      background-color: #E2EBFA;\n",
              "      box-shadow: 0px 1px 2px rgba(60, 64, 67, 0.3), 0px 1px 3px 1px rgba(60, 64, 67, 0.15);\n",
              "      fill: #174EA6;\n",
              "    }\n",
              "\n",
              "    [theme=dark] .colab-df-convert {\n",
              "      background-color: #3B4455;\n",
              "      fill: #D2E3FC;\n",
              "    }\n",
              "\n",
              "    [theme=dark] .colab-df-convert:hover {\n",
              "      background-color: #434B5C;\n",
              "      box-shadow: 0px 1px 3px 1px rgba(0, 0, 0, 0.15);\n",
              "      filter: drop-shadow(0px 1px 2px rgba(0, 0, 0, 0.3));\n",
              "      fill: #FFFFFF;\n",
              "    }\n",
              "  </style>\n",
              "\n",
              "      <script>\n",
              "        const buttonEl =\n",
              "          document.querySelector('#df-b6200bab-2858-4f19-9d74-c82004eb7910 button.colab-df-convert');\n",
              "        buttonEl.style.display =\n",
              "          google.colab.kernel.accessAllowed ? 'block' : 'none';\n",
              "\n",
              "        async function convertToInteractive(key) {\n",
              "          const element = document.querySelector('#df-b6200bab-2858-4f19-9d74-c82004eb7910');\n",
              "          const dataTable =\n",
              "            await google.colab.kernel.invokeFunction('convertToInteractive',\n",
              "                                                     [key], {});\n",
              "          if (!dataTable) return;\n",
              "\n",
              "          const docLinkHtml = 'Like what you see? Visit the ' +\n",
              "            '<a target=\"_blank\" href=https://colab.research.google.com/notebooks/data_table.ipynb>data table notebook</a>'\n",
              "            + ' to learn more about interactive tables.';\n",
              "          element.innerHTML = '';\n",
              "          dataTable['output_type'] = 'display_data';\n",
              "          await google.colab.output.renderOutput(dataTable, element);\n",
              "          const docLink = document.createElement('div');\n",
              "          docLink.innerHTML = docLinkHtml;\n",
              "          element.appendChild(docLink);\n",
              "        }\n",
              "      </script>\n",
              "    </div>\n",
              "  </div>\n",
              "  "
            ]
          },
          "metadata": {},
          "execution_count": 26
        }
      ]
    },
    {
      "cell_type": "markdown",
      "id": "bed88f4b-f5e2-4aaf-b8de-2d09b13ae658",
      "metadata": {
        "tags": [],
        "id": "bed88f4b-f5e2-4aaf-b8de-2d09b13ae658"
      },
      "source": [
        "<a id='drift'></a>\n",
        "## 3️⃣. 📈 Most drifted features\n",
        "\n",
        "Parameter to Set:    \n",
        "\n",
        "`THRESHOLD` - This parameter will color in red features that have drifted beyond the threshold (Default: 5)"
      ]
    },
    {
      "cell_type": "markdown",
      "source": [
        "THRESHOLD = *5*"
      ],
      "metadata": {
        "id": "B-Y-QbuEStpL"
      },
      "id": "B-Y-QbuEStpL"
    },
    {
      "cell_type": "code",
      "source": [
        "THRESHOLD = 5 # @param"
      ],
      "metadata": {
        "id": "8NaJgD9bSvY8"
      },
      "id": "8NaJgD9bSvY8",
      "execution_count": 27,
      "outputs": []
    },
    {
      "cell_type": "code",
      "execution_count": 28,
      "id": "0912146f-377c-49fc-8073-ec97299fcefc",
      "metadata": {
        "id": "0912146f-377c-49fc-8073-ec97299fcefc",
        "colab": {
          "base_uri": "https://localhost:8080/",
          "height": 206
        },
        "outputId": "85473342-6724-491a-fe95-f064d0774064"
      },
      "outputs": [
        {
          "output_type": "execute_result",
          "data": {
            "text/plain": [
              "    id                            name     type  feature_importance\n",
              "0  151              Transaction amount  Numeric            0.118245\n",
              "1  152          Is weekend transaction  Boolean            0.050936\n",
              "2  153            Is night transaction  Boolean            0.046186\n",
              "3  154  Customer 1d transaction amount  Numeric            0.047133\n",
              "4  155           Customer avg 1d spend  Numeric            0.074043"
            ],
            "text/html": [
              "\n",
              "  <div id=\"df-34783501-9b41-4d7a-999f-514d8c0e3297\">\n",
              "    <div class=\"colab-df-container\">\n",
              "      <div>\n",
              "<style scoped>\n",
              "    .dataframe tbody tr th:only-of-type {\n",
              "        vertical-align: middle;\n",
              "    }\n",
              "\n",
              "    .dataframe tbody tr th {\n",
              "        vertical-align: top;\n",
              "    }\n",
              "\n",
              "    .dataframe thead th {\n",
              "        text-align: right;\n",
              "    }\n",
              "</style>\n",
              "<table border=\"1\" class=\"dataframe\">\n",
              "  <thead>\n",
              "    <tr style=\"text-align: right;\">\n",
              "      <th></th>\n",
              "      <th>id</th>\n",
              "      <th>name</th>\n",
              "      <th>type</th>\n",
              "      <th>feature_importance</th>\n",
              "    </tr>\n",
              "  </thead>\n",
              "  <tbody>\n",
              "    <tr>\n",
              "      <th>0</th>\n",
              "      <td>151</td>\n",
              "      <td>Transaction amount</td>\n",
              "      <td>Numeric</td>\n",
              "      <td>0.118245</td>\n",
              "    </tr>\n",
              "    <tr>\n",
              "      <th>1</th>\n",
              "      <td>152</td>\n",
              "      <td>Is weekend transaction</td>\n",
              "      <td>Boolean</td>\n",
              "      <td>0.050936</td>\n",
              "    </tr>\n",
              "    <tr>\n",
              "      <th>2</th>\n",
              "      <td>153</td>\n",
              "      <td>Is night transaction</td>\n",
              "      <td>Boolean</td>\n",
              "      <td>0.046186</td>\n",
              "    </tr>\n",
              "    <tr>\n",
              "      <th>3</th>\n",
              "      <td>154</td>\n",
              "      <td>Customer 1d transaction amount</td>\n",
              "      <td>Numeric</td>\n",
              "      <td>0.047133</td>\n",
              "    </tr>\n",
              "    <tr>\n",
              "      <th>4</th>\n",
              "      <td>155</td>\n",
              "      <td>Customer avg 1d spend</td>\n",
              "      <td>Numeric</td>\n",
              "      <td>0.074043</td>\n",
              "    </tr>\n",
              "  </tbody>\n",
              "</table>\n",
              "</div>\n",
              "      <button class=\"colab-df-convert\" onclick=\"convertToInteractive('df-34783501-9b41-4d7a-999f-514d8c0e3297')\"\n",
              "              title=\"Convert this dataframe to an interactive table.\"\n",
              "              style=\"display:none;\">\n",
              "        \n",
              "  <svg xmlns=\"http://www.w3.org/2000/svg\" height=\"24px\"viewBox=\"0 0 24 24\"\n",
              "       width=\"24px\">\n",
              "    <path d=\"M0 0h24v24H0V0z\" fill=\"none\"/>\n",
              "    <path d=\"M18.56 5.44l.94 2.06.94-2.06 2.06-.94-2.06-.94-.94-2.06-.94 2.06-2.06.94zm-11 1L8.5 8.5l.94-2.06 2.06-.94-2.06-.94L8.5 2.5l-.94 2.06-2.06.94zm10 10l.94 2.06.94-2.06 2.06-.94-2.06-.94-.94-2.06-.94 2.06-2.06.94z\"/><path d=\"M17.41 7.96l-1.37-1.37c-.4-.4-.92-.59-1.43-.59-.52 0-1.04.2-1.43.59L10.3 9.45l-7.72 7.72c-.78.78-.78 2.05 0 2.83L4 21.41c.39.39.9.59 1.41.59.51 0 1.02-.2 1.41-.59l7.78-7.78 2.81-2.81c.8-.78.8-2.07 0-2.86zM5.41 20L4 18.59l7.72-7.72 1.47 1.35L5.41 20z\"/>\n",
              "  </svg>\n",
              "      </button>\n",
              "      \n",
              "  <style>\n",
              "    .colab-df-container {\n",
              "      display:flex;\n",
              "      flex-wrap:wrap;\n",
              "      gap: 12px;\n",
              "    }\n",
              "\n",
              "    .colab-df-convert {\n",
              "      background-color: #E8F0FE;\n",
              "      border: none;\n",
              "      border-radius: 50%;\n",
              "      cursor: pointer;\n",
              "      display: none;\n",
              "      fill: #1967D2;\n",
              "      height: 32px;\n",
              "      padding: 0 0 0 0;\n",
              "      width: 32px;\n",
              "    }\n",
              "\n",
              "    .colab-df-convert:hover {\n",
              "      background-color: #E2EBFA;\n",
              "      box-shadow: 0px 1px 2px rgba(60, 64, 67, 0.3), 0px 1px 3px 1px rgba(60, 64, 67, 0.15);\n",
              "      fill: #174EA6;\n",
              "    }\n",
              "\n",
              "    [theme=dark] .colab-df-convert {\n",
              "      background-color: #3B4455;\n",
              "      fill: #D2E3FC;\n",
              "    }\n",
              "\n",
              "    [theme=dark] .colab-df-convert:hover {\n",
              "      background-color: #434B5C;\n",
              "      box-shadow: 0px 1px 3px 1px rgba(0, 0, 0, 0.15);\n",
              "      filter: drop-shadow(0px 1px 2px rgba(0, 0, 0, 0.3));\n",
              "      fill: #FFFFFF;\n",
              "    }\n",
              "  </style>\n",
              "\n",
              "      <script>\n",
              "        const buttonEl =\n",
              "          document.querySelector('#df-34783501-9b41-4d7a-999f-514d8c0e3297 button.colab-df-convert');\n",
              "        buttonEl.style.display =\n",
              "          google.colab.kernel.accessAllowed ? 'block' : 'none';\n",
              "\n",
              "        async function convertToInteractive(key) {\n",
              "          const element = document.querySelector('#df-34783501-9b41-4d7a-999f-514d8c0e3297');\n",
              "          const dataTable =\n",
              "            await google.colab.kernel.invokeFunction('convertToInteractive',\n",
              "                                                     [key], {});\n",
              "          if (!dataTable) return;\n",
              "\n",
              "          const docLinkHtml = 'Like what you see? Visit the ' +\n",
              "            '<a target=\"_blank\" href=https://colab.research.google.com/notebooks/data_table.ipynb>data table notebook</a>'\n",
              "            + ' to learn more about interactive tables.';\n",
              "          element.innerHTML = '';\n",
              "          dataTable['output_type'] = 'display_data';\n",
              "          await google.colab.output.renderOutput(dataTable, element);\n",
              "          const docLink = document.createElement('div');\n",
              "          docLink.innerHTML = docLinkHtml;\n",
              "          element.appendChild(docLink);\n",
              "        }\n",
              "      </script>\n",
              "    </div>\n",
              "  </div>\n",
              "  "
            ]
          },
          "metadata": {},
          "execution_count": 28
        }
      ],
      "source": [
        "request_url  = f'{URL_PREFIX}/model/v1/versions/{VERSION_ID}/data_entities'\n",
        "res = requests.get(request_url, headers=HEADERS)\n",
        "res.raise_for_status()\n",
        "\n",
        "features = pd.DataFrame(res.json())\n",
        "version_entities = pd.DataFrame(res.json(), columns=[\"data_entity\", \"feature_importance\"])\n",
        "flatten_version_entities = pd.json_normalize(version_entities[\"data_entity\"], max_level=0)\n",
        "flatten_version_entities[\"feature_importance\"] = version_entities[\"feature_importance\"]\n",
        "empty_flatten_version_entities = pd.DataFrame(\n",
        "    columns=[\"id\", \"name\", \"role\", \"type\", \"secondary_type\", \"summary\", \"dimension_start_ts\"]\n",
        ")\n",
        "features = empty_flatten_version_entities.append(flatten_version_entities)\n",
        "features['role'] = pd.json_normalize(features['role'])['description']\n",
        "features = features[features['role'] == 'feature']\n",
        "features = features[[\"id\",\"name\",\"type\",\"feature_importance\"]]\n",
        "\n",
        "features.head()"
      ]
    },
    {
      "cell_type": "code",
      "execution_count": 29,
      "id": "00ac48ac-74b1-4b82-81bd-6f6a5c690641",
      "metadata": {
        "id": "00ac48ac-74b1-4b82-81bd-6f6a5c690641",
        "colab": {
          "base_uri": "https://localhost:8080/"
        },
        "outputId": "5fde2897-fbbd-44c6-c2c5-9956b7d37faa"
      },
      "outputs": [
        {
          "output_type": "stream",
          "name": "stdout",
          "text": [
            "15\n"
          ]
        }
      ],
      "source": [
        "ENTITY_IDS= features.id.to_list()\n",
        "print(len(ENTITY_IDS))"
      ]
    },
    {
      "cell_type": "code",
      "execution_count": 30,
      "id": "4777ffff-e644-458d-9d67-1a9c674cf1ac",
      "metadata": {
        "id": "4777ffff-e644-458d-9d67-1a9c674cf1ac",
        "colab": {
          "base_uri": "https://localhost:8080/",
          "height": 531
        },
        "outputId": "76a222d0-14ac-4a3a-8d00-961e42fa2229"
      },
      "outputs": [
        {
          "output_type": "execute_result",
          "data": {
            "text/plain": [
              "   id                name         description  is_overall          type  \\\n",
              "0   1  distribution_shift  Distribution Shift       False  distribution   \n",
              "1   2           min_value           Min Value       False  distribution   \n",
              "2   3           max_value           Max Value       False  distribution   \n",
              "3   4           sum_value           Sum Value       False  distribution   \n",
              "4   5          mean_value          Mean Value       False  distribution   \n",
              "\n",
              "   is_percent    cap  floor  \\\n",
              "0       False  100.0    0.0   \n",
              "1       False    NaN    NaN   \n",
              "2       False    NaN    NaN   \n",
              "3       False    NaN    NaN   \n",
              "4       False    NaN    NaN   \n",
              "\n",
              "                                        tooltip_text tooltip_url  model_id  \\\n",
              "0  Measure the statistical distance between the d...        None       NaN   \n",
              "1  For each time frame, the minimal value that wa...        None       NaN   \n",
              "2  For each time frame, the maximal value that wa...        None       NaN   \n",
              "3  For each time frame, the sum value that was de...        None       NaN   \n",
              "4  For each time frame, the mean value that was d...        None       NaN   \n",
              "\n",
              "   prediction_entity_id  label_entity_id prediction_positive_value  \\\n",
              "0                   NaN              NaN                      None   \n",
              "1                   NaN              NaN                      None   \n",
              "2                   NaN              NaN                      None   \n",
              "3                   NaN              NaN                      None   \n",
              "4                   NaN              NaN                      None   \n",
              "\n",
              "  label_positive_value config_name  \n",
              "0                 None        None  \n",
              "1                 None        None  \n",
              "2                 None        None  \n",
              "3                 None        None  \n",
              "4                 None        None  "
            ],
            "text/html": [
              "\n",
              "  <div id=\"df-2b3198ea-b554-4ff9-8ba6-70c35abcb771\">\n",
              "    <div class=\"colab-df-container\">\n",
              "      <div>\n",
              "<style scoped>\n",
              "    .dataframe tbody tr th:only-of-type {\n",
              "        vertical-align: middle;\n",
              "    }\n",
              "\n",
              "    .dataframe tbody tr th {\n",
              "        vertical-align: top;\n",
              "    }\n",
              "\n",
              "    .dataframe thead th {\n",
              "        text-align: right;\n",
              "    }\n",
              "</style>\n",
              "<table border=\"1\" class=\"dataframe\">\n",
              "  <thead>\n",
              "    <tr style=\"text-align: right;\">\n",
              "      <th></th>\n",
              "      <th>id</th>\n",
              "      <th>name</th>\n",
              "      <th>description</th>\n",
              "      <th>is_overall</th>\n",
              "      <th>type</th>\n",
              "      <th>is_percent</th>\n",
              "      <th>cap</th>\n",
              "      <th>floor</th>\n",
              "      <th>tooltip_text</th>\n",
              "      <th>tooltip_url</th>\n",
              "      <th>model_id</th>\n",
              "      <th>prediction_entity_id</th>\n",
              "      <th>label_entity_id</th>\n",
              "      <th>prediction_positive_value</th>\n",
              "      <th>label_positive_value</th>\n",
              "      <th>config_name</th>\n",
              "    </tr>\n",
              "  </thead>\n",
              "  <tbody>\n",
              "    <tr>\n",
              "      <th>0</th>\n",
              "      <td>1</td>\n",
              "      <td>distribution_shift</td>\n",
              "      <td>Distribution Shift</td>\n",
              "      <td>False</td>\n",
              "      <td>distribution</td>\n",
              "      <td>False</td>\n",
              "      <td>100.0</td>\n",
              "      <td>0.0</td>\n",
              "      <td>Measure the statistical distance between the d...</td>\n",
              "      <td>None</td>\n",
              "      <td>NaN</td>\n",
              "      <td>NaN</td>\n",
              "      <td>NaN</td>\n",
              "      <td>None</td>\n",
              "      <td>None</td>\n",
              "      <td>None</td>\n",
              "    </tr>\n",
              "    <tr>\n",
              "      <th>1</th>\n",
              "      <td>2</td>\n",
              "      <td>min_value</td>\n",
              "      <td>Min Value</td>\n",
              "      <td>False</td>\n",
              "      <td>distribution</td>\n",
              "      <td>False</td>\n",
              "      <td>NaN</td>\n",
              "      <td>NaN</td>\n",
              "      <td>For each time frame, the minimal value that wa...</td>\n",
              "      <td>None</td>\n",
              "      <td>NaN</td>\n",
              "      <td>NaN</td>\n",
              "      <td>NaN</td>\n",
              "      <td>None</td>\n",
              "      <td>None</td>\n",
              "      <td>None</td>\n",
              "    </tr>\n",
              "    <tr>\n",
              "      <th>2</th>\n",
              "      <td>3</td>\n",
              "      <td>max_value</td>\n",
              "      <td>Max Value</td>\n",
              "      <td>False</td>\n",
              "      <td>distribution</td>\n",
              "      <td>False</td>\n",
              "      <td>NaN</td>\n",
              "      <td>NaN</td>\n",
              "      <td>For each time frame, the maximal value that wa...</td>\n",
              "      <td>None</td>\n",
              "      <td>NaN</td>\n",
              "      <td>NaN</td>\n",
              "      <td>NaN</td>\n",
              "      <td>None</td>\n",
              "      <td>None</td>\n",
              "      <td>None</td>\n",
              "    </tr>\n",
              "    <tr>\n",
              "      <th>3</th>\n",
              "      <td>4</td>\n",
              "      <td>sum_value</td>\n",
              "      <td>Sum Value</td>\n",
              "      <td>False</td>\n",
              "      <td>distribution</td>\n",
              "      <td>False</td>\n",
              "      <td>NaN</td>\n",
              "      <td>NaN</td>\n",
              "      <td>For each time frame, the sum value that was de...</td>\n",
              "      <td>None</td>\n",
              "      <td>NaN</td>\n",
              "      <td>NaN</td>\n",
              "      <td>NaN</td>\n",
              "      <td>None</td>\n",
              "      <td>None</td>\n",
              "      <td>None</td>\n",
              "    </tr>\n",
              "    <tr>\n",
              "      <th>4</th>\n",
              "      <td>5</td>\n",
              "      <td>mean_value</td>\n",
              "      <td>Mean Value</td>\n",
              "      <td>False</td>\n",
              "      <td>distribution</td>\n",
              "      <td>False</td>\n",
              "      <td>NaN</td>\n",
              "      <td>NaN</td>\n",
              "      <td>For each time frame, the mean value that was d...</td>\n",
              "      <td>None</td>\n",
              "      <td>NaN</td>\n",
              "      <td>NaN</td>\n",
              "      <td>NaN</td>\n",
              "      <td>None</td>\n",
              "      <td>None</td>\n",
              "      <td>None</td>\n",
              "    </tr>\n",
              "  </tbody>\n",
              "</table>\n",
              "</div>\n",
              "      <button class=\"colab-df-convert\" onclick=\"convertToInteractive('df-2b3198ea-b554-4ff9-8ba6-70c35abcb771')\"\n",
              "              title=\"Convert this dataframe to an interactive table.\"\n",
              "              style=\"display:none;\">\n",
              "        \n",
              "  <svg xmlns=\"http://www.w3.org/2000/svg\" height=\"24px\"viewBox=\"0 0 24 24\"\n",
              "       width=\"24px\">\n",
              "    <path d=\"M0 0h24v24H0V0z\" fill=\"none\"/>\n",
              "    <path d=\"M18.56 5.44l.94 2.06.94-2.06 2.06-.94-2.06-.94-.94-2.06-.94 2.06-2.06.94zm-11 1L8.5 8.5l.94-2.06 2.06-.94-2.06-.94L8.5 2.5l-.94 2.06-2.06.94zm10 10l.94 2.06.94-2.06 2.06-.94-2.06-.94-.94-2.06-.94 2.06-2.06.94z\"/><path d=\"M17.41 7.96l-1.37-1.37c-.4-.4-.92-.59-1.43-.59-.52 0-1.04.2-1.43.59L10.3 9.45l-7.72 7.72c-.78.78-.78 2.05 0 2.83L4 21.41c.39.39.9.59 1.41.59.51 0 1.02-.2 1.41-.59l7.78-7.78 2.81-2.81c.8-.78.8-2.07 0-2.86zM5.41 20L4 18.59l7.72-7.72 1.47 1.35L5.41 20z\"/>\n",
              "  </svg>\n",
              "      </button>\n",
              "      \n",
              "  <style>\n",
              "    .colab-df-container {\n",
              "      display:flex;\n",
              "      flex-wrap:wrap;\n",
              "      gap: 12px;\n",
              "    }\n",
              "\n",
              "    .colab-df-convert {\n",
              "      background-color: #E8F0FE;\n",
              "      border: none;\n",
              "      border-radius: 50%;\n",
              "      cursor: pointer;\n",
              "      display: none;\n",
              "      fill: #1967D2;\n",
              "      height: 32px;\n",
              "      padding: 0 0 0 0;\n",
              "      width: 32px;\n",
              "    }\n",
              "\n",
              "    .colab-df-convert:hover {\n",
              "      background-color: #E2EBFA;\n",
              "      box-shadow: 0px 1px 2px rgba(60, 64, 67, 0.3), 0px 1px 3px 1px rgba(60, 64, 67, 0.15);\n",
              "      fill: #174EA6;\n",
              "    }\n",
              "\n",
              "    [theme=dark] .colab-df-convert {\n",
              "      background-color: #3B4455;\n",
              "      fill: #D2E3FC;\n",
              "    }\n",
              "\n",
              "    [theme=dark] .colab-df-convert:hover {\n",
              "      background-color: #434B5C;\n",
              "      box-shadow: 0px 1px 3px 1px rgba(0, 0, 0, 0.15);\n",
              "      filter: drop-shadow(0px 1px 2px rgba(0, 0, 0, 0.3));\n",
              "      fill: #FFFFFF;\n",
              "    }\n",
              "  </style>\n",
              "\n",
              "      <script>\n",
              "        const buttonEl =\n",
              "          document.querySelector('#df-2b3198ea-b554-4ff9-8ba6-70c35abcb771 button.colab-df-convert');\n",
              "        buttonEl.style.display =\n",
              "          google.colab.kernel.accessAllowed ? 'block' : 'none';\n",
              "\n",
              "        async function convertToInteractive(key) {\n",
              "          const element = document.querySelector('#df-2b3198ea-b554-4ff9-8ba6-70c35abcb771');\n",
              "          const dataTable =\n",
              "            await google.colab.kernel.invokeFunction('convertToInteractive',\n",
              "                                                     [key], {});\n",
              "          if (!dataTable) return;\n",
              "\n",
              "          const docLinkHtml = 'Like what you see? Visit the ' +\n",
              "            '<a target=\"_blank\" href=https://colab.research.google.com/notebooks/data_table.ipynb>data table notebook</a>'\n",
              "            + ' to learn more about interactive tables.';\n",
              "          element.innerHTML = '';\n",
              "          dataTable['output_type'] = 'display_data';\n",
              "          await google.colab.output.renderOutput(dataTable, element);\n",
              "          const docLink = document.createElement('div');\n",
              "          docLink.innerHTML = docLinkHtml;\n",
              "          element.appendChild(docLink);\n",
              "        }\n",
              "      </script>\n",
              "    </div>\n",
              "  </div>\n",
              "  "
            ]
          },
          "metadata": {},
          "execution_count": 30
        }
      ],
      "source": [
        "request_url  = f'{URL_PREFIX}/kpi/v1/metrics-functions'\n",
        "res = requests.get(request_url, headers=HEADERS)\n",
        "res.raise_for_status()\n",
        "metrics = pd.DataFrame(res.json()) \n",
        "metrics.head()"
      ]
    },
    {
      "cell_type": "code",
      "execution_count": 31,
      "id": "51a62846-e032-477e-8fc4-193a467b4a7e",
      "metadata": {
        "id": "51a62846-e032-477e-8fc4-193a467b4a7e",
        "colab": {
          "base_uri": "https://localhost:8080/"
        },
        "outputId": "e45252ea-3c70-4028-c630-0ba13ba58b0c"
      },
      "outputs": [
        {
          "output_type": "execute_result",
          "data": {
            "text/plain": [
              "1"
            ]
          },
          "metadata": {},
          "execution_count": 31
        }
      ],
      "source": [
        "METRIC_ID=metrics.set_index('name').loc['distribution_shift']['id'] \n",
        "METRIC_ID"
      ]
    },
    {
      "cell_type": "code",
      "execution_count": 32,
      "id": "582bf4bd-f288-48e2-a0f1-ee7de61d7180",
      "metadata": {
        "id": "582bf4bd-f288-48e2-a0f1-ee7de61d7180",
        "colab": {
          "base_uri": "https://localhost:8080/",
          "height": 371
        },
        "outputId": "522a70e4-ae15-46ee-dac9-efc0d4ebbda3"
      },
      "outputs": [
        {
          "output_type": "execute_result",
          "data": {
            "text/plain": [
              "                                 id  task_id  version_id  segment_id  \\\n",
              "0  c77218a7b29b01da1ab58b987f54a107        8           7          -1   \n",
              "1  5939fb919a986a1ea86e6ea5208ea8d4        8           7          -1   \n",
              "2  f71677a0559b89dca3e177bcf8fa74b6        8           7          -1   \n",
              "3  4d33d1ce092652d5935e7acb572941ea        8           7          -1   \n",
              "4  5cdd43044df7f2d2bdc6bbde812e86ae        8           7          -1   \n",
              "\n",
              "   dimension_id                 date_hour time_unit category  entity_id  \\\n",
              "0            -1 2022-05-17 00:00:00+00:00         D        D        151   \n",
              "1            -1 2022-05-17 00:00:00+00:00         D        D        165   \n",
              "2            -1 2022-05-17 00:00:00+00:00         D        D        164   \n",
              "3            -1 2022-05-17 00:00:00+00:00         D        D        163   \n",
              "4            -1 2022-05-17 00:00:00+00:00         D        D        162   \n",
              "\n",
              "   metric_id      value value_json  model_id                      entity_name  \n",
              "0          1   2.686583         {}         8               Transaction amount  \n",
              "1          1   0.355792         {}         8          Terimnal avg 30d spend   \n",
              "2          1  12.694677         {}         8  Terimnal 30d transaction amount  \n",
              "3          1   0.198034         {}         8            Terimnal avg 7d spend  \n",
              "4          1   3.986872         {}         8   Terimnal 7d transaction amount  "
            ],
            "text/html": [
              "\n",
              "  <div id=\"df-ad71b7eb-e86c-43ec-9a2e-148530d73d10\">\n",
              "    <div class=\"colab-df-container\">\n",
              "      <div>\n",
              "<style scoped>\n",
              "    .dataframe tbody tr th:only-of-type {\n",
              "        vertical-align: middle;\n",
              "    }\n",
              "\n",
              "    .dataframe tbody tr th {\n",
              "        vertical-align: top;\n",
              "    }\n",
              "\n",
              "    .dataframe thead th {\n",
              "        text-align: right;\n",
              "    }\n",
              "</style>\n",
              "<table border=\"1\" class=\"dataframe\">\n",
              "  <thead>\n",
              "    <tr style=\"text-align: right;\">\n",
              "      <th></th>\n",
              "      <th>id</th>\n",
              "      <th>task_id</th>\n",
              "      <th>version_id</th>\n",
              "      <th>segment_id</th>\n",
              "      <th>dimension_id</th>\n",
              "      <th>date_hour</th>\n",
              "      <th>time_unit</th>\n",
              "      <th>category</th>\n",
              "      <th>entity_id</th>\n",
              "      <th>metric_id</th>\n",
              "      <th>value</th>\n",
              "      <th>value_json</th>\n",
              "      <th>model_id</th>\n",
              "      <th>entity_name</th>\n",
              "    </tr>\n",
              "  </thead>\n",
              "  <tbody>\n",
              "    <tr>\n",
              "      <th>0</th>\n",
              "      <td>c77218a7b29b01da1ab58b987f54a107</td>\n",
              "      <td>8</td>\n",
              "      <td>7</td>\n",
              "      <td>-1</td>\n",
              "      <td>-1</td>\n",
              "      <td>2022-05-17 00:00:00+00:00</td>\n",
              "      <td>D</td>\n",
              "      <td>D</td>\n",
              "      <td>151</td>\n",
              "      <td>1</td>\n",
              "      <td>2.686583</td>\n",
              "      <td>{}</td>\n",
              "      <td>8</td>\n",
              "      <td>Transaction amount</td>\n",
              "    </tr>\n",
              "    <tr>\n",
              "      <th>1</th>\n",
              "      <td>5939fb919a986a1ea86e6ea5208ea8d4</td>\n",
              "      <td>8</td>\n",
              "      <td>7</td>\n",
              "      <td>-1</td>\n",
              "      <td>-1</td>\n",
              "      <td>2022-05-17 00:00:00+00:00</td>\n",
              "      <td>D</td>\n",
              "      <td>D</td>\n",
              "      <td>165</td>\n",
              "      <td>1</td>\n",
              "      <td>0.355792</td>\n",
              "      <td>{}</td>\n",
              "      <td>8</td>\n",
              "      <td>Terimnal avg 30d spend</td>\n",
              "    </tr>\n",
              "    <tr>\n",
              "      <th>2</th>\n",
              "      <td>f71677a0559b89dca3e177bcf8fa74b6</td>\n",
              "      <td>8</td>\n",
              "      <td>7</td>\n",
              "      <td>-1</td>\n",
              "      <td>-1</td>\n",
              "      <td>2022-05-17 00:00:00+00:00</td>\n",
              "      <td>D</td>\n",
              "      <td>D</td>\n",
              "      <td>164</td>\n",
              "      <td>1</td>\n",
              "      <td>12.694677</td>\n",
              "      <td>{}</td>\n",
              "      <td>8</td>\n",
              "      <td>Terimnal 30d transaction amount</td>\n",
              "    </tr>\n",
              "    <tr>\n",
              "      <th>3</th>\n",
              "      <td>4d33d1ce092652d5935e7acb572941ea</td>\n",
              "      <td>8</td>\n",
              "      <td>7</td>\n",
              "      <td>-1</td>\n",
              "      <td>-1</td>\n",
              "      <td>2022-05-17 00:00:00+00:00</td>\n",
              "      <td>D</td>\n",
              "      <td>D</td>\n",
              "      <td>163</td>\n",
              "      <td>1</td>\n",
              "      <td>0.198034</td>\n",
              "      <td>{}</td>\n",
              "      <td>8</td>\n",
              "      <td>Terimnal avg 7d spend</td>\n",
              "    </tr>\n",
              "    <tr>\n",
              "      <th>4</th>\n",
              "      <td>5cdd43044df7f2d2bdc6bbde812e86ae</td>\n",
              "      <td>8</td>\n",
              "      <td>7</td>\n",
              "      <td>-1</td>\n",
              "      <td>-1</td>\n",
              "      <td>2022-05-17 00:00:00+00:00</td>\n",
              "      <td>D</td>\n",
              "      <td>D</td>\n",
              "      <td>162</td>\n",
              "      <td>1</td>\n",
              "      <td>3.986872</td>\n",
              "      <td>{}</td>\n",
              "      <td>8</td>\n",
              "      <td>Terimnal 7d transaction amount</td>\n",
              "    </tr>\n",
              "  </tbody>\n",
              "</table>\n",
              "</div>\n",
              "      <button class=\"colab-df-convert\" onclick=\"convertToInteractive('df-ad71b7eb-e86c-43ec-9a2e-148530d73d10')\"\n",
              "              title=\"Convert this dataframe to an interactive table.\"\n",
              "              style=\"display:none;\">\n",
              "        \n",
              "  <svg xmlns=\"http://www.w3.org/2000/svg\" height=\"24px\"viewBox=\"0 0 24 24\"\n",
              "       width=\"24px\">\n",
              "    <path d=\"M0 0h24v24H0V0z\" fill=\"none\"/>\n",
              "    <path d=\"M18.56 5.44l.94 2.06.94-2.06 2.06-.94-2.06-.94-.94-2.06-.94 2.06-2.06.94zm-11 1L8.5 8.5l.94-2.06 2.06-.94-2.06-.94L8.5 2.5l-.94 2.06-2.06.94zm10 10l.94 2.06.94-2.06 2.06-.94-2.06-.94-.94-2.06-.94 2.06-2.06.94z\"/><path d=\"M17.41 7.96l-1.37-1.37c-.4-.4-.92-.59-1.43-.59-.52 0-1.04.2-1.43.59L10.3 9.45l-7.72 7.72c-.78.78-.78 2.05 0 2.83L4 21.41c.39.39.9.59 1.41.59.51 0 1.02-.2 1.41-.59l7.78-7.78 2.81-2.81c.8-.78.8-2.07 0-2.86zM5.41 20L4 18.59l7.72-7.72 1.47 1.35L5.41 20z\"/>\n",
              "  </svg>\n",
              "      </button>\n",
              "      \n",
              "  <style>\n",
              "    .colab-df-container {\n",
              "      display:flex;\n",
              "      flex-wrap:wrap;\n",
              "      gap: 12px;\n",
              "    }\n",
              "\n",
              "    .colab-df-convert {\n",
              "      background-color: #E8F0FE;\n",
              "      border: none;\n",
              "      border-radius: 50%;\n",
              "      cursor: pointer;\n",
              "      display: none;\n",
              "      fill: #1967D2;\n",
              "      height: 32px;\n",
              "      padding: 0 0 0 0;\n",
              "      width: 32px;\n",
              "    }\n",
              "\n",
              "    .colab-df-convert:hover {\n",
              "      background-color: #E2EBFA;\n",
              "      box-shadow: 0px 1px 2px rgba(60, 64, 67, 0.3), 0px 1px 3px 1px rgba(60, 64, 67, 0.15);\n",
              "      fill: #174EA6;\n",
              "    }\n",
              "\n",
              "    [theme=dark] .colab-df-convert {\n",
              "      background-color: #3B4455;\n",
              "      fill: #D2E3FC;\n",
              "    }\n",
              "\n",
              "    [theme=dark] .colab-df-convert:hover {\n",
              "      background-color: #434B5C;\n",
              "      box-shadow: 0px 1px 3px 1px rgba(0, 0, 0, 0.15);\n",
              "      filter: drop-shadow(0px 1px 2px rgba(0, 0, 0, 0.3));\n",
              "      fill: #FFFFFF;\n",
              "    }\n",
              "  </style>\n",
              "\n",
              "      <script>\n",
              "        const buttonEl =\n",
              "          document.querySelector('#df-ad71b7eb-e86c-43ec-9a2e-148530d73d10 button.colab-df-convert');\n",
              "        buttonEl.style.display =\n",
              "          google.colab.kernel.accessAllowed ? 'block' : 'none';\n",
              "\n",
              "        async function convertToInteractive(key) {\n",
              "          const element = document.querySelector('#df-ad71b7eb-e86c-43ec-9a2e-148530d73d10');\n",
              "          const dataTable =\n",
              "            await google.colab.kernel.invokeFunction('convertToInteractive',\n",
              "                                                     [key], {});\n",
              "          if (!dataTable) return;\n",
              "\n",
              "          const docLinkHtml = 'Like what you see? Visit the ' +\n",
              "            '<a target=\"_blank\" href=https://colab.research.google.com/notebooks/data_table.ipynb>data table notebook</a>'\n",
              "            + ' to learn more about interactive tables.';\n",
              "          element.innerHTML = '';\n",
              "          dataTable['output_type'] = 'display_data';\n",
              "          await google.colab.output.renderOutput(dataTable, element);\n",
              "          const docLink = document.createElement('div');\n",
              "          docLink.innerHTML = docLinkHtml;\n",
              "          element.appendChild(docLink);\n",
              "        }\n",
              "      </script>\n",
              "    </div>\n",
              "  </div>\n",
              "  "
            ]
          },
          "metadata": {},
          "execution_count": 32
        }
      ],
      "source": [
        "request_url  = f'{URL_PREFIX}/kpi/v1/metrics'\n",
        "requests_params = dict(task_id=MODEL_ID, vesrion_id=VERSION_ID, entity_id=ENTITY_IDS, segment_id=-1, metric_id=[METRIC_ID], time_unit='D')\n",
        "res = requests.get(request_url,params=requests_params,headers=HEADERS)\n",
        "res.raise_for_status()\n",
        "results_df =  pd.DataFrame(res.json())\n",
        "results_df['entity_name'] = results_df['entity_id'].map(features.set_index('id')['name'].to_dict())\n",
        "results_df['date_hour'] = pd.to_datetime(results_df['date_hour'])\n",
        "results_df.head()"
      ]
    },
    {
      "cell_type": "code",
      "execution_count": 33,
      "id": "026ca055-2266-4e48-8509-d0b721775f5b",
      "metadata": {
        "id": "026ca055-2266-4e48-8509-d0b721775f5b"
      },
      "outputs": [],
      "source": [
        "results_df = results_df[results_df['date_hour'].max() == results_df['date_hour']]\n",
        "results_df = results_df[['entity_name','value']]\n",
        "results_df = results_df.sort_values('value', ascending=False)"
      ]
    },
    {
      "cell_type": "markdown",
      "id": "0d887fcf-8e6b-4f0d-a658-10aab57de2b4",
      "metadata": {
        "id": "0d887fcf-8e6b-4f0d-a658-10aab57de2b4"
      },
      "source": [
        "#### Drift score per feature"
      ]
    },
    {
      "cell_type": "code",
      "execution_count": 34,
      "id": "58560dd5-0c01-44cd-ba54-3010e0f982d8",
      "metadata": {
        "id": "58560dd5-0c01-44cd-ba54-3010e0f982d8",
        "colab": {
          "base_uri": "https://localhost:8080/",
          "height": 542
        },
        "outputId": "535ea321-c69f-42e9-8a31-dc66f4276531"
      },
      "outputs": [
        {
          "output_type": "display_data",
          "data": {
            "text/html": [
              "<html>\n",
              "<head><meta charset=\"utf-8\" /></head>\n",
              "<body>\n",
              "    <div>            <script src=\"https://cdnjs.cloudflare.com/ajax/libs/mathjax/2.7.5/MathJax.js?config=TeX-AMS-MML_SVG\"></script><script type=\"text/javascript\">if (window.MathJax) {MathJax.Hub.Config({SVG: {font: \"STIX-Web\"}});}</script>                <script type=\"text/javascript\">window.PlotlyConfig = {MathJaxConfig: 'local'};</script>\n",
              "        <script src=\"https://cdn.plot.ly/plotly-2.6.3.min.js\"></script>                <div id=\"3d5d0f8e-9568-4b03-af96-dfdac8b3302f\" class=\"plotly-graph-div\" style=\"height:525px; width:100%;\"></div>            <script type=\"text/javascript\">                                    window.PLOTLYENV=window.PLOTLYENV || {};                                    if (document.getElementById(\"3d5d0f8e-9568-4b03-af96-dfdac8b3302f\")) {                    Plotly.newPlot(                        \"3d5d0f8e-9568-4b03-af96-dfdac8b3302f\",                        [{\"alignmentgroup\":\"True\",\"hovertemplate\":\"variable=value<br>entity_name=%{x}<br>_value=%{y}<extra></extra>\",\"legendgroup\":\"value\",\"marker\":{\"color\":\"#636efa\",\"pattern\":{\"shape\":\"\"}},\"name\":\"value\",\"offsetgroup\":\"value\",\"orientation\":\"v\",\"showlegend\":true,\"textposition\":\"auto\",\"x\":[\"Is weekend transaction\",\"Terimnal 30d transaction amount\",\"Customer 30d transaction amount\",\"Terimnal 7d transaction amount\",\"Customer avg 1d spend\",\"Transaction amount\",\"Customer 7d transaction amount\",\"Terimnal 1d transaction amount\",\"Customer 1d transaction amount\",\"Terimnal avg 30d spend \",\"Customer avg 30d spend\",\"Terimnal avg 7d spend\",\"Customer avg 7d spend\",\"Terimnal avg 1d spend\",\"Is night transaction\"],\"xaxis\":\"x\",\"y\":[59.8572628234,12.6946768693,11.1964303403,3.986872237,2.9775290562,2.6865832489,1.7824851088,1.5809037741,1.1210707879,0.3557916431,0.2098035382,0.1980338882,0.1551908905,0.1056161822,0.0228757001],\"yaxis\":\"y\",\"type\":\"bar\"}],                        {\"template\":{\"data\":{\"bar\":[{\"error_x\":{\"color\":\"#2a3f5f\"},\"error_y\":{\"color\":\"#2a3f5f\"},\"marker\":{\"line\":{\"color\":\"#E5ECF6\",\"width\":0.5},\"pattern\":{\"fillmode\":\"overlay\",\"size\":10,\"solidity\":0.2}},\"type\":\"bar\"}],\"barpolar\":[{\"marker\":{\"line\":{\"color\":\"#E5ECF6\",\"width\":0.5},\"pattern\":{\"fillmode\":\"overlay\",\"size\":10,\"solidity\":0.2}},\"type\":\"barpolar\"}],\"carpet\":[{\"aaxis\":{\"endlinecolor\":\"#2a3f5f\",\"gridcolor\":\"white\",\"linecolor\":\"white\",\"minorgridcolor\":\"white\",\"startlinecolor\":\"#2a3f5f\"},\"baxis\":{\"endlinecolor\":\"#2a3f5f\",\"gridcolor\":\"white\",\"linecolor\":\"white\",\"minorgridcolor\":\"white\",\"startlinecolor\":\"#2a3f5f\"},\"type\":\"carpet\"}],\"choropleth\":[{\"colorbar\":{\"outlinewidth\":0,\"ticks\":\"\"},\"type\":\"choropleth\"}],\"contour\":[{\"colorbar\":{\"outlinewidth\":0,\"ticks\":\"\"},\"colorscale\":[[0.0,\"#0d0887\"],[0.1111111111111111,\"#46039f\"],[0.2222222222222222,\"#7201a8\"],[0.3333333333333333,\"#9c179e\"],[0.4444444444444444,\"#bd3786\"],[0.5555555555555556,\"#d8576b\"],[0.6666666666666666,\"#ed7953\"],[0.7777777777777778,\"#fb9f3a\"],[0.8888888888888888,\"#fdca26\"],[1.0,\"#f0f921\"]],\"type\":\"contour\"}],\"contourcarpet\":[{\"colorbar\":{\"outlinewidth\":0,\"ticks\":\"\"},\"type\":\"contourcarpet\"}],\"heatmap\":[{\"colorbar\":{\"outlinewidth\":0,\"ticks\":\"\"},\"colorscale\":[[0.0,\"#0d0887\"],[0.1111111111111111,\"#46039f\"],[0.2222222222222222,\"#7201a8\"],[0.3333333333333333,\"#9c179e\"],[0.4444444444444444,\"#bd3786\"],[0.5555555555555556,\"#d8576b\"],[0.6666666666666666,\"#ed7953\"],[0.7777777777777778,\"#fb9f3a\"],[0.8888888888888888,\"#fdca26\"],[1.0,\"#f0f921\"]],\"type\":\"heatmap\"}],\"heatmapgl\":[{\"colorbar\":{\"outlinewidth\":0,\"ticks\":\"\"},\"colorscale\":[[0.0,\"#0d0887\"],[0.1111111111111111,\"#46039f\"],[0.2222222222222222,\"#7201a8\"],[0.3333333333333333,\"#9c179e\"],[0.4444444444444444,\"#bd3786\"],[0.5555555555555556,\"#d8576b\"],[0.6666666666666666,\"#ed7953\"],[0.7777777777777778,\"#fb9f3a\"],[0.8888888888888888,\"#fdca26\"],[1.0,\"#f0f921\"]],\"type\":\"heatmapgl\"}],\"histogram\":[{\"marker\":{\"pattern\":{\"fillmode\":\"overlay\",\"size\":10,\"solidity\":0.2}},\"type\":\"histogram\"}],\"histogram2d\":[{\"colorbar\":{\"outlinewidth\":0,\"ticks\":\"\"},\"colorscale\":[[0.0,\"#0d0887\"],[0.1111111111111111,\"#46039f\"],[0.2222222222222222,\"#7201a8\"],[0.3333333333333333,\"#9c179e\"],[0.4444444444444444,\"#bd3786\"],[0.5555555555555556,\"#d8576b\"],[0.6666666666666666,\"#ed7953\"],[0.7777777777777778,\"#fb9f3a\"],[0.8888888888888888,\"#fdca26\"],[1.0,\"#f0f921\"]],\"type\":\"histogram2d\"}],\"histogram2dcontour\":[{\"colorbar\":{\"outlinewidth\":0,\"ticks\":\"\"},\"colorscale\":[[0.0,\"#0d0887\"],[0.1111111111111111,\"#46039f\"],[0.2222222222222222,\"#7201a8\"],[0.3333333333333333,\"#9c179e\"],[0.4444444444444444,\"#bd3786\"],[0.5555555555555556,\"#d8576b\"],[0.6666666666666666,\"#ed7953\"],[0.7777777777777778,\"#fb9f3a\"],[0.8888888888888888,\"#fdca26\"],[1.0,\"#f0f921\"]],\"type\":\"histogram2dcontour\"}],\"mesh3d\":[{\"colorbar\":{\"outlinewidth\":0,\"ticks\":\"\"},\"type\":\"mesh3d\"}],\"parcoords\":[{\"line\":{\"colorbar\":{\"outlinewidth\":0,\"ticks\":\"\"}},\"type\":\"parcoords\"}],\"pie\":[{\"automargin\":true,\"type\":\"pie\"}],\"scatter\":[{\"marker\":{\"colorbar\":{\"outlinewidth\":0,\"ticks\":\"\"}},\"type\":\"scatter\"}],\"scatter3d\":[{\"line\":{\"colorbar\":{\"outlinewidth\":0,\"ticks\":\"\"}},\"marker\":{\"colorbar\":{\"outlinewidth\":0,\"ticks\":\"\"}},\"type\":\"scatter3d\"}],\"scattercarpet\":[{\"marker\":{\"colorbar\":{\"outlinewidth\":0,\"ticks\":\"\"}},\"type\":\"scattercarpet\"}],\"scattergeo\":[{\"marker\":{\"colorbar\":{\"outlinewidth\":0,\"ticks\":\"\"}},\"type\":\"scattergeo\"}],\"scattergl\":[{\"marker\":{\"colorbar\":{\"outlinewidth\":0,\"ticks\":\"\"}},\"type\":\"scattergl\"}],\"scattermapbox\":[{\"marker\":{\"colorbar\":{\"outlinewidth\":0,\"ticks\":\"\"}},\"type\":\"scattermapbox\"}],\"scatterpolar\":[{\"marker\":{\"colorbar\":{\"outlinewidth\":0,\"ticks\":\"\"}},\"type\":\"scatterpolar\"}],\"scatterpolargl\":[{\"marker\":{\"colorbar\":{\"outlinewidth\":0,\"ticks\":\"\"}},\"type\":\"scatterpolargl\"}],\"scatterternary\":[{\"marker\":{\"colorbar\":{\"outlinewidth\":0,\"ticks\":\"\"}},\"type\":\"scatterternary\"}],\"surface\":[{\"colorbar\":{\"outlinewidth\":0,\"ticks\":\"\"},\"colorscale\":[[0.0,\"#0d0887\"],[0.1111111111111111,\"#46039f\"],[0.2222222222222222,\"#7201a8\"],[0.3333333333333333,\"#9c179e\"],[0.4444444444444444,\"#bd3786\"],[0.5555555555555556,\"#d8576b\"],[0.6666666666666666,\"#ed7953\"],[0.7777777777777778,\"#fb9f3a\"],[0.8888888888888888,\"#fdca26\"],[1.0,\"#f0f921\"]],\"type\":\"surface\"}],\"table\":[{\"cells\":{\"fill\":{\"color\":\"#EBF0F8\"},\"line\":{\"color\":\"white\"}},\"header\":{\"fill\":{\"color\":\"#C8D4E3\"},\"line\":{\"color\":\"white\"}},\"type\":\"table\"}]},\"layout\":{\"annotationdefaults\":{\"arrowcolor\":\"#2a3f5f\",\"arrowhead\":0,\"arrowwidth\":1},\"autotypenumbers\":\"strict\",\"coloraxis\":{\"colorbar\":{\"outlinewidth\":0,\"ticks\":\"\"}},\"colorscale\":{\"diverging\":[[0,\"#8e0152\"],[0.1,\"#c51b7d\"],[0.2,\"#de77ae\"],[0.3,\"#f1b6da\"],[0.4,\"#fde0ef\"],[0.5,\"#f7f7f7\"],[0.6,\"#e6f5d0\"],[0.7,\"#b8e186\"],[0.8,\"#7fbc41\"],[0.9,\"#4d9221\"],[1,\"#276419\"]],\"sequential\":[[0.0,\"#0d0887\"],[0.1111111111111111,\"#46039f\"],[0.2222222222222222,\"#7201a8\"],[0.3333333333333333,\"#9c179e\"],[0.4444444444444444,\"#bd3786\"],[0.5555555555555556,\"#d8576b\"],[0.6666666666666666,\"#ed7953\"],[0.7777777777777778,\"#fb9f3a\"],[0.8888888888888888,\"#fdca26\"],[1.0,\"#f0f921\"]],\"sequentialminus\":[[0.0,\"#0d0887\"],[0.1111111111111111,\"#46039f\"],[0.2222222222222222,\"#7201a8\"],[0.3333333333333333,\"#9c179e\"],[0.4444444444444444,\"#bd3786\"],[0.5555555555555556,\"#d8576b\"],[0.6666666666666666,\"#ed7953\"],[0.7777777777777778,\"#fb9f3a\"],[0.8888888888888888,\"#fdca26\"],[1.0,\"#f0f921\"]]},\"colorway\":[\"#636efa\",\"#EF553B\",\"#00cc96\",\"#ab63fa\",\"#FFA15A\",\"#19d3f3\",\"#FF6692\",\"#B6E880\",\"#FF97FF\",\"#FECB52\"],\"font\":{\"color\":\"#2a3f5f\"},\"geo\":{\"bgcolor\":\"white\",\"lakecolor\":\"white\",\"landcolor\":\"#E5ECF6\",\"showlakes\":true,\"showland\":true,\"subunitcolor\":\"white\"},\"hoverlabel\":{\"align\":\"left\"},\"hovermode\":\"closest\",\"mapbox\":{\"style\":\"light\"},\"paper_bgcolor\":\"white\",\"plot_bgcolor\":\"#E5ECF6\",\"polar\":{\"angularaxis\":{\"gridcolor\":\"white\",\"linecolor\":\"white\",\"ticks\":\"\"},\"bgcolor\":\"#E5ECF6\",\"radialaxis\":{\"gridcolor\":\"white\",\"linecolor\":\"white\",\"ticks\":\"\"}},\"scene\":{\"xaxis\":{\"backgroundcolor\":\"#E5ECF6\",\"gridcolor\":\"white\",\"gridwidth\":2,\"linecolor\":\"white\",\"showbackground\":true,\"ticks\":\"\",\"zerolinecolor\":\"white\"},\"yaxis\":{\"backgroundcolor\":\"#E5ECF6\",\"gridcolor\":\"white\",\"gridwidth\":2,\"linecolor\":\"white\",\"showbackground\":true,\"ticks\":\"\",\"zerolinecolor\":\"white\"},\"zaxis\":{\"backgroundcolor\":\"#E5ECF6\",\"gridcolor\":\"white\",\"gridwidth\":2,\"linecolor\":\"white\",\"showbackground\":true,\"ticks\":\"\",\"zerolinecolor\":\"white\"}},\"shapedefaults\":{\"line\":{\"color\":\"#2a3f5f\"}},\"ternary\":{\"aaxis\":{\"gridcolor\":\"white\",\"linecolor\":\"white\",\"ticks\":\"\"},\"baxis\":{\"gridcolor\":\"white\",\"linecolor\":\"white\",\"ticks\":\"\"},\"bgcolor\":\"#E5ECF6\",\"caxis\":{\"gridcolor\":\"white\",\"linecolor\":\"white\",\"ticks\":\"\"}},\"title\":{\"x\":0.05},\"xaxis\":{\"automargin\":true,\"gridcolor\":\"white\",\"linecolor\":\"white\",\"ticks\":\"\",\"title\":{\"standoff\":15},\"zerolinecolor\":\"white\",\"zerolinewidth\":2},\"yaxis\":{\"automargin\":true,\"gridcolor\":\"white\",\"linecolor\":\"white\",\"ticks\":\"\",\"title\":{\"standoff\":15},\"zerolinecolor\":\"white\",\"zerolinewidth\":2}}},\"xaxis\":{\"anchor\":\"y\",\"domain\":[0.0,1.0],\"title\":{\"text\":\"entity_name\"}},\"yaxis\":{\"anchor\":\"x\",\"domain\":[0.0,1.0],\"title\":{\"text\":\"_value\"}},\"legend\":{\"title\":{\"text\":\"variable\"},\"tracegroupgap\":0},\"margin\":{\"t\":60},\"barmode\":\"relative\"},                        {\"responsive\": true}                    ).then(function(){\n",
              "                            \n",
              "var gd = document.getElementById('3d5d0f8e-9568-4b03-af96-dfdac8b3302f');\n",
              "var x = new MutationObserver(function (mutations, observer) {{\n",
              "        var display = window.getComputedStyle(gd).display;\n",
              "        if (!display || display === 'none') {{\n",
              "            console.log([gd, 'removed!']);\n",
              "            Plotly.purge(gd);\n",
              "            observer.disconnect();\n",
              "        }}\n",
              "}});\n",
              "\n",
              "// Listen for the removal of the full notebook cells\n",
              "var notebookContainer = gd.closest('#notebook-container');\n",
              "if (notebookContainer) {{\n",
              "    x.observe(notebookContainer, {childList: true});\n",
              "}}\n",
              "\n",
              "// Listen for the clearing of the current output cell\n",
              "var outputEl = gd.closest('.output');\n",
              "if (outputEl) {{\n",
              "    x.observe(outputEl, {childList: true});\n",
              "}}\n",
              "\n",
              "                        })                };                            </script>        </div>\n",
              "</body>\n",
              "</html>"
            ]
          },
          "metadata": {}
        }
      ],
      "source": [
        "results_df.sort_values('value', ascending=False).set_index('entity_name').plot.bar()"
      ]
    },
    {
      "cell_type": "markdown",
      "id": "17486125-649c-4415-85fd-84cc68604ca9",
      "metadata": {
        "id": "17486125-649c-4415-85fd-84cc68604ca9"
      },
      "source": [
        "<a id='segment'></a>\n",
        "##4️⃣. 🌎 Most drifted segments\n",
        "\n",
        "Parameter to Set:    \n",
        "\n",
        "`THRESHOLD` - This parameter will color in red features that have drifted beyond the threshold (Default: 5)"
      ]
    },
    {
      "cell_type": "code",
      "source": [
        "THRESHOLD = 12.5 # @param"
      ],
      "metadata": {
        "id": "rqnb1v7NzWZa"
      },
      "id": "rqnb1v7NzWZa",
      "execution_count": 35,
      "outputs": []
    },
    {
      "cell_type": "code",
      "source": [
        "METRIC_ID=metrics.set_index('name').loc['quantity']['id'] \n",
        "METRIC_ID"
      ],
      "metadata": {
        "id": "vh2s_rjjQBL5",
        "colab": {
          "base_uri": "https://localhost:8080/"
        },
        "outputId": "a64e4f33-19c0-455e-b728-7c204d3685b1"
      },
      "id": "vh2s_rjjQBL5",
      "execution_count": 36,
      "outputs": [
        {
          "output_type": "execute_result",
          "data": {
            "text/plain": [
              "13"
            ]
          },
          "metadata": {},
          "execution_count": 36
        }
      ]
    },
    {
      "cell_type": "code",
      "source": [
        "request_url  = f'{URL_PREFIX}/kpi/v1/metrics'\n",
        "requests_params = dict(task_id=MODEL_ID, vesrion_id=VERSION_ID, entity_id=-1, metric_id=[METRIC_ID], time_unit='D')\n",
        "res = requests.get(request_url,params=requests_params,headers=HEADERS)\n",
        "res.raise_for_status()\n",
        "results_df =  pd.DataFrame(res.json())\n",
        "results_df['entity_name'] = results_df['entity_id'].map(features.set_index('id')['name'].to_dict())\n",
        "results_df['date_hour'] = pd.to_datetime(results_df['date_hour'])\n",
        "results_df = results_df[['segment_id','value']]\n",
        "results_df = results_df.groupby('segment_id').agg('sum').reset_index()\n",
        "results_df['segment_size'] = results_df['value'] / float(results_df['value'].sum()) \n",
        "results_df = results_df[['segment_id','segment_size']]\n",
        "results_df.head()"
      ],
      "metadata": {
        "id": "xxDdsXovQFVh",
        "colab": {
          "base_uri": "https://localhost:8080/",
          "height": 206
        },
        "outputId": "2e48f840-75d1-4c9c-8219-d9d72f429cab"
      },
      "id": "xxDdsXovQFVh",
      "execution_count": 37,
      "outputs": [
        {
          "output_type": "execute_result",
          "data": {
            "text/plain": [
              "   segment_id  segment_size\n",
              "0          -1      0.980780\n",
              "1          29      0.005580\n",
              "2          30      0.005562\n",
              "3          31      0.005565\n",
              "4          32      0.002513"
            ],
            "text/html": [
              "\n",
              "  <div id=\"df-9e7b63cc-995a-4858-b138-e21eb7c8356f\">\n",
              "    <div class=\"colab-df-container\">\n",
              "      <div>\n",
              "<style scoped>\n",
              "    .dataframe tbody tr th:only-of-type {\n",
              "        vertical-align: middle;\n",
              "    }\n",
              "\n",
              "    .dataframe tbody tr th {\n",
              "        vertical-align: top;\n",
              "    }\n",
              "\n",
              "    .dataframe thead th {\n",
              "        text-align: right;\n",
              "    }\n",
              "</style>\n",
              "<table border=\"1\" class=\"dataframe\">\n",
              "  <thead>\n",
              "    <tr style=\"text-align: right;\">\n",
              "      <th></th>\n",
              "      <th>segment_id</th>\n",
              "      <th>segment_size</th>\n",
              "    </tr>\n",
              "  </thead>\n",
              "  <tbody>\n",
              "    <tr>\n",
              "      <th>0</th>\n",
              "      <td>-1</td>\n",
              "      <td>0.980780</td>\n",
              "    </tr>\n",
              "    <tr>\n",
              "      <th>1</th>\n",
              "      <td>29</td>\n",
              "      <td>0.005580</td>\n",
              "    </tr>\n",
              "    <tr>\n",
              "      <th>2</th>\n",
              "      <td>30</td>\n",
              "      <td>0.005562</td>\n",
              "    </tr>\n",
              "    <tr>\n",
              "      <th>3</th>\n",
              "      <td>31</td>\n",
              "      <td>0.005565</td>\n",
              "    </tr>\n",
              "    <tr>\n",
              "      <th>4</th>\n",
              "      <td>32</td>\n",
              "      <td>0.002513</td>\n",
              "    </tr>\n",
              "  </tbody>\n",
              "</table>\n",
              "</div>\n",
              "      <button class=\"colab-df-convert\" onclick=\"convertToInteractive('df-9e7b63cc-995a-4858-b138-e21eb7c8356f')\"\n",
              "              title=\"Convert this dataframe to an interactive table.\"\n",
              "              style=\"display:none;\">\n",
              "        \n",
              "  <svg xmlns=\"http://www.w3.org/2000/svg\" height=\"24px\"viewBox=\"0 0 24 24\"\n",
              "       width=\"24px\">\n",
              "    <path d=\"M0 0h24v24H0V0z\" fill=\"none\"/>\n",
              "    <path d=\"M18.56 5.44l.94 2.06.94-2.06 2.06-.94-2.06-.94-.94-2.06-.94 2.06-2.06.94zm-11 1L8.5 8.5l.94-2.06 2.06-.94-2.06-.94L8.5 2.5l-.94 2.06-2.06.94zm10 10l.94 2.06.94-2.06 2.06-.94-2.06-.94-.94-2.06-.94 2.06-2.06.94z\"/><path d=\"M17.41 7.96l-1.37-1.37c-.4-.4-.92-.59-1.43-.59-.52 0-1.04.2-1.43.59L10.3 9.45l-7.72 7.72c-.78.78-.78 2.05 0 2.83L4 21.41c.39.39.9.59 1.41.59.51 0 1.02-.2 1.41-.59l7.78-7.78 2.81-2.81c.8-.78.8-2.07 0-2.86zM5.41 20L4 18.59l7.72-7.72 1.47 1.35L5.41 20z\"/>\n",
              "  </svg>\n",
              "      </button>\n",
              "      \n",
              "  <style>\n",
              "    .colab-df-container {\n",
              "      display:flex;\n",
              "      flex-wrap:wrap;\n",
              "      gap: 12px;\n",
              "    }\n",
              "\n",
              "    .colab-df-convert {\n",
              "      background-color: #E8F0FE;\n",
              "      border: none;\n",
              "      border-radius: 50%;\n",
              "      cursor: pointer;\n",
              "      display: none;\n",
              "      fill: #1967D2;\n",
              "      height: 32px;\n",
              "      padding: 0 0 0 0;\n",
              "      width: 32px;\n",
              "    }\n",
              "\n",
              "    .colab-df-convert:hover {\n",
              "      background-color: #E2EBFA;\n",
              "      box-shadow: 0px 1px 2px rgba(60, 64, 67, 0.3), 0px 1px 3px 1px rgba(60, 64, 67, 0.15);\n",
              "      fill: #174EA6;\n",
              "    }\n",
              "\n",
              "    [theme=dark] .colab-df-convert {\n",
              "      background-color: #3B4455;\n",
              "      fill: #D2E3FC;\n",
              "    }\n",
              "\n",
              "    [theme=dark] .colab-df-convert:hover {\n",
              "      background-color: #434B5C;\n",
              "      box-shadow: 0px 1px 3px 1px rgba(0, 0, 0, 0.15);\n",
              "      filter: drop-shadow(0px 1px 2px rgba(0, 0, 0, 0.3));\n",
              "      fill: #FFFFFF;\n",
              "    }\n",
              "  </style>\n",
              "\n",
              "      <script>\n",
              "        const buttonEl =\n",
              "          document.querySelector('#df-9e7b63cc-995a-4858-b138-e21eb7c8356f button.colab-df-convert');\n",
              "        buttonEl.style.display =\n",
              "          google.colab.kernel.accessAllowed ? 'block' : 'none';\n",
              "\n",
              "        async function convertToInteractive(key) {\n",
              "          const element = document.querySelector('#df-9e7b63cc-995a-4858-b138-e21eb7c8356f');\n",
              "          const dataTable =\n",
              "            await google.colab.kernel.invokeFunction('convertToInteractive',\n",
              "                                                     [key], {});\n",
              "          if (!dataTable) return;\n",
              "\n",
              "          const docLinkHtml = 'Like what you see? Visit the ' +\n",
              "            '<a target=\"_blank\" href=https://colab.research.google.com/notebooks/data_table.ipynb>data table notebook</a>'\n",
              "            + ' to learn more about interactive tables.';\n",
              "          element.innerHTML = '';\n",
              "          dataTable['output_type'] = 'display_data';\n",
              "          await google.colab.output.renderOutput(dataTable, element);\n",
              "          const docLink = document.createElement('div');\n",
              "          docLink.innerHTML = docLinkHtml;\n",
              "          element.appendChild(docLink);\n",
              "        }\n",
              "      </script>\n",
              "    </div>\n",
              "  </div>\n",
              "  "
            ]
          },
          "metadata": {},
          "execution_count": 37
        }
      ]
    },
    {
      "cell_type": "code",
      "execution_count": 38,
      "id": "3be2edf4-0801-4a7f-9af8-d81af3974539",
      "metadata": {
        "id": "3be2edf4-0801-4a7f-9af8-d81af3974539",
        "colab": {
          "base_uri": "https://localhost:8080/",
          "height": 175
        },
        "outputId": "aa2dbcb1-3bd2-4cf2-acfd-a5ec925cc1c6"
      },
      "outputs": [
        {
          "output_type": "execute_result",
          "data": {
            "text/plain": [
              "   segment_id                        name\n",
              "0          29                Mobile users\n",
              "1          30                   Web users\n",
              "2          32  Mobile users - high amount\n",
              "3          31  Weak spot (Auto-generated)"
            ],
            "text/html": [
              "\n",
              "  <div id=\"df-a28f6343-c144-43fe-acd3-dd35b2ae3694\">\n",
              "    <div class=\"colab-df-container\">\n",
              "      <div>\n",
              "<style scoped>\n",
              "    .dataframe tbody tr th:only-of-type {\n",
              "        vertical-align: middle;\n",
              "    }\n",
              "\n",
              "    .dataframe tbody tr th {\n",
              "        vertical-align: top;\n",
              "    }\n",
              "\n",
              "    .dataframe thead th {\n",
              "        text-align: right;\n",
              "    }\n",
              "</style>\n",
              "<table border=\"1\" class=\"dataframe\">\n",
              "  <thead>\n",
              "    <tr style=\"text-align: right;\">\n",
              "      <th></th>\n",
              "      <th>segment_id</th>\n",
              "      <th>name</th>\n",
              "    </tr>\n",
              "  </thead>\n",
              "  <tbody>\n",
              "    <tr>\n",
              "      <th>0</th>\n",
              "      <td>29</td>\n",
              "      <td>Mobile users</td>\n",
              "    </tr>\n",
              "    <tr>\n",
              "      <th>1</th>\n",
              "      <td>30</td>\n",
              "      <td>Web users</td>\n",
              "    </tr>\n",
              "    <tr>\n",
              "      <th>2</th>\n",
              "      <td>32</td>\n",
              "      <td>Mobile users - high amount</td>\n",
              "    </tr>\n",
              "    <tr>\n",
              "      <th>3</th>\n",
              "      <td>31</td>\n",
              "      <td>Weak spot (Auto-generated)</td>\n",
              "    </tr>\n",
              "  </tbody>\n",
              "</table>\n",
              "</div>\n",
              "      <button class=\"colab-df-convert\" onclick=\"convertToInteractive('df-a28f6343-c144-43fe-acd3-dd35b2ae3694')\"\n",
              "              title=\"Convert this dataframe to an interactive table.\"\n",
              "              style=\"display:none;\">\n",
              "        \n",
              "  <svg xmlns=\"http://www.w3.org/2000/svg\" height=\"24px\"viewBox=\"0 0 24 24\"\n",
              "       width=\"24px\">\n",
              "    <path d=\"M0 0h24v24H0V0z\" fill=\"none\"/>\n",
              "    <path d=\"M18.56 5.44l.94 2.06.94-2.06 2.06-.94-2.06-.94-.94-2.06-.94 2.06-2.06.94zm-11 1L8.5 8.5l.94-2.06 2.06-.94-2.06-.94L8.5 2.5l-.94 2.06-2.06.94zm10 10l.94 2.06.94-2.06 2.06-.94-2.06-.94-.94-2.06-.94 2.06-2.06.94z\"/><path d=\"M17.41 7.96l-1.37-1.37c-.4-.4-.92-.59-1.43-.59-.52 0-1.04.2-1.43.59L10.3 9.45l-7.72 7.72c-.78.78-.78 2.05 0 2.83L4 21.41c.39.39.9.59 1.41.59.51 0 1.02-.2 1.41-.59l7.78-7.78 2.81-2.81c.8-.78.8-2.07 0-2.86zM5.41 20L4 18.59l7.72-7.72 1.47 1.35L5.41 20z\"/>\n",
              "  </svg>\n",
              "      </button>\n",
              "      \n",
              "  <style>\n",
              "    .colab-df-container {\n",
              "      display:flex;\n",
              "      flex-wrap:wrap;\n",
              "      gap: 12px;\n",
              "    }\n",
              "\n",
              "    .colab-df-convert {\n",
              "      background-color: #E8F0FE;\n",
              "      border: none;\n",
              "      border-radius: 50%;\n",
              "      cursor: pointer;\n",
              "      display: none;\n",
              "      fill: #1967D2;\n",
              "      height: 32px;\n",
              "      padding: 0 0 0 0;\n",
              "      width: 32px;\n",
              "    }\n",
              "\n",
              "    .colab-df-convert:hover {\n",
              "      background-color: #E2EBFA;\n",
              "      box-shadow: 0px 1px 2px rgba(60, 64, 67, 0.3), 0px 1px 3px 1px rgba(60, 64, 67, 0.15);\n",
              "      fill: #174EA6;\n",
              "    }\n",
              "\n",
              "    [theme=dark] .colab-df-convert {\n",
              "      background-color: #3B4455;\n",
              "      fill: #D2E3FC;\n",
              "    }\n",
              "\n",
              "    [theme=dark] .colab-df-convert:hover {\n",
              "      background-color: #434B5C;\n",
              "      box-shadow: 0px 1px 3px 1px rgba(0, 0, 0, 0.15);\n",
              "      filter: drop-shadow(0px 1px 2px rgba(0, 0, 0, 0.3));\n",
              "      fill: #FFFFFF;\n",
              "    }\n",
              "  </style>\n",
              "\n",
              "      <script>\n",
              "        const buttonEl =\n",
              "          document.querySelector('#df-a28f6343-c144-43fe-acd3-dd35b2ae3694 button.colab-df-convert');\n",
              "        buttonEl.style.display =\n",
              "          google.colab.kernel.accessAllowed ? 'block' : 'none';\n",
              "\n",
              "        async function convertToInteractive(key) {\n",
              "          const element = document.querySelector('#df-a28f6343-c144-43fe-acd3-dd35b2ae3694');\n",
              "          const dataTable =\n",
              "            await google.colab.kernel.invokeFunction('convertToInteractive',\n",
              "                                                     [key], {});\n",
              "          if (!dataTable) return;\n",
              "\n",
              "          const docLinkHtml = 'Like what you see? Visit the ' +\n",
              "            '<a target=\"_blank\" href=https://colab.research.google.com/notebooks/data_table.ipynb>data table notebook</a>'\n",
              "            + ' to learn more about interactive tables.';\n",
              "          element.innerHTML = '';\n",
              "          dataTable['output_type'] = 'display_data';\n",
              "          await google.colab.output.renderOutput(dataTable, element);\n",
              "          const docLink = document.createElement('div');\n",
              "          docLink.innerHTML = docLinkHtml;\n",
              "          element.appendChild(docLink);\n",
              "        }\n",
              "      </script>\n",
              "    </div>\n",
              "  </div>\n",
              "  "
            ]
          },
          "metadata": {},
          "execution_count": 38
        }
      ],
      "source": [
        "request_url  = f'{URL_PREFIX}/admin/v1/segments?task_id={MODEL_ID}'\n",
        "res = requests.get(request_url,params=requests_params,headers=HEADERS)\n",
        "res.raise_for_status()\n",
        "segments_df = pd.DataFrame(res.json())\n",
        "segments_df = segments_df[['id','name']].rename(columns={'id': 'segment_id'})\n",
        "segments_df.head(5)"
      ]
    },
    {
      "cell_type": "code",
      "execution_count": 39,
      "id": "f907f57d-3bf3-446b-9aea-8fc32921b999",
      "metadata": {
        "id": "f907f57d-3bf3-446b-9aea-8fc32921b999",
        "colab": {
          "base_uri": "https://localhost:8080/",
          "height": 175
        },
        "outputId": "2eead166-fd10-4d0f-afbf-09055ff98dd8"
      },
      "outputs": [
        {
          "output_type": "execute_result",
          "data": {
            "text/plain": [
              "   segment_id                        name  segment_size\n",
              "0          29                Mobile users      0.005580\n",
              "1          30                   Web users      0.005562\n",
              "2          32  Mobile users - high amount      0.002513\n",
              "3          31  Weak spot (Auto-generated)      0.005565"
            ],
            "text/html": [
              "\n",
              "  <div id=\"df-ab7b25d8-7ebd-408b-a611-765e789b671e\">\n",
              "    <div class=\"colab-df-container\">\n",
              "      <div>\n",
              "<style scoped>\n",
              "    .dataframe tbody tr th:only-of-type {\n",
              "        vertical-align: middle;\n",
              "    }\n",
              "\n",
              "    .dataframe tbody tr th {\n",
              "        vertical-align: top;\n",
              "    }\n",
              "\n",
              "    .dataframe thead th {\n",
              "        text-align: right;\n",
              "    }\n",
              "</style>\n",
              "<table border=\"1\" class=\"dataframe\">\n",
              "  <thead>\n",
              "    <tr style=\"text-align: right;\">\n",
              "      <th></th>\n",
              "      <th>segment_id</th>\n",
              "      <th>name</th>\n",
              "      <th>segment_size</th>\n",
              "    </tr>\n",
              "  </thead>\n",
              "  <tbody>\n",
              "    <tr>\n",
              "      <th>0</th>\n",
              "      <td>29</td>\n",
              "      <td>Mobile users</td>\n",
              "      <td>0.005580</td>\n",
              "    </tr>\n",
              "    <tr>\n",
              "      <th>1</th>\n",
              "      <td>30</td>\n",
              "      <td>Web users</td>\n",
              "      <td>0.005562</td>\n",
              "    </tr>\n",
              "    <tr>\n",
              "      <th>2</th>\n",
              "      <td>32</td>\n",
              "      <td>Mobile users - high amount</td>\n",
              "      <td>0.002513</td>\n",
              "    </tr>\n",
              "    <tr>\n",
              "      <th>3</th>\n",
              "      <td>31</td>\n",
              "      <td>Weak spot (Auto-generated)</td>\n",
              "      <td>0.005565</td>\n",
              "    </tr>\n",
              "  </tbody>\n",
              "</table>\n",
              "</div>\n",
              "      <button class=\"colab-df-convert\" onclick=\"convertToInteractive('df-ab7b25d8-7ebd-408b-a611-765e789b671e')\"\n",
              "              title=\"Convert this dataframe to an interactive table.\"\n",
              "              style=\"display:none;\">\n",
              "        \n",
              "  <svg xmlns=\"http://www.w3.org/2000/svg\" height=\"24px\"viewBox=\"0 0 24 24\"\n",
              "       width=\"24px\">\n",
              "    <path d=\"M0 0h24v24H0V0z\" fill=\"none\"/>\n",
              "    <path d=\"M18.56 5.44l.94 2.06.94-2.06 2.06-.94-2.06-.94-.94-2.06-.94 2.06-2.06.94zm-11 1L8.5 8.5l.94-2.06 2.06-.94-2.06-.94L8.5 2.5l-.94 2.06-2.06.94zm10 10l.94 2.06.94-2.06 2.06-.94-2.06-.94-.94-2.06-.94 2.06-2.06.94z\"/><path d=\"M17.41 7.96l-1.37-1.37c-.4-.4-.92-.59-1.43-.59-.52 0-1.04.2-1.43.59L10.3 9.45l-7.72 7.72c-.78.78-.78 2.05 0 2.83L4 21.41c.39.39.9.59 1.41.59.51 0 1.02-.2 1.41-.59l7.78-7.78 2.81-2.81c.8-.78.8-2.07 0-2.86zM5.41 20L4 18.59l7.72-7.72 1.47 1.35L5.41 20z\"/>\n",
              "  </svg>\n",
              "      </button>\n",
              "      \n",
              "  <style>\n",
              "    .colab-df-container {\n",
              "      display:flex;\n",
              "      flex-wrap:wrap;\n",
              "      gap: 12px;\n",
              "    }\n",
              "\n",
              "    .colab-df-convert {\n",
              "      background-color: #E8F0FE;\n",
              "      border: none;\n",
              "      border-radius: 50%;\n",
              "      cursor: pointer;\n",
              "      display: none;\n",
              "      fill: #1967D2;\n",
              "      height: 32px;\n",
              "      padding: 0 0 0 0;\n",
              "      width: 32px;\n",
              "    }\n",
              "\n",
              "    .colab-df-convert:hover {\n",
              "      background-color: #E2EBFA;\n",
              "      box-shadow: 0px 1px 2px rgba(60, 64, 67, 0.3), 0px 1px 3px 1px rgba(60, 64, 67, 0.15);\n",
              "      fill: #174EA6;\n",
              "    }\n",
              "\n",
              "    [theme=dark] .colab-df-convert {\n",
              "      background-color: #3B4455;\n",
              "      fill: #D2E3FC;\n",
              "    }\n",
              "\n",
              "    [theme=dark] .colab-df-convert:hover {\n",
              "      background-color: #434B5C;\n",
              "      box-shadow: 0px 1px 3px 1px rgba(0, 0, 0, 0.15);\n",
              "      filter: drop-shadow(0px 1px 2px rgba(0, 0, 0, 0.3));\n",
              "      fill: #FFFFFF;\n",
              "    }\n",
              "  </style>\n",
              "\n",
              "      <script>\n",
              "        const buttonEl =\n",
              "          document.querySelector('#df-ab7b25d8-7ebd-408b-a611-765e789b671e button.colab-df-convert');\n",
              "        buttonEl.style.display =\n",
              "          google.colab.kernel.accessAllowed ? 'block' : 'none';\n",
              "\n",
              "        async function convertToInteractive(key) {\n",
              "          const element = document.querySelector('#df-ab7b25d8-7ebd-408b-a611-765e789b671e');\n",
              "          const dataTable =\n",
              "            await google.colab.kernel.invokeFunction('convertToInteractive',\n",
              "                                                     [key], {});\n",
              "          if (!dataTable) return;\n",
              "\n",
              "          const docLinkHtml = 'Like what you see? Visit the ' +\n",
              "            '<a target=\"_blank\" href=https://colab.research.google.com/notebooks/data_table.ipynb>data table notebook</a>'\n",
              "            + ' to learn more about interactive tables.';\n",
              "          element.innerHTML = '';\n",
              "          dataTable['output_type'] = 'display_data';\n",
              "          await google.colab.output.renderOutput(dataTable, element);\n",
              "          const docLink = document.createElement('div');\n",
              "          docLink.innerHTML = docLinkHtml;\n",
              "          element.appendChild(docLink);\n",
              "        }\n",
              "      </script>\n",
              "    </div>\n",
              "  </div>\n",
              "  "
            ]
          },
          "metadata": {},
          "execution_count": 39
        }
      ],
      "source": [
        "segments_df = pd.merge(segments_df, results_df, how='left', on=['segment_id'],suffixes=['_segments','_kpis'])\n",
        "segments_df.head()"
      ]
    },
    {
      "cell_type": "code",
      "execution_count": 42,
      "id": "87a944f6-c470-47e5-aafb-4a46a8c65ddb",
      "metadata": {
        "id": "87a944f6-c470-47e5-aafb-4a46a8c65ddb",
        "colab": {
          "base_uri": "https://localhost:8080/"
        },
        "outputId": "014a308b-afa4-4525-d1bd-e9f41b8b5ae1"
      },
      "outputs": [
        {
          "output_type": "execute_result",
          "data": {
            "text/plain": [
              "11"
            ]
          },
          "metadata": {},
          "execution_count": 42
        }
      ],
      "source": [
        "metrics.set_index('name').loc['input_drift'] \n",
        "METRIC_ID=metrics.set_index('name').loc['input_drift']['id'] \n",
        "METRIC_ID"
      ]
    },
    {
      "cell_type": "code",
      "execution_count": 43,
      "id": "123557bc-9e0f-46be-8c25-6188b01e1c8a",
      "metadata": {
        "id": "123557bc-9e0f-46be-8c25-6188b01e1c8a",
        "colab": {
          "base_uri": "https://localhost:8080/",
          "height": 337
        },
        "outputId": "7c1fdbdd-d794-47d2-b0d8-2741d737e9c0"
      },
      "outputs": [
        {
          "output_type": "execute_result",
          "data": {
            "text/plain": [
              "                                 id  task_id  version_id  segment_id  \\\n",
              "0  d62d4d4481807208c362a664e5c349dc        8           7          32   \n",
              "1  d0c03d2057eb15b3b2e5a87d5a35804d        8           7          -1   \n",
              "2  2f239aaeb1c095061057e58962f16abc        8           7          29   \n",
              "3  f4a8cbfbe9b2b6b872c5b2ddd270b078        8           7          30   \n",
              "4  02f522bd756a6e980225f27f51c2f86f        8           7          31   \n",
              "\n",
              "   dimension_id                 date_hour time_unit category  entity_id  \\\n",
              "0            -1 2022-05-17 00:00:00+00:00         D        D         -1   \n",
              "1            -1 2022-05-17 00:00:00+00:00         D        D         -1   \n",
              "2            -1 2022-05-17 00:00:00+00:00         D        D         -1   \n",
              "3            -1 2022-05-17 00:00:00+00:00         D        D         -1   \n",
              "4            -1 2022-05-17 00:00:00+00:00         D        D         -1   \n",
              "\n",
              "   metric_id     value value_json  model_id entity_name  \n",
              "0         11  9.139930         {}         8         NaN  \n",
              "1         11  6.595408         {}         8         NaN  \n",
              "2         11  8.397038         {}         8         NaN  \n",
              "3         11  8.243756         {}         8         NaN  \n",
              "4         11  7.754861         {}         8         NaN  "
            ],
            "text/html": [
              "\n",
              "  <div id=\"df-9b5335ab-f2d3-4c43-b971-960acee8c645\">\n",
              "    <div class=\"colab-df-container\">\n",
              "      <div>\n",
              "<style scoped>\n",
              "    .dataframe tbody tr th:only-of-type {\n",
              "        vertical-align: middle;\n",
              "    }\n",
              "\n",
              "    .dataframe tbody tr th {\n",
              "        vertical-align: top;\n",
              "    }\n",
              "\n",
              "    .dataframe thead th {\n",
              "        text-align: right;\n",
              "    }\n",
              "</style>\n",
              "<table border=\"1\" class=\"dataframe\">\n",
              "  <thead>\n",
              "    <tr style=\"text-align: right;\">\n",
              "      <th></th>\n",
              "      <th>id</th>\n",
              "      <th>task_id</th>\n",
              "      <th>version_id</th>\n",
              "      <th>segment_id</th>\n",
              "      <th>dimension_id</th>\n",
              "      <th>date_hour</th>\n",
              "      <th>time_unit</th>\n",
              "      <th>category</th>\n",
              "      <th>entity_id</th>\n",
              "      <th>metric_id</th>\n",
              "      <th>value</th>\n",
              "      <th>value_json</th>\n",
              "      <th>model_id</th>\n",
              "      <th>entity_name</th>\n",
              "    </tr>\n",
              "  </thead>\n",
              "  <tbody>\n",
              "    <tr>\n",
              "      <th>0</th>\n",
              "      <td>d62d4d4481807208c362a664e5c349dc</td>\n",
              "      <td>8</td>\n",
              "      <td>7</td>\n",
              "      <td>32</td>\n",
              "      <td>-1</td>\n",
              "      <td>2022-05-17 00:00:00+00:00</td>\n",
              "      <td>D</td>\n",
              "      <td>D</td>\n",
              "      <td>-1</td>\n",
              "      <td>11</td>\n",
              "      <td>9.139930</td>\n",
              "      <td>{}</td>\n",
              "      <td>8</td>\n",
              "      <td>NaN</td>\n",
              "    </tr>\n",
              "    <tr>\n",
              "      <th>1</th>\n",
              "      <td>d0c03d2057eb15b3b2e5a87d5a35804d</td>\n",
              "      <td>8</td>\n",
              "      <td>7</td>\n",
              "      <td>-1</td>\n",
              "      <td>-1</td>\n",
              "      <td>2022-05-17 00:00:00+00:00</td>\n",
              "      <td>D</td>\n",
              "      <td>D</td>\n",
              "      <td>-1</td>\n",
              "      <td>11</td>\n",
              "      <td>6.595408</td>\n",
              "      <td>{}</td>\n",
              "      <td>8</td>\n",
              "      <td>NaN</td>\n",
              "    </tr>\n",
              "    <tr>\n",
              "      <th>2</th>\n",
              "      <td>2f239aaeb1c095061057e58962f16abc</td>\n",
              "      <td>8</td>\n",
              "      <td>7</td>\n",
              "      <td>29</td>\n",
              "      <td>-1</td>\n",
              "      <td>2022-05-17 00:00:00+00:00</td>\n",
              "      <td>D</td>\n",
              "      <td>D</td>\n",
              "      <td>-1</td>\n",
              "      <td>11</td>\n",
              "      <td>8.397038</td>\n",
              "      <td>{}</td>\n",
              "      <td>8</td>\n",
              "      <td>NaN</td>\n",
              "    </tr>\n",
              "    <tr>\n",
              "      <th>3</th>\n",
              "      <td>f4a8cbfbe9b2b6b872c5b2ddd270b078</td>\n",
              "      <td>8</td>\n",
              "      <td>7</td>\n",
              "      <td>30</td>\n",
              "      <td>-1</td>\n",
              "      <td>2022-05-17 00:00:00+00:00</td>\n",
              "      <td>D</td>\n",
              "      <td>D</td>\n",
              "      <td>-1</td>\n",
              "      <td>11</td>\n",
              "      <td>8.243756</td>\n",
              "      <td>{}</td>\n",
              "      <td>8</td>\n",
              "      <td>NaN</td>\n",
              "    </tr>\n",
              "    <tr>\n",
              "      <th>4</th>\n",
              "      <td>02f522bd756a6e980225f27f51c2f86f</td>\n",
              "      <td>8</td>\n",
              "      <td>7</td>\n",
              "      <td>31</td>\n",
              "      <td>-1</td>\n",
              "      <td>2022-05-17 00:00:00+00:00</td>\n",
              "      <td>D</td>\n",
              "      <td>D</td>\n",
              "      <td>-1</td>\n",
              "      <td>11</td>\n",
              "      <td>7.754861</td>\n",
              "      <td>{}</td>\n",
              "      <td>8</td>\n",
              "      <td>NaN</td>\n",
              "    </tr>\n",
              "  </tbody>\n",
              "</table>\n",
              "</div>\n",
              "      <button class=\"colab-df-convert\" onclick=\"convertToInteractive('df-9b5335ab-f2d3-4c43-b971-960acee8c645')\"\n",
              "              title=\"Convert this dataframe to an interactive table.\"\n",
              "              style=\"display:none;\">\n",
              "        \n",
              "  <svg xmlns=\"http://www.w3.org/2000/svg\" height=\"24px\"viewBox=\"0 0 24 24\"\n",
              "       width=\"24px\">\n",
              "    <path d=\"M0 0h24v24H0V0z\" fill=\"none\"/>\n",
              "    <path d=\"M18.56 5.44l.94 2.06.94-2.06 2.06-.94-2.06-.94-.94-2.06-.94 2.06-2.06.94zm-11 1L8.5 8.5l.94-2.06 2.06-.94-2.06-.94L8.5 2.5l-.94 2.06-2.06.94zm10 10l.94 2.06.94-2.06 2.06-.94-2.06-.94-.94-2.06-.94 2.06-2.06.94z\"/><path d=\"M17.41 7.96l-1.37-1.37c-.4-.4-.92-.59-1.43-.59-.52 0-1.04.2-1.43.59L10.3 9.45l-7.72 7.72c-.78.78-.78 2.05 0 2.83L4 21.41c.39.39.9.59 1.41.59.51 0 1.02-.2 1.41-.59l7.78-7.78 2.81-2.81c.8-.78.8-2.07 0-2.86zM5.41 20L4 18.59l7.72-7.72 1.47 1.35L5.41 20z\"/>\n",
              "  </svg>\n",
              "      </button>\n",
              "      \n",
              "  <style>\n",
              "    .colab-df-container {\n",
              "      display:flex;\n",
              "      flex-wrap:wrap;\n",
              "      gap: 12px;\n",
              "    }\n",
              "\n",
              "    .colab-df-convert {\n",
              "      background-color: #E8F0FE;\n",
              "      border: none;\n",
              "      border-radius: 50%;\n",
              "      cursor: pointer;\n",
              "      display: none;\n",
              "      fill: #1967D2;\n",
              "      height: 32px;\n",
              "      padding: 0 0 0 0;\n",
              "      width: 32px;\n",
              "    }\n",
              "\n",
              "    .colab-df-convert:hover {\n",
              "      background-color: #E2EBFA;\n",
              "      box-shadow: 0px 1px 2px rgba(60, 64, 67, 0.3), 0px 1px 3px 1px rgba(60, 64, 67, 0.15);\n",
              "      fill: #174EA6;\n",
              "    }\n",
              "\n",
              "    [theme=dark] .colab-df-convert {\n",
              "      background-color: #3B4455;\n",
              "      fill: #D2E3FC;\n",
              "    }\n",
              "\n",
              "    [theme=dark] .colab-df-convert:hover {\n",
              "      background-color: #434B5C;\n",
              "      box-shadow: 0px 1px 3px 1px rgba(0, 0, 0, 0.15);\n",
              "      filter: drop-shadow(0px 1px 2px rgba(0, 0, 0, 0.3));\n",
              "      fill: #FFFFFF;\n",
              "    }\n",
              "  </style>\n",
              "\n",
              "      <script>\n",
              "        const buttonEl =\n",
              "          document.querySelector('#df-9b5335ab-f2d3-4c43-b971-960acee8c645 button.colab-df-convert');\n",
              "        buttonEl.style.display =\n",
              "          google.colab.kernel.accessAllowed ? 'block' : 'none';\n",
              "\n",
              "        async function convertToInteractive(key) {\n",
              "          const element = document.querySelector('#df-9b5335ab-f2d3-4c43-b971-960acee8c645');\n",
              "          const dataTable =\n",
              "            await google.colab.kernel.invokeFunction('convertToInteractive',\n",
              "                                                     [key], {});\n",
              "          if (!dataTable) return;\n",
              "\n",
              "          const docLinkHtml = 'Like what you see? Visit the ' +\n",
              "            '<a target=\"_blank\" href=https://colab.research.google.com/notebooks/data_table.ipynb>data table notebook</a>'\n",
              "            + ' to learn more about interactive tables.';\n",
              "          element.innerHTML = '';\n",
              "          dataTable['output_type'] = 'display_data';\n",
              "          await google.colab.output.renderOutput(dataTable, element);\n",
              "          const docLink = document.createElement('div');\n",
              "          docLink.innerHTML = docLinkHtml;\n",
              "          element.appendChild(docLink);\n",
              "        }\n",
              "      </script>\n",
              "    </div>\n",
              "  </div>\n",
              "  "
            ]
          },
          "metadata": {},
          "execution_count": 43
        }
      ],
      "source": [
        "request_url  = f'{URL_PREFIX}/kpi/v1/metrics'\n",
        "requests_params = dict(task_id=MODEL_ID, vesrion_id=VERSION_ID, entity_id=-1, metric_id=[METRIC_ID], time_unit='D')\n",
        "res = requests.get(request_url,params=requests_params,headers=HEADERS)\n",
        "res.raise_for_status()\n",
        "results_df =  pd.DataFrame(res.json())\n",
        "results_df['entity_name'] = results_df['entity_id'].map(features.set_index('id')['name'].to_dict())\n",
        "results_df['date_hour'] = pd.to_datetime(results_df['date_hour'])\n",
        "results_df.head()"
      ]
    },
    {
      "cell_type": "code",
      "execution_count": 44,
      "id": "db8c778f-9820-4fcf-a68d-9d5ee3dab146",
      "metadata": {
        "id": "db8c778f-9820-4fcf-a68d-9d5ee3dab146",
        "colab": {
          "base_uri": "https://localhost:8080/",
          "height": 206
        },
        "outputId": "57995c03-55cd-4b62-9fa9-0988e187815f"
      },
      "outputs": [
        {
          "output_type": "execute_result",
          "data": {
            "text/plain": [
              "   segment_id     value\n",
              "0          -1  4.300018\n",
              "1          29  5.483083\n",
              "2          30  5.123258\n",
              "3          31  5.251776\n",
              "4          32  7.642694"
            ],
            "text/html": [
              "\n",
              "  <div id=\"df-82d55be9-8b7c-4e3d-b60f-f1db2b2954b4\">\n",
              "    <div class=\"colab-df-container\">\n",
              "      <div>\n",
              "<style scoped>\n",
              "    .dataframe tbody tr th:only-of-type {\n",
              "        vertical-align: middle;\n",
              "    }\n",
              "\n",
              "    .dataframe tbody tr th {\n",
              "        vertical-align: top;\n",
              "    }\n",
              "\n",
              "    .dataframe thead th {\n",
              "        text-align: right;\n",
              "    }\n",
              "</style>\n",
              "<table border=\"1\" class=\"dataframe\">\n",
              "  <thead>\n",
              "    <tr style=\"text-align: right;\">\n",
              "      <th></th>\n",
              "      <th>segment_id</th>\n",
              "      <th>value</th>\n",
              "    </tr>\n",
              "  </thead>\n",
              "  <tbody>\n",
              "    <tr>\n",
              "      <th>0</th>\n",
              "      <td>-1</td>\n",
              "      <td>4.300018</td>\n",
              "    </tr>\n",
              "    <tr>\n",
              "      <th>1</th>\n",
              "      <td>29</td>\n",
              "      <td>5.483083</td>\n",
              "    </tr>\n",
              "    <tr>\n",
              "      <th>2</th>\n",
              "      <td>30</td>\n",
              "      <td>5.123258</td>\n",
              "    </tr>\n",
              "    <tr>\n",
              "      <th>3</th>\n",
              "      <td>31</td>\n",
              "      <td>5.251776</td>\n",
              "    </tr>\n",
              "    <tr>\n",
              "      <th>4</th>\n",
              "      <td>32</td>\n",
              "      <td>7.642694</td>\n",
              "    </tr>\n",
              "  </tbody>\n",
              "</table>\n",
              "</div>\n",
              "      <button class=\"colab-df-convert\" onclick=\"convertToInteractive('df-82d55be9-8b7c-4e3d-b60f-f1db2b2954b4')\"\n",
              "              title=\"Convert this dataframe to an interactive table.\"\n",
              "              style=\"display:none;\">\n",
              "        \n",
              "  <svg xmlns=\"http://www.w3.org/2000/svg\" height=\"24px\"viewBox=\"0 0 24 24\"\n",
              "       width=\"24px\">\n",
              "    <path d=\"M0 0h24v24H0V0z\" fill=\"none\"/>\n",
              "    <path d=\"M18.56 5.44l.94 2.06.94-2.06 2.06-.94-2.06-.94-.94-2.06-.94 2.06-2.06.94zm-11 1L8.5 8.5l.94-2.06 2.06-.94-2.06-.94L8.5 2.5l-.94 2.06-2.06.94zm10 10l.94 2.06.94-2.06 2.06-.94-2.06-.94-.94-2.06-.94 2.06-2.06.94z\"/><path d=\"M17.41 7.96l-1.37-1.37c-.4-.4-.92-.59-1.43-.59-.52 0-1.04.2-1.43.59L10.3 9.45l-7.72 7.72c-.78.78-.78 2.05 0 2.83L4 21.41c.39.39.9.59 1.41.59.51 0 1.02-.2 1.41-.59l7.78-7.78 2.81-2.81c.8-.78.8-2.07 0-2.86zM5.41 20L4 18.59l7.72-7.72 1.47 1.35L5.41 20z\"/>\n",
              "  </svg>\n",
              "      </button>\n",
              "      \n",
              "  <style>\n",
              "    .colab-df-container {\n",
              "      display:flex;\n",
              "      flex-wrap:wrap;\n",
              "      gap: 12px;\n",
              "    }\n",
              "\n",
              "    .colab-df-convert {\n",
              "      background-color: #E8F0FE;\n",
              "      border: none;\n",
              "      border-radius: 50%;\n",
              "      cursor: pointer;\n",
              "      display: none;\n",
              "      fill: #1967D2;\n",
              "      height: 32px;\n",
              "      padding: 0 0 0 0;\n",
              "      width: 32px;\n",
              "    }\n",
              "\n",
              "    .colab-df-convert:hover {\n",
              "      background-color: #E2EBFA;\n",
              "      box-shadow: 0px 1px 2px rgba(60, 64, 67, 0.3), 0px 1px 3px 1px rgba(60, 64, 67, 0.15);\n",
              "      fill: #174EA6;\n",
              "    }\n",
              "\n",
              "    [theme=dark] .colab-df-convert {\n",
              "      background-color: #3B4455;\n",
              "      fill: #D2E3FC;\n",
              "    }\n",
              "\n",
              "    [theme=dark] .colab-df-convert:hover {\n",
              "      background-color: #434B5C;\n",
              "      box-shadow: 0px 1px 3px 1px rgba(0, 0, 0, 0.15);\n",
              "      filter: drop-shadow(0px 1px 2px rgba(0, 0, 0, 0.3));\n",
              "      fill: #FFFFFF;\n",
              "    }\n",
              "  </style>\n",
              "\n",
              "      <script>\n",
              "        const buttonEl =\n",
              "          document.querySelector('#df-82d55be9-8b7c-4e3d-b60f-f1db2b2954b4 button.colab-df-convert');\n",
              "        buttonEl.style.display =\n",
              "          google.colab.kernel.accessAllowed ? 'block' : 'none';\n",
              "\n",
              "        async function convertToInteractive(key) {\n",
              "          const element = document.querySelector('#df-82d55be9-8b7c-4e3d-b60f-f1db2b2954b4');\n",
              "          const dataTable =\n",
              "            await google.colab.kernel.invokeFunction('convertToInteractive',\n",
              "                                                     [key], {});\n",
              "          if (!dataTable) return;\n",
              "\n",
              "          const docLinkHtml = 'Like what you see? Visit the ' +\n",
              "            '<a target=\"_blank\" href=https://colab.research.google.com/notebooks/data_table.ipynb>data table notebook</a>'\n",
              "            + ' to learn more about interactive tables.';\n",
              "          element.innerHTML = '';\n",
              "          dataTable['output_type'] = 'display_data';\n",
              "          await google.colab.output.renderOutput(dataTable, element);\n",
              "          const docLink = document.createElement('div');\n",
              "          docLink.innerHTML = docLinkHtml;\n",
              "          element.appendChild(docLink);\n",
              "        }\n",
              "      </script>\n",
              "    </div>\n",
              "  </div>\n",
              "  "
            ]
          },
          "metadata": {},
          "execution_count": 44
        }
      ],
      "source": [
        "results_df = results_df.groupby('segment_id').mean().reset_index()[[\"segment_id\",\"value\"]]\n",
        "results_df.head()"
      ]
    },
    {
      "cell_type": "code",
      "execution_count": 45,
      "id": "587094ef-9162-4cbd-b29b-32cb7080fc17",
      "metadata": {
        "id": "587094ef-9162-4cbd-b29b-32cb7080fc17",
        "colab": {
          "base_uri": "https://localhost:8080/",
          "height": 175
        },
        "outputId": "c41399ff-7a3d-409a-a34e-fbe685960fb0"
      },
      "outputs": [
        {
          "output_type": "execute_result",
          "data": {
            "text/plain": [
              "                         name     value\n",
              "0                Mobile users  5.483083\n",
              "1                   Web users  5.123258\n",
              "2  Mobile users - high amount  7.642694\n",
              "3  Weak spot (Auto-generated)  5.251776"
            ],
            "text/html": [
              "\n",
              "  <div id=\"df-9fb3a0c4-b245-48cd-970a-02407bc9198b\">\n",
              "    <div class=\"colab-df-container\">\n",
              "      <div>\n",
              "<style scoped>\n",
              "    .dataframe tbody tr th:only-of-type {\n",
              "        vertical-align: middle;\n",
              "    }\n",
              "\n",
              "    .dataframe tbody tr th {\n",
              "        vertical-align: top;\n",
              "    }\n",
              "\n",
              "    .dataframe thead th {\n",
              "        text-align: right;\n",
              "    }\n",
              "</style>\n",
              "<table border=\"1\" class=\"dataframe\">\n",
              "  <thead>\n",
              "    <tr style=\"text-align: right;\">\n",
              "      <th></th>\n",
              "      <th>name</th>\n",
              "      <th>value</th>\n",
              "    </tr>\n",
              "  </thead>\n",
              "  <tbody>\n",
              "    <tr>\n",
              "      <th>0</th>\n",
              "      <td>Mobile users</td>\n",
              "      <td>5.483083</td>\n",
              "    </tr>\n",
              "    <tr>\n",
              "      <th>1</th>\n",
              "      <td>Web users</td>\n",
              "      <td>5.123258</td>\n",
              "    </tr>\n",
              "    <tr>\n",
              "      <th>2</th>\n",
              "      <td>Mobile users - high amount</td>\n",
              "      <td>7.642694</td>\n",
              "    </tr>\n",
              "    <tr>\n",
              "      <th>3</th>\n",
              "      <td>Weak spot (Auto-generated)</td>\n",
              "      <td>5.251776</td>\n",
              "    </tr>\n",
              "  </tbody>\n",
              "</table>\n",
              "</div>\n",
              "      <button class=\"colab-df-convert\" onclick=\"convertToInteractive('df-9fb3a0c4-b245-48cd-970a-02407bc9198b')\"\n",
              "              title=\"Convert this dataframe to an interactive table.\"\n",
              "              style=\"display:none;\">\n",
              "        \n",
              "  <svg xmlns=\"http://www.w3.org/2000/svg\" height=\"24px\"viewBox=\"0 0 24 24\"\n",
              "       width=\"24px\">\n",
              "    <path d=\"M0 0h24v24H0V0z\" fill=\"none\"/>\n",
              "    <path d=\"M18.56 5.44l.94 2.06.94-2.06 2.06-.94-2.06-.94-.94-2.06-.94 2.06-2.06.94zm-11 1L8.5 8.5l.94-2.06 2.06-.94-2.06-.94L8.5 2.5l-.94 2.06-2.06.94zm10 10l.94 2.06.94-2.06 2.06-.94-2.06-.94-.94-2.06-.94 2.06-2.06.94z\"/><path d=\"M17.41 7.96l-1.37-1.37c-.4-.4-.92-.59-1.43-.59-.52 0-1.04.2-1.43.59L10.3 9.45l-7.72 7.72c-.78.78-.78 2.05 0 2.83L4 21.41c.39.39.9.59 1.41.59.51 0 1.02-.2 1.41-.59l7.78-7.78 2.81-2.81c.8-.78.8-2.07 0-2.86zM5.41 20L4 18.59l7.72-7.72 1.47 1.35L5.41 20z\"/>\n",
              "  </svg>\n",
              "      </button>\n",
              "      \n",
              "  <style>\n",
              "    .colab-df-container {\n",
              "      display:flex;\n",
              "      flex-wrap:wrap;\n",
              "      gap: 12px;\n",
              "    }\n",
              "\n",
              "    .colab-df-convert {\n",
              "      background-color: #E8F0FE;\n",
              "      border: none;\n",
              "      border-radius: 50%;\n",
              "      cursor: pointer;\n",
              "      display: none;\n",
              "      fill: #1967D2;\n",
              "      height: 32px;\n",
              "      padding: 0 0 0 0;\n",
              "      width: 32px;\n",
              "    }\n",
              "\n",
              "    .colab-df-convert:hover {\n",
              "      background-color: #E2EBFA;\n",
              "      box-shadow: 0px 1px 2px rgba(60, 64, 67, 0.3), 0px 1px 3px 1px rgba(60, 64, 67, 0.15);\n",
              "      fill: #174EA6;\n",
              "    }\n",
              "\n",
              "    [theme=dark] .colab-df-convert {\n",
              "      background-color: #3B4455;\n",
              "      fill: #D2E3FC;\n",
              "    }\n",
              "\n",
              "    [theme=dark] .colab-df-convert:hover {\n",
              "      background-color: #434B5C;\n",
              "      box-shadow: 0px 1px 3px 1px rgba(0, 0, 0, 0.15);\n",
              "      filter: drop-shadow(0px 1px 2px rgba(0, 0, 0, 0.3));\n",
              "      fill: #FFFFFF;\n",
              "    }\n",
              "  </style>\n",
              "\n",
              "      <script>\n",
              "        const buttonEl =\n",
              "          document.querySelector('#df-9fb3a0c4-b245-48cd-970a-02407bc9198b button.colab-df-convert');\n",
              "        buttonEl.style.display =\n",
              "          google.colab.kernel.accessAllowed ? 'block' : 'none';\n",
              "\n",
              "        async function convertToInteractive(key) {\n",
              "          const element = document.querySelector('#df-9fb3a0c4-b245-48cd-970a-02407bc9198b');\n",
              "          const dataTable =\n",
              "            await google.colab.kernel.invokeFunction('convertToInteractive',\n",
              "                                                     [key], {});\n",
              "          if (!dataTable) return;\n",
              "\n",
              "          const docLinkHtml = 'Like what you see? Visit the ' +\n",
              "            '<a target=\"_blank\" href=https://colab.research.google.com/notebooks/data_table.ipynb>data table notebook</a>'\n",
              "            + ' to learn more about interactive tables.';\n",
              "          element.innerHTML = '';\n",
              "          dataTable['output_type'] = 'display_data';\n",
              "          await google.colab.output.renderOutput(dataTable, element);\n",
              "          const docLink = document.createElement('div');\n",
              "          docLink.innerHTML = docLinkHtml;\n",
              "          element.appendChild(docLink);\n",
              "        }\n",
              "      </script>\n",
              "    </div>\n",
              "  </div>\n",
              "  "
            ]
          },
          "metadata": {},
          "execution_count": 45
        }
      ],
      "source": [
        "segments_df = pd.merge(segments_df,results_df,how='left').fillna(0)\n",
        "segments_drift_df = segments_df[[\"name\",\"value\"]]\n",
        "segments_drift_df.head()"
      ]
    },
    {
      "cell_type": "markdown",
      "id": "e54e8681-4c96-46d5-931c-330469432c3f",
      "metadata": {
        "id": "e54e8681-4c96-46d5-931c-330469432c3f"
      },
      "source": [
        "#### Mean Segment Drift "
      ]
    },
    {
      "cell_type": "code",
      "execution_count": 46,
      "id": "6d4883c7-8907-4564-845d-5f4cac63da9a",
      "metadata": {
        "id": "6d4883c7-8907-4564-845d-5f4cac63da9a",
        "colab": {
          "base_uri": "https://localhost:8080/",
          "height": 542
        },
        "outputId": "00dc4919-4cf7-4739-f051-2f4829456ee5"
      },
      "outputs": [
        {
          "output_type": "display_data",
          "data": {
            "text/html": [
              "<html>\n",
              "<head><meta charset=\"utf-8\" /></head>\n",
              "<body>\n",
              "    <div>            <script src=\"https://cdnjs.cloudflare.com/ajax/libs/mathjax/2.7.5/MathJax.js?config=TeX-AMS-MML_SVG\"></script><script type=\"text/javascript\">if (window.MathJax) {MathJax.Hub.Config({SVG: {font: \"STIX-Web\"}});}</script>                <script type=\"text/javascript\">window.PlotlyConfig = {MathJaxConfig: 'local'};</script>\n",
              "        <script src=\"https://cdn.plot.ly/plotly-2.6.3.min.js\"></script>                <div id=\"4e987534-f551-479d-9dc3-80da8b444f17\" class=\"plotly-graph-div\" style=\"height:525px; width:100%;\"></div>            <script type=\"text/javascript\">                                    window.PLOTLYENV=window.PLOTLYENV || {};                                    if (document.getElementById(\"4e987534-f551-479d-9dc3-80da8b444f17\")) {                    Plotly.newPlot(                        \"4e987534-f551-479d-9dc3-80da8b444f17\",                        [{\"alignmentgroup\":\"True\",\"hovertemplate\":\"variable=value<br>name=%{x}<br>_value=%{y}<extra></extra>\",\"legendgroup\":\"value\",\"marker\":{\"color\":\"#636efa\",\"pattern\":{\"shape\":\"\"}},\"name\":\"value\",\"offsetgroup\":\"value\",\"orientation\":\"v\",\"showlegend\":true,\"textposition\":\"auto\",\"x\":[\"Mobile users - high amount\",\"Mobile users\",\"Weak spot (Auto-generated)\",\"Web users\"],\"xaxis\":\"x\",\"y\":[7.6426943385261685,5.483083489139252,5.251775788290654,5.1232582170261685],\"yaxis\":\"y\",\"type\":\"bar\"}],                        {\"template\":{\"data\":{\"bar\":[{\"error_x\":{\"color\":\"#2a3f5f\"},\"error_y\":{\"color\":\"#2a3f5f\"},\"marker\":{\"line\":{\"color\":\"#E5ECF6\",\"width\":0.5},\"pattern\":{\"fillmode\":\"overlay\",\"size\":10,\"solidity\":0.2}},\"type\":\"bar\"}],\"barpolar\":[{\"marker\":{\"line\":{\"color\":\"#E5ECF6\",\"width\":0.5},\"pattern\":{\"fillmode\":\"overlay\",\"size\":10,\"solidity\":0.2}},\"type\":\"barpolar\"}],\"carpet\":[{\"aaxis\":{\"endlinecolor\":\"#2a3f5f\",\"gridcolor\":\"white\",\"linecolor\":\"white\",\"minorgridcolor\":\"white\",\"startlinecolor\":\"#2a3f5f\"},\"baxis\":{\"endlinecolor\":\"#2a3f5f\",\"gridcolor\":\"white\",\"linecolor\":\"white\",\"minorgridcolor\":\"white\",\"startlinecolor\":\"#2a3f5f\"},\"type\":\"carpet\"}],\"choropleth\":[{\"colorbar\":{\"outlinewidth\":0,\"ticks\":\"\"},\"type\":\"choropleth\"}],\"contour\":[{\"colorbar\":{\"outlinewidth\":0,\"ticks\":\"\"},\"colorscale\":[[0.0,\"#0d0887\"],[0.1111111111111111,\"#46039f\"],[0.2222222222222222,\"#7201a8\"],[0.3333333333333333,\"#9c179e\"],[0.4444444444444444,\"#bd3786\"],[0.5555555555555556,\"#d8576b\"],[0.6666666666666666,\"#ed7953\"],[0.7777777777777778,\"#fb9f3a\"],[0.8888888888888888,\"#fdca26\"],[1.0,\"#f0f921\"]],\"type\":\"contour\"}],\"contourcarpet\":[{\"colorbar\":{\"outlinewidth\":0,\"ticks\":\"\"},\"type\":\"contourcarpet\"}],\"heatmap\":[{\"colorbar\":{\"outlinewidth\":0,\"ticks\":\"\"},\"colorscale\":[[0.0,\"#0d0887\"],[0.1111111111111111,\"#46039f\"],[0.2222222222222222,\"#7201a8\"],[0.3333333333333333,\"#9c179e\"],[0.4444444444444444,\"#bd3786\"],[0.5555555555555556,\"#d8576b\"],[0.6666666666666666,\"#ed7953\"],[0.7777777777777778,\"#fb9f3a\"],[0.8888888888888888,\"#fdca26\"],[1.0,\"#f0f921\"]],\"type\":\"heatmap\"}],\"heatmapgl\":[{\"colorbar\":{\"outlinewidth\":0,\"ticks\":\"\"},\"colorscale\":[[0.0,\"#0d0887\"],[0.1111111111111111,\"#46039f\"],[0.2222222222222222,\"#7201a8\"],[0.3333333333333333,\"#9c179e\"],[0.4444444444444444,\"#bd3786\"],[0.5555555555555556,\"#d8576b\"],[0.6666666666666666,\"#ed7953\"],[0.7777777777777778,\"#fb9f3a\"],[0.8888888888888888,\"#fdca26\"],[1.0,\"#f0f921\"]],\"type\":\"heatmapgl\"}],\"histogram\":[{\"marker\":{\"pattern\":{\"fillmode\":\"overlay\",\"size\":10,\"solidity\":0.2}},\"type\":\"histogram\"}],\"histogram2d\":[{\"colorbar\":{\"outlinewidth\":0,\"ticks\":\"\"},\"colorscale\":[[0.0,\"#0d0887\"],[0.1111111111111111,\"#46039f\"],[0.2222222222222222,\"#7201a8\"],[0.3333333333333333,\"#9c179e\"],[0.4444444444444444,\"#bd3786\"],[0.5555555555555556,\"#d8576b\"],[0.6666666666666666,\"#ed7953\"],[0.7777777777777778,\"#fb9f3a\"],[0.8888888888888888,\"#fdca26\"],[1.0,\"#f0f921\"]],\"type\":\"histogram2d\"}],\"histogram2dcontour\":[{\"colorbar\":{\"outlinewidth\":0,\"ticks\":\"\"},\"colorscale\":[[0.0,\"#0d0887\"],[0.1111111111111111,\"#46039f\"],[0.2222222222222222,\"#7201a8\"],[0.3333333333333333,\"#9c179e\"],[0.4444444444444444,\"#bd3786\"],[0.5555555555555556,\"#d8576b\"],[0.6666666666666666,\"#ed7953\"],[0.7777777777777778,\"#fb9f3a\"],[0.8888888888888888,\"#fdca26\"],[1.0,\"#f0f921\"]],\"type\":\"histogram2dcontour\"}],\"mesh3d\":[{\"colorbar\":{\"outlinewidth\":0,\"ticks\":\"\"},\"type\":\"mesh3d\"}],\"parcoords\":[{\"line\":{\"colorbar\":{\"outlinewidth\":0,\"ticks\":\"\"}},\"type\":\"parcoords\"}],\"pie\":[{\"automargin\":true,\"type\":\"pie\"}],\"scatter\":[{\"marker\":{\"colorbar\":{\"outlinewidth\":0,\"ticks\":\"\"}},\"type\":\"scatter\"}],\"scatter3d\":[{\"line\":{\"colorbar\":{\"outlinewidth\":0,\"ticks\":\"\"}},\"marker\":{\"colorbar\":{\"outlinewidth\":0,\"ticks\":\"\"}},\"type\":\"scatter3d\"}],\"scattercarpet\":[{\"marker\":{\"colorbar\":{\"outlinewidth\":0,\"ticks\":\"\"}},\"type\":\"scattercarpet\"}],\"scattergeo\":[{\"marker\":{\"colorbar\":{\"outlinewidth\":0,\"ticks\":\"\"}},\"type\":\"scattergeo\"}],\"scattergl\":[{\"marker\":{\"colorbar\":{\"outlinewidth\":0,\"ticks\":\"\"}},\"type\":\"scattergl\"}],\"scattermapbox\":[{\"marker\":{\"colorbar\":{\"outlinewidth\":0,\"ticks\":\"\"}},\"type\":\"scattermapbox\"}],\"scatterpolar\":[{\"marker\":{\"colorbar\":{\"outlinewidth\":0,\"ticks\":\"\"}},\"type\":\"scatterpolar\"}],\"scatterpolargl\":[{\"marker\":{\"colorbar\":{\"outlinewidth\":0,\"ticks\":\"\"}},\"type\":\"scatterpolargl\"}],\"scatterternary\":[{\"marker\":{\"colorbar\":{\"outlinewidth\":0,\"ticks\":\"\"}},\"type\":\"scatterternary\"}],\"surface\":[{\"colorbar\":{\"outlinewidth\":0,\"ticks\":\"\"},\"colorscale\":[[0.0,\"#0d0887\"],[0.1111111111111111,\"#46039f\"],[0.2222222222222222,\"#7201a8\"],[0.3333333333333333,\"#9c179e\"],[0.4444444444444444,\"#bd3786\"],[0.5555555555555556,\"#d8576b\"],[0.6666666666666666,\"#ed7953\"],[0.7777777777777778,\"#fb9f3a\"],[0.8888888888888888,\"#fdca26\"],[1.0,\"#f0f921\"]],\"type\":\"surface\"}],\"table\":[{\"cells\":{\"fill\":{\"color\":\"#EBF0F8\"},\"line\":{\"color\":\"white\"}},\"header\":{\"fill\":{\"color\":\"#C8D4E3\"},\"line\":{\"color\":\"white\"}},\"type\":\"table\"}]},\"layout\":{\"annotationdefaults\":{\"arrowcolor\":\"#2a3f5f\",\"arrowhead\":0,\"arrowwidth\":1},\"autotypenumbers\":\"strict\",\"coloraxis\":{\"colorbar\":{\"outlinewidth\":0,\"ticks\":\"\"}},\"colorscale\":{\"diverging\":[[0,\"#8e0152\"],[0.1,\"#c51b7d\"],[0.2,\"#de77ae\"],[0.3,\"#f1b6da\"],[0.4,\"#fde0ef\"],[0.5,\"#f7f7f7\"],[0.6,\"#e6f5d0\"],[0.7,\"#b8e186\"],[0.8,\"#7fbc41\"],[0.9,\"#4d9221\"],[1,\"#276419\"]],\"sequential\":[[0.0,\"#0d0887\"],[0.1111111111111111,\"#46039f\"],[0.2222222222222222,\"#7201a8\"],[0.3333333333333333,\"#9c179e\"],[0.4444444444444444,\"#bd3786\"],[0.5555555555555556,\"#d8576b\"],[0.6666666666666666,\"#ed7953\"],[0.7777777777777778,\"#fb9f3a\"],[0.8888888888888888,\"#fdca26\"],[1.0,\"#f0f921\"]],\"sequentialminus\":[[0.0,\"#0d0887\"],[0.1111111111111111,\"#46039f\"],[0.2222222222222222,\"#7201a8\"],[0.3333333333333333,\"#9c179e\"],[0.4444444444444444,\"#bd3786\"],[0.5555555555555556,\"#d8576b\"],[0.6666666666666666,\"#ed7953\"],[0.7777777777777778,\"#fb9f3a\"],[0.8888888888888888,\"#fdca26\"],[1.0,\"#f0f921\"]]},\"colorway\":[\"#636efa\",\"#EF553B\",\"#00cc96\",\"#ab63fa\",\"#FFA15A\",\"#19d3f3\",\"#FF6692\",\"#B6E880\",\"#FF97FF\",\"#FECB52\"],\"font\":{\"color\":\"#2a3f5f\"},\"geo\":{\"bgcolor\":\"white\",\"lakecolor\":\"white\",\"landcolor\":\"#E5ECF6\",\"showlakes\":true,\"showland\":true,\"subunitcolor\":\"white\"},\"hoverlabel\":{\"align\":\"left\"},\"hovermode\":\"closest\",\"mapbox\":{\"style\":\"light\"},\"paper_bgcolor\":\"white\",\"plot_bgcolor\":\"#E5ECF6\",\"polar\":{\"angularaxis\":{\"gridcolor\":\"white\",\"linecolor\":\"white\",\"ticks\":\"\"},\"bgcolor\":\"#E5ECF6\",\"radialaxis\":{\"gridcolor\":\"white\",\"linecolor\":\"white\",\"ticks\":\"\"}},\"scene\":{\"xaxis\":{\"backgroundcolor\":\"#E5ECF6\",\"gridcolor\":\"white\",\"gridwidth\":2,\"linecolor\":\"white\",\"showbackground\":true,\"ticks\":\"\",\"zerolinecolor\":\"white\"},\"yaxis\":{\"backgroundcolor\":\"#E5ECF6\",\"gridcolor\":\"white\",\"gridwidth\":2,\"linecolor\":\"white\",\"showbackground\":true,\"ticks\":\"\",\"zerolinecolor\":\"white\"},\"zaxis\":{\"backgroundcolor\":\"#E5ECF6\",\"gridcolor\":\"white\",\"gridwidth\":2,\"linecolor\":\"white\",\"showbackground\":true,\"ticks\":\"\",\"zerolinecolor\":\"white\"}},\"shapedefaults\":{\"line\":{\"color\":\"#2a3f5f\"}},\"ternary\":{\"aaxis\":{\"gridcolor\":\"white\",\"linecolor\":\"white\",\"ticks\":\"\"},\"baxis\":{\"gridcolor\":\"white\",\"linecolor\":\"white\",\"ticks\":\"\"},\"bgcolor\":\"#E5ECF6\",\"caxis\":{\"gridcolor\":\"white\",\"linecolor\":\"white\",\"ticks\":\"\"}},\"title\":{\"x\":0.05},\"xaxis\":{\"automargin\":true,\"gridcolor\":\"white\",\"linecolor\":\"white\",\"ticks\":\"\",\"title\":{\"standoff\":15},\"zerolinecolor\":\"white\",\"zerolinewidth\":2},\"yaxis\":{\"automargin\":true,\"gridcolor\":\"white\",\"linecolor\":\"white\",\"ticks\":\"\",\"title\":{\"standoff\":15},\"zerolinecolor\":\"white\",\"zerolinewidth\":2}}},\"xaxis\":{\"anchor\":\"y\",\"domain\":[0.0,1.0],\"title\":{\"text\":\"name\"}},\"yaxis\":{\"anchor\":\"x\",\"domain\":[0.0,1.0],\"title\":{\"text\":\"_value\"}},\"legend\":{\"title\":{\"text\":\"variable\"},\"tracegroupgap\":0},\"margin\":{\"t\":60},\"barmode\":\"relative\"},                        {\"responsive\": true}                    ).then(function(){\n",
              "                            \n",
              "var gd = document.getElementById('4e987534-f551-479d-9dc3-80da8b444f17');\n",
              "var x = new MutationObserver(function (mutations, observer) {{\n",
              "        var display = window.getComputedStyle(gd).display;\n",
              "        if (!display || display === 'none') {{\n",
              "            console.log([gd, 'removed!']);\n",
              "            Plotly.purge(gd);\n",
              "            observer.disconnect();\n",
              "        }}\n",
              "}});\n",
              "\n",
              "// Listen for the removal of the full notebook cells\n",
              "var notebookContainer = gd.closest('#notebook-container');\n",
              "if (notebookContainer) {{\n",
              "    x.observe(notebookContainer, {childList: true});\n",
              "}}\n",
              "\n",
              "// Listen for the clearing of the current output cell\n",
              "var outputEl = gd.closest('.output');\n",
              "if (outputEl) {{\n",
              "    x.observe(outputEl, {childList: true});\n",
              "}}\n",
              "\n",
              "                        })                };                            </script>        </div>\n",
              "</body>\n",
              "</html>"
            ]
          },
          "metadata": {}
        }
      ],
      "source": [
        "from matplotlib import pyplot as plt\n",
        "\n",
        "segments_drift_df.sort_values('value',ascending=False).set_index('name').plot.bar()"
      ]
    },
    {
      "cell_type": "markdown",
      "source": [
        "#### Realtionship between segment size and segment drift"
      ],
      "metadata": {
        "id": "lPQ4J1lGyO8X"
      },
      "id": "lPQ4J1lGyO8X"
    },
    {
      "cell_type": "code",
      "source": [
        "import matplotlib.pyplot as plt\n",
        "import numpy as np\n",
        "x = segments_df['segment_size'].to_list()\n",
        "y = segments_df['value'].to_list()\n",
        "colors = list(map(lambda x: \"red\" if x > THRESHOLD else \"green\", y))\n",
        "labels = segments_df['name'].to_list()\n",
        "sns.scatterplot(data=segments_df,x='segment_size',y='value')\n",
        "for i in range(segments_df.shape[0]):\n",
        " plt.text(s=labels[i],x=x[i],y=y[i],\n",
        "          fontdict=dict(color=colors[i],size=10))\n",
        "plt.xlabel(\"Segment Size\") #x label\n",
        "plt.ylabel(\"Drift Value\") #y label\n",
        "\n",
        "plt.show()"
      ],
      "metadata": {
        "id": "bULzM7Uc_rT7",
        "colab": {
          "base_uri": "https://localhost:8080/",
          "height": 641
        },
        "outputId": "2afb19c4-b392-4be1-8d66-ee275160c323"
      },
      "id": "bULzM7Uc_rT7",
      "execution_count": 47,
      "outputs": [
        {
          "output_type": "display_data",
          "data": {
            "text/plain": [
              "<Figure size 1728x720 with 1 Axes>"
            ],
            "image/png": "[encoded data removed]"
          },
          "metadata": {
            "needs_background": "light"
          }
        }
      ]
    },
    {
      "cell_type": "code",
      "source": [
        ""
      ],
      "metadata": {
        "id": "3uCOLxiVN1a5"
      },
      "id": "3uCOLxiVN1a5",
      "execution_count": 47,
      "outputs": []
    }
  ],
  "metadata": {
    "kernelspec": {
      "display_name": "Python 3 (ipykernel)",
      "language": "python",
      "name": "python3"
    },
    "language_info": {
      "codemirror_mode": {
        "name": "ipython",
        "version": 3
      },
      "file_extension": ".py",
      "mimetype": "text/x-python",
      "name": "python",
      "nbconvert_exporter": "python",
      "pygments_lexer": "ipython3",
      "version": "3.9.7"
    },
    "colab": {
      "name": "Custom Retraining Notebook",
      "provenance": [],
      "collapsed_sections": [],
      "toc_visible": true
    }
  },
  "nbformat": 4,
  "nbformat_minor": 5
}