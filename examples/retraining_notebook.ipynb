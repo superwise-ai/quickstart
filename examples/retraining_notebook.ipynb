{
  "cells": [
    {
      "cell_type": "markdown",
      "metadata": {
        "id": "view-in-github",
        "colab_type": "text"
      },
      "source": [
        "<a href=\"https://colab.research.google.com/github/superwise-ai/quickstart/blob/itay%40-2147955467-opensource_repo/examples/retraining_notebook.ipynb#offline=true&sandboxMode=true\" target=\"_parent\"><img src=\"https://colab.research.google.com/assets/colab-badge.svg\" alt=\"Open In Colab\"/></a>"
      ]
    },
    {
      "cell_type": "markdown",
      "source": [
        "---\n",
        "## 🚀 Setup\n",
        "\n",
        "Start out by preparing requirements before starting getting insghits:\n",
        "1. Install with dependenceis\n",
        "2. import libraries and declare parameters \n",
        "3. Get Superwise Token\n",
        "---"
      ],
      "metadata": {
        "id": "2UBcdyuzmDta"
      },
      "id": "2UBcdyuzmDta"
    },
    {
      "cell_type": "markdown",
      "id": "3c700160-2624-4309-8f54-5a295d230bf9",
      "metadata": {
        "tags": [],
        "id": "3c700160-2624-4309-8f54-5a295d230bf9"
      },
      "source": [
        "**🪄 Declare on Params for this Notebook**"
      ]
    },
    {
      "cell_type": "code",
      "execution_count": null,
      "id": "1835a0b4-6589-43a7-8e94-9ffcaf72b4a5",
      "metadata": {
        "id": "1835a0b4-6589-43a7-8e94-9ffcaf72b4a5"
      },
      "outputs": [],
      "source": [
        "ACCOUNT_NAME = \"\"\n",
        "CLIENT_ID = ''\n",
        "SECRET = ''\n",
        "MODEL_NAME = ''\n",
        "VERSION_NAME = ''\n",
        "FROM_DATE = ''\n",
        "TO_DATE = ''"
      ]
    },
    {
      "cell_type": "markdown",
      "id": "7dec86c9-8307-4c74-9641-392efb8bec8a",
      "metadata": {
        "tags": [],
        "id": "7dec86c9-8307-4c74-9641-392efb8bec8a"
      },
      "source": [
        "**Install And Imports**"
      ]
    },
    {
      "cell_type": "code",
      "execution_count": null,
      "id": "85602f22-80eb-4c58-ba49-922f89e34f7c",
      "metadata": {
        "id": "85602f22-80eb-4c58-ba49-922f89e34f7c"
      },
      "outputs": [],
      "source": [
        "%%sh\n",
        "pip install -q \"jupyterlab>=3\" \"ipywidgets>=7.6\"\n",
        "pip install jupyter-plotly-dash jupyter-dash dash==2.1.0\n",
        "pip install -q plotly==5.4.0\n",
        "pip install tornado"
      ]
    },
    {
      "cell_type": "code",
      "execution_count": null,
      "id": "f011d05a-4236-4e8d-8b82-6f247065b414",
      "metadata": {
        "id": "f011d05a-4236-4e8d-8b82-6f247065b414"
      },
      "outputs": [],
      "source": [
        "import pandas as pd\n",
        "import matplotlib.pyplot as plt\n",
        "import json\n",
        "import seaborn as sns\n",
        "import numpy as np\n",
        "from dash import Dash, dash_table\n",
        "import pandas as pd\n",
        "import datetime\n",
        "from scipy.cluster.hierarchy import dendrogram, linkage\n",
        "from scipy.cluster.hierarchy import fcluster\n",
        "from scipy.cluster import hierarchy as hc\n",
        "from matplotlib import colors as mat_colors\n",
        "from matplotlib.gridspec import GridSpec\n",
        "import plotly.graph_objects as go\n",
        "from matplotlib import pyplot as plt\n",
        "\n",
        "\n",
        "pd.options.plotting.backend = \"plotly\"\n",
        "plt.rcParams[\"figure.figsize\"] = [24,10]\n",
        "plt.rcParams[\"figure.autolayout\"] = True\n",
        "import requests"
      ]
    },
    {
      "cell_type": "code",
      "execution_count": null,
      "id": "e5ec3584-5a58-4580-85ba-65fb1e362236",
      "metadata": {
        "id": "e5ec3584-5a58-4580-85ba-65fb1e362236"
      },
      "outputs": [],
      "source": [
        "URL_PREFIX = f\"https://portal.superwise.ai/{ACCOUNT_NAME}\""
      ]
    },
    {
      "cell_type": "markdown",
      "id": "f7b2d323-815a-42eb-b38f-8e1481daa08b",
      "metadata": {
        "id": "f7b2d323-815a-42eb-b38f-8e1481daa08b"
      },
      "source": [
        "**Get Token**"
      ]
    },
    {
      "cell_type": "code",
      "execution_count": null,
      "id": "582de447-3fe1-43f4-9a29-dd296dfbfb33",
      "metadata": {
        "id": "582de447-3fe1-43f4-9a29-dd296dfbfb33"
      },
      "outputs": [],
      "source": [
        "url = \"https://auth.superwise.ai/identity/resources/auth/v1/api-token\"\n",
        "\n",
        "headers = {\n",
        "    \"Accept\": \"application/json\",\n",
        "    \"Content-Type\": \"application/json\"\n",
        "}\n",
        "payload = {\n",
        "    \"clientId\": CLIENT_ID,\n",
        "    \"secret\": SECRET\n",
        "}\n",
        "\n",
        "res = requests.post(url, json=payload, headers=headers)\n",
        "res.raise_for_status()\n",
        "token = res.json()['accessToken']\n",
        "HEADERS = {\"Authorization\": f\"Bearer {token}\"}"
      ]
    },
    {
      "cell_type": "markdown",
      "id": "ee3479bb-72e5-4f93-8598-74777a2312f8",
      "metadata": {
        "id": "ee3479bb-72e5-4f93-8598-74777a2312f8"
      },
      "source": [
        "**Extract model_id and version_id** - Hack should be remove "
      ]
    },
    {
      "cell_type": "code",
      "execution_count": null,
      "id": "8d61499d-237f-4a76-903c-6a76fc8c40ff",
      "metadata": {
        "id": "8d61499d-237f-4a76-903c-6a76fc8c40ff"
      },
      "outputs": [],
      "source": [
        "request_url  = f'{URL_PREFIX}/admin/v1/models?name={MODEL_NAME}'\n",
        "res = requests.get(request_url, headers=HEADERS)\n",
        "res.raise_for_status()\n",
        "MODEL_ID=res.json()[0]['id']"
      ]
    },
    {
      "cell_type": "code",
      "execution_count": null,
      "id": "93e9844f-de99-4a71-bb87-5b1949782d35",
      "metadata": {
        "id": "93e9844f-de99-4a71-bb87-5b1949782d35"
      },
      "outputs": [],
      "source": [
        "request_url  = f'{URL_PREFIX}/model/v1/versions?task_id={MODEL_ID}'\n",
        "res = requests.get(request_url, headers=HEADERS)\n",
        "res.raise_for_status()\n",
        "VERSION_ID = res.json()[0]['id']"
      ]
    },
    {
      "cell_type": "markdown",
      "id": "0aaac36d-46ac-42d5-a098-551322524ac3",
      "metadata": {
        "id": "0aaac36d-46ac-42d5-a098-551322524ac3"
      },
      "source": [
        "# 🏃 Retraining Notebook \n",
        "By analyzing model production behavior, this notebook helps you to better understand your model data and decision, and how and when to retrain your models.  \n",
        "The Notebook covers the following topics:  \n",
        "\n",
        "**[1️⃣. Data Dna + Clustering 🧬](#dna)**\n",
        "\n",
        "**[2️⃣. Exclude days based on incidents amount 🆘 ](#incident)**\n",
        "\n",
        "**[3️⃣. Most drifted features (relative to baseline) 📈](#drift)**\n",
        "\n",
        "**[4️⃣. Most drifted segments (relative to baseline) 🌎 ](#segment)**\n",
        "\n"
      ]
    },
    {
      "cell_type": "markdown",
      "id": "0ab2ec9d-2d0d-459e-8b4c-1476852b22a4",
      "metadata": {
        "tags": [],
        "id": "0ab2ec9d-2d0d-459e-8b4c-1476852b22a4"
      },
      "source": [
        "<a id='dna'></a>\n",
        "## 1️⃣. 🧬 Data DNA Insights\n",
        "Data DNA will gives you the understading on how the data is changed between dates and suggest potential datasets clusters based on similar distribution."
      ]
    },
    {
      "cell_type": "code",
      "execution_count": null,
      "id": "eba125af-7563-4292-ae3b-8feb6c2ef76e",
      "metadata": {
        "id": "eba125af-7563-4292-ae3b-8feb6c2ef76e"
      },
      "outputs": [],
      "source": [
        "def plotMatrix(matrix, ax=None, title='Distance Matrix', cbar=True, show_ticks=True, figsize=(20,12)):\n",
        "    if ax is None:\n",
        "        fig, ax = plt.subplots(figsize=figsize)\n",
        "        \n",
        "    scale_max_val = max(0.1, matrix.max().max())\n",
        "    \n",
        "    if show_ticks:\n",
        "        show_ticks = 'auto'\n",
        "    \n",
        "    mat = sns.heatmap(matrix, square=True, annot=False, xticklabels=show_ticks, yticklabels=show_ticks,\n",
        "                      vmax=scale_max_val, vmin=0, cmap=\"Blues\", ax=ax)\n",
        "    \n",
        "    \n",
        "    if title:\n",
        "        ax.set_title(title)"
      ]
    },
    {
      "cell_type": "code",
      "execution_count": null,
      "id": "16c11570-719a-44cb-8b7b-5e9218854d17",
      "metadata": {
        "id": "16c11570-719a-44cb-8b7b-5e9218854d17"
      },
      "outputs": [],
      "source": [
        "DNA_URL = f\"{URL_PREFIX}/dna/v1/dna?task_id={MODEL_ID}\"\n",
        "params = {\n",
        "    'version_id': VERSION_ID,\n",
        "    \"from_ts\": FROM_DATE,\n",
        "    \"to_ts\": TO_DATE\n",
        "}\n",
        "res = requests.get(DNA_URL, headers=HEADERS, params=params)\n",
        "res.raise_for_status()\n",
        "matrix = json.loads(res.content)['results']"
      ]
    },
    {
      "cell_type": "code",
      "execution_count": null,
      "id": "9584ce81-7c86-4378-9e40-995f446f8d9c",
      "metadata": {
        "id": "9584ce81-7c86-4378-9e40-995f446f8d9c"
      },
      "outputs": [],
      "source": [
        "matrix = pd.DataFrame(\n",
        "    matrix['records'], \n",
        "    index=pd.to_datetime(matrix['dates'], unit='s').date, \n",
        "    columns=pd.to_datetime(matrix['dates'], unit='s').date\n",
        ")"
      ]
    },
    {
      "cell_type": "code",
      "execution_count": null,
      "id": "92fa8ae3-a062-4f16-951f-41a0e2bfaa75",
      "metadata": {
        "id": "92fa8ae3-a062-4f16-951f-41a0e2bfaa75"
      },
      "outputs": [],
      "source": [
        "plotMatrix(matrix)"
      ]
    },
    {
      "cell_type": "markdown",
      "source": [
        "#### 👥  Create hierarchical groups"
      ],
      "metadata": {
        "id": "wCjHXzxy9lVc"
      },
      "id": "wCjHXzxy9lVc"
    },
    {
      "cell_type": "code",
      "execution_count": null,
      "id": "638da6d9-81f4-4b9c-b6bb-fbbe2c4f362a",
      "metadata": {
        "id": "638da6d9-81f4-4b9c-b6bb-fbbe2c4f362a"
      },
      "outputs": [],
      "source": [
        "corr_condensed = hc.distance.squareform(matrix)\n",
        "print(corr_condensed.shape)\n",
        "z = hc.linkage(corr_condensed, method='complete')\n",
        "print(f\"Amount of groups - {z.shape}\")\n",
        "plt.figure(figsize=(20, 5))\n",
        "plt.rcParams.update({'font.size': 10})\n",
        "dendrogram = hc.dendrogram(z, labels=matrix.columns, color_threshold=0.03)\n",
        "plt.show() "
      ]
    },
    {
      "cell_type": "code",
      "execution_count": null,
      "id": "7b39caba-fe72-41d7-8172-dcf477e6947e",
      "metadata": {
        "id": "7b39caba-fe72-41d7-8172-dcf477e6947e"
      },
      "outputs": [],
      "source": [
        "clusters = hc.fcluster(z, 1.0, criterion='distance')\n",
        "clusters.shape"
      ]
    },
    {
      "cell_type": "code",
      "execution_count": null,
      "id": "646ab57c-7aeb-4a58-a23e-20dd251240a2",
      "metadata": {
        "id": "646ab57c-7aeb-4a58-a23e-20dd251240a2"
      },
      "outputs": [],
      "source": [
        "from mpl_toolkits.axes_grid1 import make_axes_locatable\n",
        "def plot_data_dna(matrix, clusters):\n",
        "    colors_map = {i:c for i,c in enumerate(plt.rcParams['axes.prop_cycle'].by_key()['color'])}\n",
        "    cluster_bar = pd.Series(clusters, index=matrix.index).map(colors_map)\n",
        "\n",
        "    fig, (ax1, ax2) = plt.subplots(2, 1, gridspec_kw={'height_ratios':[20, 1]}, figsize=(15,12), sharex=False)\n",
        "\n",
        "    sns.heatmap(matrix, ax= ax1, cmap='Blues')\n",
        "    ax1.tick_params(axis='x', direction='out', pad=40)\n",
        "\n",
        "    p1 = ax1.get_position().bounds\n",
        "    p2 = ax2.get_position().bounds\n",
        "    p2_new = list(p2)\n",
        "    p2_new[0] = p1[0]\n",
        "    p2_new[1] = p1[1] - p2[3] - 0.01\n",
        "    p2_new[2] = p1[2]\n",
        "    ax2.set_position(p2_new)\n",
        "\n",
        "    ax2.bar(x=matrix.index,height=[1]*matrix.shape[0], width=1.0, color=cluster_bar)\n",
        "    ax2.margins(0.00)  \n",
        "    ax2.tick_params(labelbottom=False, bottom=False)\n",
        "\n",
        "    _ = plt.xticks(rotation=90)\n",
        "    \n",
        "    return fig\n"
      ]
    },
    {
      "cell_type": "markdown",
      "source": [
        "#### 👥 Find different groups of dates with similar data"
      ],
      "metadata": {
        "id": "GbZxS3L6-bq8"
      },
      "id": "GbZxS3L6-bq8"
    },
    {
      "cell_type": "code",
      "execution_count": null,
      "id": "0b6e189d-1c93-4c3f-ba0c-77b723164e09",
      "metadata": {
        "id": "0b6e189d-1c93-4c3f-ba0c-77b723164e09"
      },
      "outputs": [],
      "source": [
        "plot_data_dna(matrix, clusters)"
      ]
    },
    {
      "cell_type": "markdown",
      "source": [
        "#### 👥 Retraining Groups"
      ],
      "metadata": {
        "id": "DUwqw4bqL1Jb"
      },
      "id": "DUwqw4bqL1Jb"
    },
    {
      "cell_type": "code",
      "source": [
        "groups_df = pd.DataFrame(data={\"Dates\" : list(matrix.columns), \"Group\" : clusters}).groupby('Group').agg(list).reset_index()\n",
        "groups_df"
      ],
      "metadata": {
        "id": "C1GIOV6DKML9"
      },
      "id": "C1GIOV6DKML9",
      "execution_count": null,
      "outputs": []
    },
    {
      "cell_type": "markdown",
      "id": "493ac328-5fe6-4080-b6d0-1511f5fe37b3",
      "metadata": {
        "tags": [],
        "id": "493ac328-5fe6-4080-b6d0-1511f5fe37b3"
      },
      "source": [
        "<a id='incident'></a>\n",
        "## 2️⃣. 🆘 Exclude days based on incidents amount\n",
        "\n",
        "This will gives you the ability to understand if the data in this day should be used in the retraiing of the new model.     \n",
        "\n",
        "Parameter to Set:    \n",
        "\n",
        "`THRESHOLD` - this parameter will color days in red with more incidents than the THRESHOLD. (Default: 5)"
      ]
    },
    {
      "cell_type": "code",
      "source": [
        "THRESHOLD = 5"
      ],
      "metadata": {
        "id": "CG8a2v2zM_wP"
      },
      "id": "CG8a2v2zM_wP",
      "execution_count": null,
      "outputs": []
    },
    {
      "cell_type": "code",
      "execution_count": null,
      "id": "4a12af87-e4a6-4e61-a37b-d71d2922ecf7",
      "metadata": {
        "id": "4a12af87-e4a6-4e61-a37b-d71d2922ecf7"
      },
      "outputs": [],
      "source": [
        "url = f\"{URL_PREFIX}/monitor/v1/incidents?task_id={MODEL_ID}&status=Open\"\n",
        "res = requests.get(url,headers=HEADERS)\n",
        "opened_incidents_df = pd.DataFrame(res.json())\n",
        "opened_incidents_df.set_index('id',inplace=True)\n",
        "url = f\"{URL_PREFIX}/monitor/v1/incidents?task_id={MODEL_ID}&status=Closed\"\n",
        "res = requests.get(url,headers=HEADERS)\n",
        "closed_incidents_df = pd.DataFrame(res.json())\n",
        "closed_incidents_df.set_index('id',inplace=True)\n",
        "incidents_df = pd.concat([opened_incidents_df,closed_incidents_df])\n"
      ]
    },
    {
      "cell_type": "code",
      "source": [
        "incidents_ids = incidents_df.index.to_list()\n",
        "incidents_df = list()\n",
        "\n",
        "for incidents_id in incidents_ids:\n",
        "  url = f\"{URL_PREFIX}/monitor/v1/incidents/{incidents_id}\"  \n",
        "  res = requests.get(url,headers=HEADERS)\n",
        "  res.raise_for_status()\n",
        "  incidents_df.append(res.json())\n",
        "\n",
        "incidents_df = pd.DataFrame(incidents_df)"
      ],
      "metadata": {
        "id": "cg_xPg5_Eh5w"
      },
      "id": "cg_xPg5_Eh5w",
      "execution_count": null,
      "outputs": []
    },
    {
      "cell_type": "code",
      "execution_count": null,
      "id": "a233735b-747f-4e40-b9ba-6fd58a2cfeab",
      "metadata": {
        "id": "a233735b-747f-4e40-b9ba-6fd58a2cfeab"
      },
      "outputs": [],
      "source": [
        "incidents_df[\"started_at\"] = pd.to_datetime(incidents_df[\"started_at\"], unit='s') \n",
        "incidents_df.loc[incidents_df['ended_at'].notna(), 'ended_at'] = pd.to_datetime(incidents_df[incidents_df['ended_at'].notna()][\"ended_at\"], unit='s') \n",
        "incidents_df.loc[incidents_df['ended_at'].isna(), 'ended_at'] = datetime.datetime.utcnow().date()"
      ]
    },
    {
      "cell_type": "code",
      "source": [
        "incidents_df = incidents_df[incidents_df['started_at']> FROM_DATE]"
      ],
      "metadata": {
        "id": "SbfseQ6SGRnj"
      },
      "id": "SbfseQ6SGRnj",
      "execution_count": null,
      "outputs": []
    },
    {
      "cell_type": "code",
      "execution_count": null,
      "id": "cd66ad7c-aa68-489e-895b-2e9127c6dd84",
      "metadata": {
        "id": "cd66ad7c-aa68-489e-895b-2e9127c6dd84"
      },
      "outputs": [],
      "source": [
        "incidents_df['date'] = incidents_df.apply(lambda row: pd.date_range(row['started_at'], row['ended_at'], freq='D'), axis=1)\n",
        "incidents_df = incidents_df.explode('date').reset_index() \\\n",
        "        .drop(columns=['started_at', 'ended_at']) \\\n",
        "        .rename(columns={'date': 'date_start'}) \\"
      ]
    },
    {
      "cell_type": "code",
      "execution_count": null,
      "id": "b083f663-272b-44b8-835b-2a3f14497360",
      "metadata": {
        "id": "b083f663-272b-44b8-835b-2a3f14497360"
      },
      "outputs": [],
      "source": [
        "opened_incidents_df = incidents_df['date_start'].dt.date.value_counts().sort_values(ascending=False).to_frame().reset_index().rename(columns={'index' : 'date'})"
      ]
    },
    {
      "cell_type": "markdown",
      "id": "ea3317b4-ae83-45d2-b0b8-ff505075f21d",
      "metadata": {
        "id": "ea3317b4-ae83-45d2-b0b8-ff505075f21d"
      },
      "source": [
        "#### Amount of opened incidents over time"
      ]
    },
    {
      "cell_type": "code",
      "execution_count": null,
      "id": "a7b25fa7-71e1-4f1e-b9d5-7f31768823d7",
      "metadata": {
        "id": "a7b25fa7-71e1-4f1e-b9d5-7f31768823d7"
      },
      "outputs": [],
      "source": [
        "values = np.array(list(opened_incidents_df['date_start'].tolist()))   \n",
        "idx = np.array(list(opened_incidents_df['date'].tolist())) \n",
        "clrs = ['red' if (x > THRESHOLD) else 'green' for x in values ]\n",
        "plt.bar(idx, values, color=clrs)\n",
        "plt.show()"
      ]
    },
    {
      "cell_type": "markdown",
      "id": "db063bc7-3af7-4a12-a24e-8780d3771593",
      "metadata": {
        "id": "db063bc7-3af7-4a12-a24e-8780d3771593"
      },
      "source": [
        "#### Top 10 Dates with the highest amount of incidents"
      ]
    },
    {
      "cell_type": "code",
      "execution_count": null,
      "id": "99e0286b-4e6c-4da5-9688-07f79347bf4d",
      "metadata": {
        "id": "99e0286b-4e6c-4da5-9688-07f79347bf4d"
      },
      "outputs": [],
      "source": [
        "top_ten_dates_df = incidents_df['date_start'].dt.date.value_counts().sort_values(ascending=False).to_frame().head(10).reset_index().rename(columns={'index' : 'date'})"
      ]
    },
    {
      "cell_type": "code",
      "source": [
        "top_ten_dates_df"
      ],
      "metadata": {
        "id": "yOBYq9O5GvoS"
      },
      "id": "yOBYq9O5GvoS",
      "execution_count": null,
      "outputs": []
    },
    {
      "cell_type": "markdown",
      "id": "bed88f4b-f5e2-4aaf-b8de-2d09b13ae658",
      "metadata": {
        "tags": [],
        "id": "bed88f4b-f5e2-4aaf-b8de-2d09b13ae658"
      },
      "source": [
        "<a id='drift'></a>\n",
        "## 3️⃣. 📈 Most drifted features\n",
        "\n",
        "Parameter to Set:    \n",
        "\n",
        "`THRESHOLD` - this parameter will color features that are more drifted than threshold in red (Default: 5)"
      ]
    },
    {
      "cell_type": "markdown",
      "source": [
        "THRESHOLD = *5*"
      ],
      "metadata": {
        "id": "B-Y-QbuEStpL"
      },
      "id": "B-Y-QbuEStpL"
    },
    {
      "cell_type": "code",
      "source": [
        "THRESHOLD = 5"
      ],
      "metadata": {
        "id": "8NaJgD9bSvY8"
      },
      "id": "8NaJgD9bSvY8",
      "execution_count": null,
      "outputs": []
    },
    {
      "cell_type": "code",
      "execution_count": null,
      "id": "0912146f-377c-49fc-8073-ec97299fcefc",
      "metadata": {
        "id": "0912146f-377c-49fc-8073-ec97299fcefc"
      },
      "outputs": [],
      "source": [
        "request_url  = f'{URL_PREFIX}/model/v1/versions/{VERSION_ID}/data_entities'\n",
        "res = requests.get(request_url, headers=HEADERS)\n",
        "res.raise_for_status()\n",
        "\n",
        "features = pd.DataFrame(res.json())\n",
        "version_entities = pd.DataFrame(res.json(), columns=[\"data_entity\", \"feature_importance\"])\n",
        "flatten_version_entities = pd.json_normalize(version_entities[\"data_entity\"], max_level=0)\n",
        "flatten_version_entities[\"feature_importance\"] = version_entities[\"feature_importance\"]\n",
        "empty_flatten_version_entities = pd.DataFrame(\n",
        "    columns=[\"id\", \"name\", \"role\", \"type\", \"secondary_type\", \"summary\", \"dimension_start_ts\"]\n",
        ")\n",
        "features = empty_flatten_version_entities.append(flatten_version_entities)\n",
        "features['role'] = pd.json_normalize(features['role'])['description']\n",
        "features = features[features['role'] == 'feature']\n",
        "features = features[[\"id\",\"name\",\"type\",\"feature_importance\"]]\n",
        "\n",
        "features.head()"
      ]
    },
    {
      "cell_type": "code",
      "execution_count": null,
      "id": "00ac48ac-74b1-4b82-81bd-6f6a5c690641",
      "metadata": {
        "id": "00ac48ac-74b1-4b82-81bd-6f6a5c690641"
      },
      "outputs": [],
      "source": [
        "ENTITY_IDS= features.id.to_list()\n",
        "print(len(ENTITY_IDS))"
      ]
    },
    {
      "cell_type": "code",
      "execution_count": null,
      "id": "4777ffff-e644-458d-9d67-1a9c674cf1ac",
      "metadata": {
        "id": "4777ffff-e644-458d-9d67-1a9c674cf1ac"
      },
      "outputs": [],
      "source": [
        "request_url  = f'{URL_PREFIX}/kpi/v1/metrics-functions'\n",
        "res = requests.get(request_url, headers=HEADERS)\n",
        "res.raise_for_status()\n",
        "metrics = pd.DataFrame(res.json()) \n",
        "metrics.head()"
      ]
    },
    {
      "cell_type": "code",
      "execution_count": null,
      "id": "51a62846-e032-477e-8fc4-193a467b4a7e",
      "metadata": {
        "id": "51a62846-e032-477e-8fc4-193a467b4a7e"
      },
      "outputs": [],
      "source": [
        "METRIC_ID=metrics.set_index('name').loc['distribution_shift']['id'] \n",
        "METRIC_ID"
      ]
    },
    {
      "cell_type": "code",
      "execution_count": null,
      "id": "582bf4bd-f288-48e2-a0f1-ee7de61d7180",
      "metadata": {
        "id": "582bf4bd-f288-48e2-a0f1-ee7de61d7180"
      },
      "outputs": [],
      "source": [
        "request_url  = f'{URL_PREFIX}/kpi/v1/metrics'\n",
        "requests_params = dict(task_id=MODEL_ID, vesrion_id=VERSION_ID, entity_id=ENTITY_IDS, segment_id=-1, metric_id=[METRIC_ID], time_unit='D')\n",
        "res = requests.get(request_url,params=requests_params,headers=HEADERS)\n",
        "res.raise_for_status()\n",
        "results_df =  pd.DataFrame(res.json())\n",
        "results_df['entity_name'] = results_df['entity_id'].map(features.set_index('id')['name'].to_dict())\n",
        "results_df['date_hour'] = pd.to_datetime(results_df['date_hour'])\n",
        "results_df.head()"
      ]
    },
    {
      "cell_type": "code",
      "execution_count": null,
      "id": "026ca055-2266-4e48-8509-d0b721775f5b",
      "metadata": {
        "id": "026ca055-2266-4e48-8509-d0b721775f5b"
      },
      "outputs": [],
      "source": [
        "results_df = results_df[results_df['date_hour'].max() == results_df['date_hour']]\n",
        "results_df = results_df[['entity_name','value']]\n",
        "results_df = results_df.sort_values('value', ascending=False)"
      ]
    },
    {
      "cell_type": "markdown",
      "id": "0d887fcf-8e6b-4f0d-a658-10aab57de2b4",
      "metadata": {
        "id": "0d887fcf-8e6b-4f0d-a658-10aab57de2b4"
      },
      "source": [
        "#### Drift score per feature"
      ]
    },
    {
      "cell_type": "code",
      "execution_count": null,
      "id": "58560dd5-0c01-44cd-ba54-3010e0f982d8",
      "metadata": {
        "id": "58560dd5-0c01-44cd-ba54-3010e0f982d8"
      },
      "outputs": [],
      "source": [
        "results_df.sort_values('value', ascending=False).set_index('entity_name').plot.bar()"
      ]
    },
    {
      "cell_type": "markdown",
      "id": "17486125-649c-4415-85fd-84cc68604ca9",
      "metadata": {
        "id": "17486125-649c-4415-85fd-84cc68604ca9"
      },
      "source": [
        "<a id='segment'></a>\n",
        "##4️⃣. 🌎 Most drifted segments\n",
        "\n",
        "Parameter to Set:    \n",
        "\n",
        "`THRESHOLD` - this parameter will color features that are more drifted than threshold in red (Default: 5)"
      ]
    },
    {
      "cell_type": "code",
      "source": [
        "THRESHOLD = 12.5"
      ],
      "metadata": {
        "id": "rqnb1v7NzWZa"
      },
      "id": "rqnb1v7NzWZa",
      "execution_count": null,
      "outputs": []
    },
    {
      "cell_type": "code",
      "source": [
        "METRIC_ID=metrics.set_index('name').loc['quantity']['id'] \n",
        "METRIC_ID"
      ],
      "metadata": {
        "id": "vh2s_rjjQBL5"
      },
      "id": "vh2s_rjjQBL5",
      "execution_count": null,
      "outputs": []
    },
    {
      "cell_type": "code",
      "source": [
        "request_url  = f'{URL_PREFIX}/kpi/v1/metrics'\n",
        "requests_params = dict(task_id=MODEL_ID, vesrion_id=VERSION_ID, entity_id=-1, metric_id=[METRIC_ID], time_unit='D')\n",
        "res = requests.get(request_url,params=requests_params,headers=HEADERS)\n",
        "res.raise_for_status()\n",
        "results_df =  pd.DataFrame(res.json())\n",
        "results_df['entity_name'] = results_df['entity_id'].map(features.set_index('id')['name'].to_dict())\n",
        "results_df['date_hour'] = pd.to_datetime(results_df['date_hour'])\n",
        "results_df = results_df[['segment_id','value']]\n",
        "results_df = results_df.groupby('segment_id').agg('sum').reset_index()\n",
        "results_df['segment_size'] = results_df['value'] / float(results_df['value'].sum()) \n",
        "results_df = results_df[['segment_id','segment_size']]\n",
        "results_df.head()"
      ],
      "metadata": {
        "id": "xxDdsXovQFVh"
      },
      "id": "xxDdsXovQFVh",
      "execution_count": null,
      "outputs": []
    },
    {
      "cell_type": "code",
      "execution_count": null,
      "id": "3be2edf4-0801-4a7f-9af8-d81af3974539",
      "metadata": {
        "id": "3be2edf4-0801-4a7f-9af8-d81af3974539"
      },
      "outputs": [],
      "source": [
        "request_url  = f'{URL_PREFIX}/admin/v1/segments?task_id={MODEL_ID}'\n",
        "res = requests.get(request_url,params=requests_params,headers=HEADERS)\n",
        "res.raise_for_status()\n",
        "segments_df = pd.DataFrame(res.json())\n",
        "segments_df = segments_df[['id','name']].rename(columns={'id': 'segment_id'})\n",
        "segments_df.head(5)"
      ]
    },
    {
      "cell_type": "code",
      "execution_count": null,
      "id": "f907f57d-3bf3-446b-9aea-8fc32921b999",
      "metadata": {
        "id": "f907f57d-3bf3-446b-9aea-8fc32921b999"
      },
      "outputs": [],
      "source": [
        "segments_df = pd.merge(segments_df, results_df, how='left', on=['segment_id'],suffixes=['_segments','_kpis'])\n",
        "segments_df.head()"
      ]
    },
    {
      "cell_type": "code",
      "execution_count": null,
      "id": "87a944f6-c470-47e5-aafb-4a46a8c65ddb",
      "metadata": {
        "id": "87a944f6-c470-47e5-aafb-4a46a8c65ddb"
      },
      "outputs": [],
      "source": [
        "metrics.set_index('name').loc['data_drift'] \n",
        "METRIC_ID=metrics.set_index('name').loc['data_drift']['id'] \n",
        "METRIC_ID"
      ]
    },
    {
      "cell_type": "code",
      "execution_count": null,
      "id": "123557bc-9e0f-46be-8c25-6188b01e1c8a",
      "metadata": {
        "id": "123557bc-9e0f-46be-8c25-6188b01e1c8a"
      },
      "outputs": [],
      "source": [
        "request_url  = f'{URL_PREFIX}/kpi/v1/metrics'\n",
        "requests_params = dict(task_id=MODEL_ID, vesrion_id=VERSION_ID, entity_id=-1, metric_id=[METRIC_ID], time_unit='D')\n",
        "res = requests.get(request_url,params=requests_params,headers=HEADERS)\n",
        "res.raise_for_status()\n",
        "results_df =  pd.DataFrame(res.json())\n",
        "results_df['entity_name'] = results_df['entity_id'].map(features.set_index('id')['name'].to_dict())\n",
        "results_df['date_hour'] = pd.to_datetime(results_df['date_hour'])\n",
        "results_df.head()"
      ]
    },
    {
      "cell_type": "code",
      "execution_count": null,
      "id": "db8c778f-9820-4fcf-a68d-9d5ee3dab146",
      "metadata": {
        "id": "db8c778f-9820-4fcf-a68d-9d5ee3dab146"
      },
      "outputs": [],
      "source": [
        "results_df = results_df.groupby('segment_id').mean().reset_index()[[\"segment_id\",\"value\"]]\n",
        "results_df.head()"
      ]
    },
    {
      "cell_type": "code",
      "execution_count": null,
      "id": "587094ef-9162-4cbd-b29b-32cb7080fc17",
      "metadata": {
        "id": "587094ef-9162-4cbd-b29b-32cb7080fc17"
      },
      "outputs": [],
      "source": [
        "segments_df = pd.merge(segments_df,results_df,how='left').fillna(0)\n",
        "segments_drift_df = segments_df[[\"name\",\"value\"]]\n",
        "segments_drift_df.head()"
      ]
    },
    {
      "cell_type": "markdown",
      "id": "e54e8681-4c96-46d5-931c-330469432c3f",
      "metadata": {
        "id": "e54e8681-4c96-46d5-931c-330469432c3f"
      },
      "source": [
        "#### Mean Segment Drift "
      ]
    },
    {
      "cell_type": "code",
      "execution_count": null,
      "id": "6d4883c7-8907-4564-845d-5f4cac63da9a",
      "metadata": {
        "id": "6d4883c7-8907-4564-845d-5f4cac63da9a"
      },
      "outputs": [],
      "source": [
        "from matplotlib import pyplot as plt\n",
        "\n",
        "segments_drift_df.sort_values('value',ascending=False).set_index('name').plot.bar()"
      ]
    },
    {
      "cell_type": "markdown",
      "source": [
        "#### Realtionship between segment size and segment drift"
      ],
      "metadata": {
        "id": "lPQ4J1lGyO8X"
      },
      "id": "lPQ4J1lGyO8X"
    },
    {
      "cell_type": "code",
      "source": [
        "import matplotlib.pyplot as plt\n",
        "import numpy as np\n",
        "x = segments_df['segment_size'].to_list()\n",
        "y = segments_df['value'].to_list()\n",
        "colors = list(map(lambda x: \"red\" if x > THRESHOLD else \"green\", y))\n",
        "labels = segments_df['name'].to_list()\n",
        "sns.scatterplot(data=segments_df,x='segment_size',y='value')\n",
        "for i in range(segments_df.shape[0]):\n",
        " plt.text(s=labels[i],x=x[i],y=y[i],\n",
        "          fontdict=dict(color=colors[i],size=10))\n",
        "plt.xlabel(\"Segment Size\") #x label\n",
        "plt.ylabel(\"Drift Value\") #y label\n",
        "\n",
        "plt.show()"
      ],
      "metadata": {
        "id": "bULzM7Uc_rT7"
      },
      "id": "bULzM7Uc_rT7",
      "execution_count": null,
      "outputs": []
    },
    {
      "cell_type": "code",
      "source": [
        ""
      ],
      "metadata": {
        "id": "3uCOLxiVN1a5"
      },
      "id": "3uCOLxiVN1a5",
      "execution_count": null,
      "outputs": []
    }
  ],
  "metadata": {
    "kernelspec": {
      "display_name": "Python 3 (ipykernel)",
      "language": "python",
      "name": "python3"
    },
    "language_info": {
      "codemirror_mode": {
        "name": "ipython",
        "version": 3
      },
      "file_extension": ".py",
      "mimetype": "text/x-python",
      "name": "python",
      "nbconvert_exporter": "python",
      "pygments_lexer": "ipython3",
      "version": "3.9.7"
    },
    "colab": {
      "name": "Custom Retraining Notebook",
      "provenance": [],
      "collapsed_sections": [],
      "toc_visible": true,
      "include_colab_link": true
    }
  },
  "nbformat": 4,
  "nbformat_minor": 5
}
